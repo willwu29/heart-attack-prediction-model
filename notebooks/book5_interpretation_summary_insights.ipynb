{
 "cells": [
  {
   "cell_type": "markdown",
   "metadata": {},
   "source": [
    "## Heart Attack Prediction Model \n",
    "## Final Model Interpretation\n",
    "## Business Solutions\n",
    "\n",
    "---"
   ]
  },
  {
   "cell_type": "markdown",
   "metadata": {},
   "source": [
    "\n",
    "## Author: Will Wu\n",
    "\n",
    "## Date: 2025-04-02\n",
    "---"
   ]
  },
  {
   "cell_type": "markdown",
   "metadata": {},
   "source": [
    "## Introduction\n",
    "This notebook is composed of three sections:\n",
    "1. Interpreting the final model: **to be filled**\n",
    "2. Analysis of false negatives and false positives: **to be filled**\n",
    "3. Project Summary and Insights: **to be filled**\n",
    "\n",
    "---"
   ]
  },
  {
   "cell_type": "markdown",
   "metadata": {},
   "source": [
    "## **Table of Contents** ##\n",
    "1. [Setup and Load Data](#1)\n",
    "2. [Reproduct the Predictions](#2)\n",
    "3. [Interpreting the Models](#2)\n",
    "\n",
    "\n",
    "---"
   ]
  },
  {
   "cell_type": "markdown",
   "metadata": {},
   "source": [
    "## 1. Setup and Loading<a class=\"anchor\" id=\"1\"></a>"
   ]
  },
  {
   "cell_type": "code",
   "execution_count": null,
   "metadata": {},
   "outputs": [],
   "source": [
    "# Import packages\n",
    "import pandas as pd\n",
    "import numpy as np\n",
    "import matplotlib.pyplot as plt\n",
    "import seaborn as sns\n",
    "import re\n",
    "from sklearn.model_selection import train_test_split\n",
    "from sklearn.metrics import accuracy_score, f1_score, precision_score, recall_score,  roc_auc_score, roc_curve\n",
    "from sklearn.metrics import classification_report, precision_recall_curve, confusion_matrix, ConfusionMatrixDisplay\n",
    "import joblib\n",
    "from model_evaluator import ModelEvaluator\n"
   ]
  },
  {
   "cell_type": "code",
   "execution_count": 2,
   "metadata": {},
   "outputs": [],
   "source": [
    "# Configure Seaborn to use 'darkgrid' as the default background style\n",
    "sns.set_style('darkgrid')\n",
    "\n",
    "# Setting figure size, fontsize globally in the notebook\n",
    "plt.rcParams[\"figure.figsize\"] = (6.0, 6.0)\n",
    "\n",
    "# Filter warnings \n",
    "from warnings import filterwarnings\n",
    "filterwarnings(action='ignore')"
   ]
  },
  {
   "cell_type": "code",
   "execution_count": 3,
   "metadata": {},
   "outputs": [],
   "source": [
    "# Load the data with feature selection\n",
    "df = pd.read_csv('../data/processed/df_feature_selected.csv')"
   ]
  },
  {
   "cell_type": "code",
   "execution_count": 4,
   "metadata": {},
   "outputs": [
    {
     "data": {
      "text/html": [
       "<div>\n",
       "<style scoped>\n",
       "    .dataframe tbody tr th:only-of-type {\n",
       "        vertical-align: middle;\n",
       "    }\n",
       "\n",
       "    .dataframe tbody tr th {\n",
       "        vertical-align: top;\n",
       "    }\n",
       "\n",
       "    .dataframe thead th {\n",
       "        text-align: right;\n",
       "    }\n",
       "</style>\n",
       "<table border=\"1\" class=\"dataframe\">\n",
       "  <thead>\n",
       "    <tr style=\"text-align: right;\">\n",
       "      <th></th>\n",
       "      <th>is_female</th>\n",
       "      <th>race_ethnicity_category</th>\n",
       "      <th>age_category</th>\n",
       "      <th>bmi_category</th>\n",
       "      <th>alcohol_drinkers</th>\n",
       "      <th>general_health</th>\n",
       "      <th>smoker_status</th>\n",
       "      <th>physical_activities</th>\n",
       "      <th>had_angina</th>\n",
       "      <th>had_stroke</th>\n",
       "      <th>had_copd</th>\n",
       "      <th>had_diabetes</th>\n",
       "      <th>had_kidney_disease</th>\n",
       "      <th>had_depressive_disorder</th>\n",
       "      <th>had_arthritis</th>\n",
       "      <th>deaf_or_hard_of_hearing</th>\n",
       "      <th>blind_or_vision_difficulty</th>\n",
       "      <th>difficulty_walking</th>\n",
       "      <th>difficulty_dressing_bathing</th>\n",
       "      <th>had_heart_attack</th>\n",
       "    </tr>\n",
       "  </thead>\n",
       "  <tbody>\n",
       "    <tr>\n",
       "      <th>0</th>\n",
       "      <td>1</td>\n",
       "      <td>White</td>\n",
       "      <td>80+</td>\n",
       "      <td>obese</td>\n",
       "      <td>No</td>\n",
       "      <td>Very good</td>\n",
       "      <td>Never</td>\n",
       "      <td>0</td>\n",
       "      <td>0</td>\n",
       "      <td>0</td>\n",
       "      <td>No</td>\n",
       "      <td>Yes</td>\n",
       "      <td>No</td>\n",
       "      <td>No</td>\n",
       "      <td>No</td>\n",
       "      <td>No</td>\n",
       "      <td>No</td>\n",
       "      <td>Yes</td>\n",
       "      <td>No</td>\n",
       "      <td>0</td>\n",
       "    </tr>\n",
       "    <tr>\n",
       "      <th>1</th>\n",
       "      <td>1</td>\n",
       "      <td>White</td>\n",
       "      <td>80+</td>\n",
       "      <td>overweight</td>\n",
       "      <td>No</td>\n",
       "      <td>Very good</td>\n",
       "      <td>Never</td>\n",
       "      <td>1</td>\n",
       "      <td>0</td>\n",
       "      <td>0</td>\n",
       "      <td>No</td>\n",
       "      <td>No</td>\n",
       "      <td>No</td>\n",
       "      <td>Yes</td>\n",
       "      <td>Yes</td>\n",
       "      <td>Yes</td>\n",
       "      <td>No</td>\n",
       "      <td>No</td>\n",
       "      <td>No</td>\n",
       "      <td>0</td>\n",
       "    </tr>\n",
       "    <tr>\n",
       "      <th>2</th>\n",
       "      <td>1</td>\n",
       "      <td>Black</td>\n",
       "      <td>80+</td>\n",
       "      <td>healthy</td>\n",
       "      <td>No</td>\n",
       "      <td>Fair</td>\n",
       "      <td>Former</td>\n",
       "      <td>1</td>\n",
       "      <td>0</td>\n",
       "      <td>0</td>\n",
       "      <td>No</td>\n",
       "      <td>No</td>\n",
       "      <td>No</td>\n",
       "      <td>No</td>\n",
       "      <td>Yes</td>\n",
       "      <td>Unknown</td>\n",
       "      <td>Yes</td>\n",
       "      <td>Yes</td>\n",
       "      <td>No</td>\n",
       "      <td>0</td>\n",
       "    </tr>\n",
       "    <tr>\n",
       "      <th>3</th>\n",
       "      <td>1</td>\n",
       "      <td>White</td>\n",
       "      <td>75-79</td>\n",
       "      <td>overweight</td>\n",
       "      <td>No</td>\n",
       "      <td>Very good</td>\n",
       "      <td>Never</td>\n",
       "      <td>1</td>\n",
       "      <td>0</td>\n",
       "      <td>0</td>\n",
       "      <td>No</td>\n",
       "      <td>No</td>\n",
       "      <td>No</td>\n",
       "      <td>Yes</td>\n",
       "      <td>Yes</td>\n",
       "      <td>No</td>\n",
       "      <td>No</td>\n",
       "      <td>Yes</td>\n",
       "      <td>No</td>\n",
       "      <td>0</td>\n",
       "    </tr>\n",
       "    <tr>\n",
       "      <th>4</th>\n",
       "      <td>1</td>\n",
       "      <td>White</td>\n",
       "      <td>75-79</td>\n",
       "      <td>overweight</td>\n",
       "      <td>Yes</td>\n",
       "      <td>Fair</td>\n",
       "      <td>Never</td>\n",
       "      <td>1</td>\n",
       "      <td>0</td>\n",
       "      <td>0</td>\n",
       "      <td>No</td>\n",
       "      <td>Yes</td>\n",
       "      <td>No</td>\n",
       "      <td>Yes</td>\n",
       "      <td>Yes</td>\n",
       "      <td>No</td>\n",
       "      <td>No</td>\n",
       "      <td>Yes</td>\n",
       "      <td>No</td>\n",
       "      <td>0</td>\n",
       "    </tr>\n",
       "  </tbody>\n",
       "</table>\n",
       "</div>"
      ],
      "text/plain": [
       "   is_female race_ethnicity_category age_category bmi_category  \\\n",
       "0          1                   White          80+        obese   \n",
       "1          1                   White          80+   overweight   \n",
       "2          1                   Black          80+      healthy   \n",
       "3          1                   White        75-79   overweight   \n",
       "4          1                   White        75-79   overweight   \n",
       "\n",
       "  alcohol_drinkers general_health smoker_status  physical_activities  \\\n",
       "0               No      Very good         Never                    0   \n",
       "1               No      Very good         Never                    1   \n",
       "2               No           Fair        Former                    1   \n",
       "3               No      Very good         Never                    1   \n",
       "4              Yes           Fair         Never                    1   \n",
       "\n",
       "   had_angina  had_stroke had_copd had_diabetes had_kidney_disease  \\\n",
       "0           0           0       No          Yes                 No   \n",
       "1           0           0       No           No                 No   \n",
       "2           0           0       No           No                 No   \n",
       "3           0           0       No           No                 No   \n",
       "4           0           0       No          Yes                 No   \n",
       "\n",
       "  had_depressive_disorder had_arthritis deaf_or_hard_of_hearing  \\\n",
       "0                      No            No                      No   \n",
       "1                     Yes           Yes                     Yes   \n",
       "2                      No           Yes                 Unknown   \n",
       "3                     Yes           Yes                      No   \n",
       "4                     Yes           Yes                      No   \n",
       "\n",
       "  blind_or_vision_difficulty difficulty_walking difficulty_dressing_bathing  \\\n",
       "0                         No                Yes                          No   \n",
       "1                         No                 No                          No   \n",
       "2                        Yes                Yes                          No   \n",
       "3                         No                Yes                          No   \n",
       "4                         No                Yes                          No   \n",
       "\n",
       "   had_heart_attack  \n",
       "0                 0  \n",
       "1                 0  \n",
       "2                 0  \n",
       "3                 0  \n",
       "4                 0  "
      ]
     },
     "execution_count": 4,
     "metadata": {},
     "output_type": "execute_result"
    }
   ],
   "source": [
    "# Check the top five rows\n",
    "df.head(5)"
   ]
  },
  {
   "cell_type": "code",
   "execution_count": 5,
   "metadata": {},
   "outputs": [],
   "source": [
    "# Load the final model: logistic regression\n",
    "final_model = joblib.load(\"../models/final_model/pipeline_logreg_final.joblib\")\n",
    "\n",
    "# Load the threshold of the model\n",
    "threshold_df = pd.read_csv(\"../models/final_model/logreg_threshold.csv\")"
   ]
  },
  {
   "cell_type": "code",
   "execution_count": 6,
   "metadata": {},
   "outputs": [
    {
     "data": {
      "text/html": [
       "<div>\n",
       "<style scoped>\n",
       "    .dataframe tbody tr th:only-of-type {\n",
       "        vertical-align: middle;\n",
       "    }\n",
       "\n",
       "    .dataframe tbody tr th {\n",
       "        vertical-align: top;\n",
       "    }\n",
       "\n",
       "    .dataframe thead th {\n",
       "        text-align: right;\n",
       "    }\n",
       "</style>\n",
       "<table border=\"1\" class=\"dataframe\">\n",
       "  <thead>\n",
       "    <tr style=\"text-align: right;\">\n",
       "      <th></th>\n",
       "      <th>model</th>\n",
       "      <th>thresholds</th>\n",
       "    </tr>\n",
       "  </thead>\n",
       "  <tbody>\n",
       "    <tr>\n",
       "      <th>0</th>\n",
       "      <td>logistic_regression</td>\n",
       "      <td>0.448738</td>\n",
       "    </tr>\n",
       "  </tbody>\n",
       "</table>\n",
       "</div>"
      ],
      "text/plain": [
       "                 model  thresholds\n",
       "0  logistic_regression    0.448738"
      ]
     },
     "execution_count": 6,
     "metadata": {},
     "output_type": "execute_result"
    }
   ],
   "source": [
    "# Check the threshold_df\n",
    "threshold_df"
   ]
  },
  {
   "cell_type": "code",
   "execution_count": 7,
   "metadata": {},
   "outputs": [],
   "source": [
    "# Store the threshold in as a variable\n",
    "model_threshold = threshold_df.iloc[0, 1]"
   ]
  },
  {
   "cell_type": "markdown",
   "metadata": {},
   "source": [
    "---"
   ]
  },
  {
   "cell_type": "markdown",
   "metadata": {},
   "source": [
    "## 2. Reproduce the Predictions <a class=\"anchor\" id=\"2\"></a>"
   ]
  },
  {
   "cell_type": "markdown",
   "metadata": {},
   "source": [
    "In this section, I will reproduce the predictions of the final model and re-evaluate its performance. The objectives are as follows:\n",
    "1. Verify that the evaluation metrics align with those obtained during advanced modeling, ensuring that the predictions have been successfully reproduced.\n",
    "2. Recap and analyze the confusion matrix, recall, and false positive rate of the model to assess its performance.\n",
    "\n",
    "---"
   ]
  },
  {
   "cell_type": "markdown",
   "metadata": {},
   "source": [
    "Create X and y"
   ]
  },
  {
   "cell_type": "code",
   "execution_count": 8,
   "metadata": {},
   "outputs": [],
   "source": [
    "# Get X and y\n",
    "X = df[[col for col in df.columns if col != 'had_heart_attack']]\n",
    "y = df['had_heart_attack']"
   ]
  },
  {
   "cell_type": "markdown",
   "metadata": {},
   "source": [
    "Train Test Split - Using the same random_state=42"
   ]
  },
  {
   "cell_type": "code",
   "execution_count": 9,
   "metadata": {},
   "outputs": [],
   "source": [
    "# train, test split\n",
    "X_train, X_test, y_train, y_test = train_test_split(X, y, stratify=y, test_size=0.25, random_state=1)"
   ]
  },
  {
   "cell_type": "markdown",
   "metadata": {},
   "source": [
    "Reproduce the predictions to verify if the evaluation metrics align with those obtained previously in the advanced modeling process."
   ]
  },
  {
   "cell_type": "code",
   "execution_count": 29,
   "metadata": {},
   "outputs": [],
   "source": [
    "# Use the self-built function to make predictions with specified model threshold\n",
    "evaluator = ModelEvaluator(final_model)\n",
    "y_pred_train, y_pred_test = evaluator.make_predictions(X_train, X_test, thresholds=model_threshold)"
   ]
  },
  {
   "cell_type": "code",
   "execution_count": 30,
   "metadata": {},
   "outputs": [
    {
     "name": "stdout",
     "output_type": "stream",
     "text": [
      "Confusion matrices: \n",
      "==================================================================\n"
     ]
    },
    {
     "data": {
      "text/plain": [
       "<Figure size 300x300 with 0 Axes>"
      ]
     },
     "metadata": {},
     "output_type": "display_data"
    },
    {
     "data": {
      "image/png": "[encoded data removed]",
      "text/plain": [
       "<Figure size 600x600 with 2 Axes>"
      ]
     },
     "metadata": {},
     "output_type": "display_data"
    },
    {
     "name": "stdout",
     "output_type": "stream",
     "text": [
      "Test Data Classification Report: \n",
      "==================================================================               precision    recall  f1-score   support\n",
      "\n",
      "           0       0.99      0.80      0.88    178076\n",
      "           1       0.18      0.80      0.29      9921\n",
      "\n",
      "    accuracy                           0.80    187997\n",
      "   macro avg       0.58      0.80      0.59    187997\n",
      "weighted avg       0.94      0.80      0.85    187997\n",
      "\n",
      "Recall Score:\n",
      "Train: 0.801\n",
      "Test: 0.800 \n",
      "==================================================================\n",
      "False Positive Rate:\n",
      "Train: 0.204\n",
      "Test: 0.204 \n",
      "==================================================================\n",
      "AUC Score:\n",
      "Train: 0.884\n",
      "Test: 0.881 \n",
      "==================================================================\n",
      "Accuracy Score:\n",
      "Train: 0.796\n",
      "Test: 0.796 \n",
      "==================================================================\n",
      "Precision Score:\n",
      "Train: 0.180\n",
      "Test: 0.179 \n",
      "==================================================================\n",
      "F1 Score:\n",
      "Train: 0.293\n",
      "Test: 0.293 \n",
      "==================================================================\n"
     ]
    }
   ],
   "source": [
    "# Reproduce model evaluation\n",
    "evaluator.evaluate(X_train, X_test, y_train, y_test, thresholds=model_threshold)"
   ]
  },
  {
   "cell_type": "code",
   "execution_count": 11,
   "metadata": {},
   "outputs": [
    {
     "name": "stdout",
     "output_type": "stream",
     "text": [
      "========================================================\n",
      "ROC Curve: Logistic Regression Final Model\n",
      "========================================================\n"
     ]
    },
    {
     "data": {
      "image/png": "[encoded data removed]",
      "text/plain": [
       "<Figure size 1000x600 with 1 Axes>"
      ]
     },
     "metadata": {},
     "output_type": "display_data"
    }
   ],
   "source": [
    "# Plot the roc curve \n",
    "print('======='*8)\n",
    "print('ROC Curve: Logistic Regression Final Model')\n",
    "print('======='*8)\n",
    "evaluator.plot_roc_auc_curve(X_train, X_test, y_train, y_test)"
   ]
  },
  {
   "cell_type": "markdown",
   "metadata": {},
   "source": [
    "All metrics match those from the advanced modeling, confirming that predictions on the training and test data have been successfully reproduced. I will now proceed to interpret the model.\n",
    "\n",
    "---"
   ]
  },
  {
   "cell_type": "markdown",
   "metadata": {},
   "source": [
    "## 3. Interpreting the Model/Coefficients <a class=\"anchor\" id=\"3\"></a>"
   ]
  },
  {
   "cell_type": "markdown",
   "metadata": {},
   "source": [
    "- In this section, I will retrieve the coefficients from the logistic regression model, rank and plot the most impactful features, interpret their significance, and derive insights into the primary factors contributing to the risk of having a heart attack. Additionally, I will discuss potential preventive actions that can be taken to mitigate this risk.\n",
    "- The logistic regression model is trained on scaled features, meaning that the coefficients correspond to the scaled feature space rather than the original feature space.\n",
    "- To facilitate interpretation, I will convert the coefficients back to the original feature space, allowing them to be understood in terms of the odds of experiencing a heart attack.\n",
    "\n",
    "---"
   ]
  },
  {
   "cell_type": "markdown",
   "metadata": {},
   "source": [
    "### 3.1 Retrieve and Transform Coefficients <a class=\"anchor\" id=\"3a\"></a>"
   ]
  },
  {
   "cell_type": "markdown",
   "metadata": {},
   "source": [
    "Retrieve the preprocessor (one-hot-encoder), scaler (standard scaler), and the logistic regresson model from the final_model pipeline"
   ]
  },
  {
   "cell_type": "code",
   "execution_count": null,
   "metadata": {},
   "outputs": [],
   "source": [
    "# Get the one-hot-encoder from the final_model pipeline\n",
    "preprocessor = final_model.named_steps['encoding'] \n",
    "\n",
    "# Get the standard scaler from the final_model pipeline\n",
    "scaler = final_model.named_steps['scaler']\n",
    "\n",
    "# Get the logistic regression model from the final_model pipeline\n",
    "logreg = final_model.named_steps['logreg']"
   ]
  },
  {
   "cell_type": "markdown",
   "metadata": {},
   "source": [
    "Retrieve the feature names after one hot encoding"
   ]
  },
  {
   "cell_type": "code",
   "execution_count": 80,
   "metadata": {},
   "outputs": [
    {
     "data": {
      "text/plain": [
       "array(['cat_cols__race_ethnicity_category_Asian',\n",
       "       'cat_cols__race_ethnicity_category_Black',\n",
       "       'cat_cols__race_ethnicity_category_Hispanic',\n",
       "       'num_cols__physical_activities', 'num_cols__had_angina',\n",
       "       'num_cols__had_stroke'], dtype=object)"
      ]
     },
     "execution_count": 80,
     "metadata": {},
     "output_type": "execute_result"
    }
   ],
   "source": [
    "# Get the feature names of the logistic regression\n",
    "feature_names = preprocessor.get_feature_names_out()\n",
    "feature_names[[0, 1, 2, -3, -2, -1]]"
   ]
  },
  {
   "cell_type": "markdown",
   "metadata": {},
   "source": [
    "Due to one hot encoding, the feature names are not correctly displayed, I need to remove the 'cal_cols__' and 'num_cols__' in the beginning."
   ]
  },
  {
   "cell_type": "code",
   "execution_count": 85,
   "metadata": {},
   "outputs": [
    {
     "data": {
      "text/plain": [
       "array(['race_ethnicity_category_Asian', 'race_ethnicity_category_Black',\n",
       "       'race_ethnicity_category_Hispanic', 'physical_activities',\n",
       "       'had_angina', 'had_stroke'], dtype='<U35')"
      ]
     },
     "execution_count": 85,
     "metadata": {},
     "output_type": "execute_result"
    }
   ],
   "source": [
    "# Rename the features to remove starting pattern of cat_cols__ or num_cols__\n",
    "feature_names = np.array([re.sub(r'(cat_cols__)|(num_cols__)', '', name) \n",
    "                          for name in feature_names])\n",
    "feature_names[[0, 1, 2, -3, -2, -1]]"
   ]
  },
  {
   "cell_type": "markdown",
   "metadata": {},
   "source": [
    "To interpret the coefficients in the original feature space, we need to transform them back from their scaled version. The transformation can be done using the formula:\n",
    "\n",
    "$$\\text{unscaled\\_coefficients} = \\frac{\\text{scaled\\_coefficients}}{\\text{standard deviation of the feature}}$$"
   ]
  },
  {
   "cell_type": "code",
   "execution_count": 86,
   "metadata": {},
   "outputs": [],
   "source": [
    "# Retrieve and transform it in to unscaled coefficients\n",
    "unscaled_coefficients = logreg.coef_[0] / scaler.scale_\n"
   ]
  },
  {
   "cell_type": "code",
   "execution_count": 87,
   "metadata": {},
   "outputs": [],
   "source": [
    "# Create a DataFrame to store the feature names and coefficients\n",
    "features = pd.DataFrame(\n",
    "    data=unscaled_coefficients, \n",
    "    index=feature_names, \n",
    "    columns=['coefficients']\n",
    "    ).sort_values(by='coefficients', ascending=False)\n",
    "\n",
    "# Create a column to turn coefficients into change of odds of having a heart attack\n",
    "features['odds'] = np.exp(features['coefficients'])"
   ]
  },
  {
   "cell_type": "code",
   "execution_count": 97,
   "metadata": {},
   "outputs": [
    {
     "data": {
      "text/html": [
       "<div>\n",
       "<style scoped>\n",
       "    .dataframe tbody tr th:only-of-type {\n",
       "        vertical-align: middle;\n",
       "    }\n",
       "\n",
       "    .dataframe tbody tr th {\n",
       "        vertical-align: top;\n",
       "    }\n",
       "\n",
       "    .dataframe thead th {\n",
       "        text-align: right;\n",
       "    }\n",
       "</style>\n",
       "<table border=\"1\" class=\"dataframe\">\n",
       "  <thead>\n",
       "    <tr style=\"text-align: right;\">\n",
       "      <th></th>\n",
       "      <th>coefficients</th>\n",
       "      <th>odds</th>\n",
       "    </tr>\n",
       "  </thead>\n",
       "  <tbody>\n",
       "    <tr>\n",
       "      <th>had_angina</th>\n",
       "      <td>2.190416</td>\n",
       "      <td>8.938930</td>\n",
       "    </tr>\n",
       "    <tr>\n",
       "      <th>had_stroke</th>\n",
       "      <td>1.077941</td>\n",
       "      <td>2.938622</td>\n",
       "    </tr>\n",
       "    <tr>\n",
       "      <th>age_category_80+</th>\n",
       "      <td>0.766557</td>\n",
       "      <td>2.152343</td>\n",
       "    </tr>\n",
       "    <tr>\n",
       "      <th>age_category_75-79</th>\n",
       "      <td>0.548910</td>\n",
       "      <td>1.731364</td>\n",
       "    </tr>\n",
       "    <tr>\n",
       "      <th>general_health_Poor</th>\n",
       "      <td>0.484267</td>\n",
       "      <td>1.622986</td>\n",
       "    </tr>\n",
       "    <tr>\n",
       "      <th>age_category_70-74</th>\n",
       "      <td>0.418379</td>\n",
       "      <td>1.519497</td>\n",
       "    </tr>\n",
       "    <tr>\n",
       "      <th>smoker_status_Every day smoker</th>\n",
       "      <td>0.361449</td>\n",
       "      <td>1.435408</td>\n",
       "    </tr>\n",
       "    <tr>\n",
       "      <th>general_health_Fair</th>\n",
       "      <td>0.350331</td>\n",
       "      <td>1.419537</td>\n",
       "    </tr>\n",
       "  </tbody>\n",
       "</table>\n",
       "</div>"
      ],
      "text/plain": [
       "                                coefficients      odds\n",
       "had_angina                          2.190416  8.938930\n",
       "had_stroke                          1.077941  2.938622\n",
       "age_category_80+                    0.766557  2.152343\n",
       "age_category_75-79                  0.548910  1.731364\n",
       "general_health_Poor                 0.484267  1.622986\n",
       "age_category_70-74                  0.418379  1.519497\n",
       "smoker_status_Every day smoker      0.361449  1.435408\n",
       "general_health_Fair                 0.350331  1.419537"
      ]
     },
     "execution_count": 97,
     "metadata": {},
     "output_type": "execute_result"
    }
   ],
   "source": [
    "# Check the top 8 features\n",
    "top_8_features = features.head(8)\n",
    "top_8_features"
   ]
  },
  {
   "cell_type": "code",
   "execution_count": 99,
   "metadata": {},
   "outputs": [
    {
     "data": {
      "text/html": [
       "<div>\n",
       "<style scoped>\n",
       "    .dataframe tbody tr th:only-of-type {\n",
       "        vertical-align: middle;\n",
       "    }\n",
       "\n",
       "    .dataframe tbody tr th {\n",
       "        vertical-align: top;\n",
       "    }\n",
       "\n",
       "    .dataframe thead th {\n",
       "        text-align: right;\n",
       "    }\n",
       "</style>\n",
       "<table border=\"1\" class=\"dataframe\">\n",
       "  <thead>\n",
       "    <tr style=\"text-align: right;\">\n",
       "      <th></th>\n",
       "      <th>coefficients</th>\n",
       "      <th>odds</th>\n",
       "    </tr>\n",
       "  </thead>\n",
       "  <tbody>\n",
       "    <tr>\n",
       "      <th>age_category_45-49</th>\n",
       "      <td>-0.510853</td>\n",
       "      <td>0.599983</td>\n",
       "    </tr>\n",
       "    <tr>\n",
       "      <th>general_health_Excellent</th>\n",
       "      <td>-0.572801</td>\n",
       "      <td>0.563944</td>\n",
       "    </tr>\n",
       "    <tr>\n",
       "      <th>is_female</th>\n",
       "      <td>-0.592808</td>\n",
       "      <td>0.552773</td>\n",
       "    </tr>\n",
       "    <tr>\n",
       "      <th>age_category_40-44</th>\n",
       "      <td>-0.683696</td>\n",
       "      <td>0.504748</td>\n",
       "    </tr>\n",
       "    <tr>\n",
       "      <th>age_category_35-39</th>\n",
       "      <td>-0.910613</td>\n",
       "      <td>0.402278</td>\n",
       "    </tr>\n",
       "    <tr>\n",
       "      <th>age_category_30-34</th>\n",
       "      <td>-1.117730</td>\n",
       "      <td>0.327021</td>\n",
       "    </tr>\n",
       "    <tr>\n",
       "      <th>age_category_25-29</th>\n",
       "      <td>-1.304784</td>\n",
       "      <td>0.271231</td>\n",
       "    </tr>\n",
       "    <tr>\n",
       "      <th>age_category_18-24</th>\n",
       "      <td>-1.451391</td>\n",
       "      <td>0.234244</td>\n",
       "    </tr>\n",
       "  </tbody>\n",
       "</table>\n",
       "</div>"
      ],
      "text/plain": [
       "                          coefficients      odds\n",
       "age_category_45-49           -0.510853  0.599983\n",
       "general_health_Excellent     -0.572801  0.563944\n",
       "is_female                    -0.592808  0.552773\n",
       "age_category_40-44           -0.683696  0.504748\n",
       "age_category_35-39           -0.910613  0.402278\n",
       "age_category_30-34           -1.117730  0.327021\n",
       "age_category_25-29           -1.304784  0.271231\n",
       "age_category_18-24           -1.451391  0.234244"
      ]
     },
     "execution_count": 99,
     "metadata": {},
     "output_type": "execute_result"
    }
   ],
   "source": [
    "# Check the bottom 8 features\n",
    "bottom_8_features = features.tail(8)\n",
    "bottom_8_features "
   ]
  },
  {
   "cell_type": "markdown",
   "metadata": {},
   "source": [
    "Plot the features"
   ]
  },
  {
   "cell_type": "code",
   "execution_count": 109,
   "metadata": {},
   "outputs": [
    {
     "data": {
      "text/plain": [
       "Text(0.5, 1.0, 'Top and Bottom 8 Features')"
      ]
     },
     "execution_count": 109,
     "metadata": {},
     "output_type": "execute_result"
    },
    {
     "data": {
      "image/png": "[encoded data removed]",
      "text/plain": [
       "<Figure size 600x600 with 1 Axes>"
      ]
     },
     "metadata": {},
     "output_type": "display_data"
    }
   ],
   "source": [
    "# Create a DataFrame to store top 8 and bottom 8 features\n",
    "important_features = pd.concat([top_8_features, bottom_8_features], axis=0).sort_values(by='coefficients')\n",
    "colors = ['#0066CC'] * 8 + ['#B01818'] * 8\n",
    "\n",
    "important_features['coefficients'].plot(kind='barh', color=colors)\n",
    "plt.xlabel('Coefficients')\n",
    "plt.title('Top and Bottom 8 Features')"
   ]
  },
  {
   "cell_type": "markdown",
   "metadata": {},
   "source": [
    "| Feature Name      | Coefficients | Odds     | Feature Description                   |\n",
    "|-------------------|--------------|----------|---------------------------------------|\n",
    "| had_angina        | 2.19        | 8.94     | 1. Angina is chest pain or discomfort that occurs when the heart muscle does not receive enough oxygen-rich blood <br> 2. The presence of angina is a strong indicator of the risk of heart attack, as individuals who have had angina have **8.94 times** the odds of having a heart attack compared to those who haven't experienced angina.   |\n",
    "| had_stroke        | 1.08       | 2.94     | 1. A stroke is a medical emergency that occurs when blood flow to a part of the brain is interrupted or reduced <br> 2. The presence of stroke is also a powerful indicator of the risk of heart attack. Individuals who have experienced stroke have **2.94 times** the odds of having a heart attack compared to those who haven't had stroke.              |\n",
    "| age_category_80+  | 0.77       | 2.15     | When individuals reach the age of 80, their likelihood of having a heart attack increases significantly. In fact, their odds of experiencing a heart attack are 2.15 times higher compared to those under the age of 80  |\n",
    "| general_health_Poor | 0.48     | 1.62     | This variable represents respondents who answered 'Poor' when asked to describe their general health condition. Individuals who perceive their general health as poor have odds of having a heart attack that are 1.62 times higher than those who do not.  |\n",
    "| general_health_Excellent   | -0.57  |0.56  | Individuals who perceive their general health as excellent have odds of having a heart attack that are 0.56 times lower than those who do not perceive their health in this way.     |\n",
    "| is_female         |-0.59       | 0.55     | Female is less likely to experience a heart attack. In fact, the odds of experiencing a heart attack is 0.55 lower than male.   |\n",
    "| age_category_18-24 | -1.45     | 0.23     | Young individuals are less likely to experience a heart attack. The odds of having a heart attack for individuals aged 18 to 24 are 0.23 times lower compared to those aged 25 and older |"
   ]
  },
  {
   "cell_type": "markdown",
   "metadata": {},
   "source": [
    "## 4. Analysis of False Negatives and False Positives<a class=\"anchor\" id=\"4\"></a>\n",
    "## "
   ]
  }
 ],
 "metadata": {
  "kernelspec": {
   "display_name": "heart_attack_prediction_env",
   "language": "python",
   "name": "python3"
  },
  "language_info": {
   "codemirror_mode": {
    "name": "ipython",
    "version": 3
   },
   "file_extension": ".py",
   "mimetype": "text/x-python",
   "name": "python",
   "nbconvert_exporter": "python",
   "pygments_lexer": "ipython3",
   "version": "3.11.5"
  }
 },
 "nbformat": 4,
 "nbformat_minor": 2
}
