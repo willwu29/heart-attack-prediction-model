{
 "cells": [
  {
   "cell_type": "markdown",
   "metadata": {},
   "source": [
    "## Heart Attack Prediction Model  \n",
    "## Advanced Modeling - Hyperparameters Tuning, Final Model Training \n",
    "## Neural Network - \n",
    "## Evaluation & Summary\n",
    "---"
   ]
  },
  {
   "cell_type": "markdown",
   "metadata": {},
   "source": [
    "\n",
    "## Author: Will Wu\n",
    "\n",
    "## Date: 2025-03-21\n",
    "---"
   ]
  },
  {
   "cell_type": "markdown",
   "metadata": {},
   "source": [
    "## Introduction\n",
    "This notebook is composed of five main sections:\n",
    "\n",
    "---"
   ]
  },
  {
   "cell_type": "markdown",
   "metadata": {},
   "source": [
    "## **Table of Contents** ##\n",
    "1. [Setup and Load Data](#1)\n",
    "2. [Data Preparation](#2)\n",
    "3.  [Additional EDA: Addressing Missing Values](#3)\n",
    "    - [Missing Values Analysis](#3a)\n",
    "       - [height](#3a1)\n",
    "       - [weight](#3a2)\n",
    "       - [physical_health_days](#3a3)\n",
    "       - [pneumo_vax and flu_vax](#3a4)\n",
    "    - [Summary](#3b)\n",
    "     \n",
    "4. [Data Cleaning and Export - Stage 2](#4)\n",
    "    - [height](#4a)\n",
    "    - [weight](#4b)\n",
    "    - [bmi](#4c)\n",
    "    - [physical_health_days](#4d)\n",
    "    - [pneumo_vax and flu_vax](#4e)\n",
    "    - [Data Quality Check](#4f)\n",
    "    - [Export](#4g)\n",
    "\n",
    "---"
   ]
  },
  {
   "cell_type": "markdown",
   "metadata": {},
   "source": [
    "## 1. Setup and Loading<a class=\"anchor\" id=\"1\"></a>"
   ]
  },
  {
   "cell_type": "code",
   "execution_count": 1,
   "metadata": {},
   "outputs": [],
   "source": [
    "# Import packages\n",
    "import pandas as pd\n",
    "import numpy as np\n",
    "import matplotlib.pyplot as plt\n",
    "import seaborn as sns\n",
    "from sklearn.model_selection import train_test_split, StratifiedKFold\n",
    "from sklearn.preprocessing import FunctionTransformer, StandardScaler\n",
    "from sklearn.decomposition import PCA\n",
    "from sklearn.utils import resample\n",
    "from sklearn.linear_model import LogisticRegression\n",
    "from sklearn.neighbors import KNeighborsClassifier\n",
    "from sklearn.naive_bayes import GaussianNB\n",
    "from sklearn.tree import DecisionTreeClassifier\n",
    "from sklearn.compose import ColumnTransformer\n",
    "from imblearn.pipeline import Pipeline\n",
    "from sklearn.feature_selection import SelectKBest\n",
    "from sklearn.preprocessing import OneHotEncoder\n",
    "from sklearn.ensemble import RandomForestClassifier \n",
    "from xgboost import XGBClassifier\n",
    "from sklearn.metrics import accuracy_score, f1_score, precision_score, recall_score,  roc_auc_score, roc_curve\n",
    "from sklearn.metrics import classification_report, precision_recall_curve, confusion_matrix, ConfusionMatrixDisplay\n",
    "from sklearn.utils import resample\n",
    "import tensorflow as tf\n",
    "from tensorflow import keras\n",
    "from tensorflow.keras import layers\n",
    "from tensorflow.keras.models import Sequential\n",
    "from tensorflow.keras.layers import Dense\n",
    "from tensorflow.keras.callbacks import EarlyStopping\n",
    "from sklearn.model_selection import GridSearchCV\n",
    "from sklearn.model_selection import cross_val_score, TimeSeriesSplit\n",
    "import pickle\n",
    "from model_evaluator import ModelEvaluator\n",
    "from resampler import UpSampler, DownSampler\n"
   ]
  },
  {
   "cell_type": "code",
   "execution_count": 2,
   "metadata": {},
   "outputs": [],
   "source": [
    "# Configure Seaborn to use 'darkgrid' as the default background style\n",
    "sns.set_style('darkgrid')\n",
    "\n",
    "# Create a default palette\n",
    "palette = sns.color_palette(\"muted\")\n",
    "\n",
    "# Setting figure size, fontsize globally in the notebook\n",
    "plt.rcParams[\"figure.figsize\"] = (6.0, 6.0)\n",
    "\n",
    "# Filter warnings \n",
    "from warnings import filterwarnings\n",
    "filterwarnings(action='ignore')"
   ]
  },
  {
   "cell_type": "code",
   "execution_count": 3,
   "metadata": {},
   "outputs": [],
   "source": [
    "# Load X, X_fs(with feature selection), and y\n",
    "df_original = pd.read_csv('../data/processed/df_original.csv')\n",
    "df_selected = pd.read_csv('../data/processed/df_feature_selected.csv')"
   ]
  },
  {
   "cell_type": "code",
   "execution_count": 4,
   "metadata": {},
   "outputs": [
    {
     "name": "stdout",
     "output_type": "stream",
     "text": [
      "The shape of original DataFrame without feature selection is: (751985, 38)\n",
      "The shape of feature-selected DataFrame is: (751985, 20)\n"
     ]
    }
   ],
   "source": [
    "# Check shape\n",
    "print(f'The shape of original DataFrame without feature selection is: {df_original.shape}')\n",
    "print(f'The shape of feature-selected DataFrame is: {df_selected.shape}')"
   ]
  },
  {
   "cell_type": "markdown",
   "metadata": {},
   "source": [
    "---"
   ]
  },
  {
   "cell_type": "markdown",
   "metadata": {},
   "source": [
    "## 2. Data Preparation <a class=\"anchor\" id=\"2\"></a>"
   ]
  },
  {
   "cell_type": "markdown",
   "metadata": {},
   "source": [
    "Create X and y on selected features"
   ]
  },
  {
   "cell_type": "code",
   "execution_count": 5,
   "metadata": {},
   "outputs": [],
   "source": [
    "# Get X and y\n",
    "X = df_selected[[col for col in df_selected.columns if col != 'had_heart_attack']]\n",
    "y = df_selected['had_heart_attack']"
   ]
  },
  {
   "cell_type": "markdown",
   "metadata": {},
   "source": [
    "---"
   ]
  },
  {
   "cell_type": "markdown",
   "metadata": {},
   "source": [
    "Train Test Split"
   ]
  },
  {
   "cell_type": "code",
   "execution_count": 6,
   "metadata": {},
   "outputs": [],
   "source": [
    "# remainder, test split\n",
    "X_train, X_test, y_train, y_test = train_test_split(X, y, stratify=y, test_size=0.25, random_state=1)"
   ]
  },
  {
   "cell_type": "code",
   "execution_count": 7,
   "metadata": {},
   "outputs": [
    {
     "name": "stdout",
     "output_type": "stream",
     "text": [
      "The size of X_sample is (169196, 19)\n",
      "The size of y_sample is (169196,)\n",
      "The value counts (%) in y_sample is: had_heart_attack\n",
      "0    94.72\n",
      "1     5.28\n",
      "Name: proportion, dtype: float64\n"
     ]
    }
   ],
   "source": [
    "# Create sample for X_train, y_train\n",
    "X_sample = X_train.sample(frac=0.3, random_state=1)\n",
    "y_sample = y_train[X_sample.index]\n",
    "\n",
    "# Print size for sanity check\n",
    "print(f'The size of X_sample is {X_sample.shape}')\n",
    "print(f'The size of y_sample is {y_sample.shape}')\n",
    "print(f'The value counts (%) in y_sample is: {y_sample.value_counts(normalize=True).round(4) * 100}')"
   ]
  },
  {
   "cell_type": "markdown",
   "metadata": {},
   "source": [
    "---"
   ]
  },
  {
   "cell_type": "markdown",
   "metadata": {},
   "source": [
    "Create ColumnTransformer for One Hot Encoding"
   ]
  },
  {
   "cell_type": "code",
   "execution_count": 8,
   "metadata": {},
   "outputs": [],
   "source": [
    "# Get categorial and numeric features\n",
    "categorical_features = X.select_dtypes(include='object').columns.tolist()\n",
    "numeric_features = X.select_dtypes(include='number').columns.tolist()\n",
    "\n",
    "# Create a column transformer\n",
    "preprocessor = ColumnTransformer(\n",
    "    transformers=[\n",
    "        ('cat_cols', OneHotEncoder(sparse_output=False), categorical_features),  # Apply OneHotEncoder to categorical features\n",
    "        ('num_cols', 'passthrough', numeric_features)         # Keep numeric features untouched\n",
    "    ]\n",
    ")"
   ]
  },
  {
   "cell_type": "markdown",
   "metadata": {},
   "source": [
    "I will build a pipeline that incorporates resampling, one-hot encoding, and scaling. With these preprocessing steps in place, I will proceed to explore different models for hyperparameter tuning and finalize model selection.\n",
    "\n",
    "---"
   ]
  },
  {
   "cell_type": "markdown",
   "metadata": {},
   "source": [
    "## 3. Logistic Regression <a class=\"anchor\" id=\"3\"></a>"
   ]
  },
  {
   "cell_type": "markdown",
   "metadata": {},
   "source": [
    "### 3.1 Grid Search <a class=\"anchor\" id=\"3a\"></a>"
   ]
  },
  {
   "cell_type": "markdown",
   "metadata": {},
   "source": [
    "Create pipelines and hyperparameter dictionary for grid search"
   ]
  },
  {
   "cell_type": "code",
   "execution_count": 9,
   "metadata": {},
   "outputs": [],
   "source": [
    "# Create the pipeline for grid search using logistic regression\n",
    "pipeline = Pipeline([\n",
    "    ('downsampler', DownSampler(random_state=1)),  # Use fixed class\n",
    "    ('one_hot_encoding', preprocessor),\n",
    "    ('scaler', StandardScaler()),\n",
    "    ('logreg', LogisticRegression())\n",
    "])"
   ]
  },
  {
   "cell_type": "code",
   "execution_count": 10,
   "metadata": {},
   "outputs": [],
   "source": [
    "# Create hyperparameter grid for logistic regression\n",
    "params_grid = {\n",
    "    'logreg__C': [0.0001, 0.001, 0.01, 0.1, 1, 10, 100],\n",
    "    'logreg__penalty': ['l1', 'l2'],\n",
    "    'logreg__solver': ['saga', 'liblinear'],\n",
    "}"
   ]
  },
  {
   "cell_type": "markdown",
   "metadata": {},
   "source": [
    "Hyperparameter grid search for optimal recall score"
   ]
  },
  {
   "cell_type": "code",
   "execution_count": 11,
   "metadata": {},
   "outputs": [],
   "source": [
    "# Create GridSearch CV, set scoring as reacall for optimizing recall\n",
    "grid_recall = GridSearchCV(pipeline, params_grid, scoring='recall', n_jobs=-1, cv=StratifiedKFold(5))"
   ]
  },
  {
   "cell_type": "code",
   "execution_count": 12,
   "metadata": {},
   "outputs": [],
   "source": [
    "# Fit using X_sample and y_sample \n",
    "fitted_grid_recall = grid_recall.fit(X_sample, y_sample)"
   ]
  },
  {
   "cell_type": "code",
   "execution_count": 13,
   "metadata": {},
   "outputs": [
    {
     "name": "stdout",
     "output_type": "stream",
     "text": [
      "The hyperparameters of logistic regression for optimal recall score: \n"
     ]
    },
    {
     "data": {
      "text/plain": [
       "{'logreg__C': 0.0001, 'logreg__penalty': 'l1', 'logreg__solver': 'saga'}"
      ]
     },
     "execution_count": 13,
     "metadata": {},
     "output_type": "execute_result"
    }
   ],
   "source": [
    "# Show the best hyperparameters for optimal recall score\n",
    "print(\"The hyperparameters of logistic regression for optimal recall score: \")\n",
    "fitted_grid_recall.best_params_"
   ]
  },
  {
   "cell_type": "markdown",
   "metadata": {},
   "source": [
    "The best hyperparameters for logistic regression with optimimal recall score are: C=0.001, penalty=l2, solver=saga. \n",
    "\n",
    "---"
   ]
  },
  {
   "cell_type": "markdown",
   "metadata": {},
   "source": [
    "### 3.2 Train the model <a class=\"anchor\" id=\"3b\"></a>"
   ]
  },
  {
   "cell_type": "code",
   "execution_count": 14,
   "metadata": {},
   "outputs": [
    {
     "data": {
      "text/html": [
       "<style>#sk-container-id-1 {color: black;}#sk-container-id-1 pre{padding: 0;}#sk-container-id-1 div.sk-toggleable {background-color: white;}#sk-container-id-1 label.sk-toggleable__label {cursor: pointer;display: block;width: 100%;margin-bottom: 0;padding: 0.3em;box-sizing: border-box;text-align: center;}#sk-container-id-1 label.sk-toggleable__label-arrow:before {content: \"▸\";float: left;margin-right: 0.25em;color: #696969;}#sk-container-id-1 label.sk-toggleable__label-arrow:hover:before {color: black;}#sk-container-id-1 div.sk-estimator:hover label.sk-toggleable__label-arrow:before {color: black;}#sk-container-id-1 div.sk-toggleable__content {max-height: 0;max-width: 0;overflow: hidden;text-align: left;background-color: #f0f8ff;}#sk-container-id-1 div.sk-toggleable__content pre {margin: 0.2em;color: black;border-radius: 0.25em;background-color: #f0f8ff;}#sk-container-id-1 input.sk-toggleable__control:checked~div.sk-toggleable__content {max-height: 200px;max-width: 100%;overflow: auto;}#sk-container-id-1 input.sk-toggleable__control:checked~label.sk-toggleable__label-arrow:before {content: \"▾\";}#sk-container-id-1 div.sk-estimator input.sk-toggleable__control:checked~label.sk-toggleable__label {background-color: #d4ebff;}#sk-container-id-1 div.sk-label input.sk-toggleable__control:checked~label.sk-toggleable__label {background-color: #d4ebff;}#sk-container-id-1 input.sk-hidden--visually {border: 0;clip: rect(1px 1px 1px 1px);clip: rect(1px, 1px, 1px, 1px);height: 1px;margin: -1px;overflow: hidden;padding: 0;position: absolute;width: 1px;}#sk-container-id-1 div.sk-estimator {font-family: monospace;background-color: #f0f8ff;border: 1px dotted black;border-radius: 0.25em;box-sizing: border-box;margin-bottom: 0.5em;}#sk-container-id-1 div.sk-estimator:hover {background-color: #d4ebff;}#sk-container-id-1 div.sk-parallel-item::after {content: \"\";width: 100%;border-bottom: 1px solid gray;flex-grow: 1;}#sk-container-id-1 div.sk-label:hover label.sk-toggleable__label {background-color: #d4ebff;}#sk-container-id-1 div.sk-serial::before {content: \"\";position: absolute;border-left: 1px solid gray;box-sizing: border-box;top: 0;bottom: 0;left: 50%;z-index: 0;}#sk-container-id-1 div.sk-serial {display: flex;flex-direction: column;align-items: center;background-color: white;padding-right: 0.2em;padding-left: 0.2em;position: relative;}#sk-container-id-1 div.sk-item {position: relative;z-index: 1;}#sk-container-id-1 div.sk-parallel {display: flex;align-items: stretch;justify-content: center;background-color: white;position: relative;}#sk-container-id-1 div.sk-item::before, #sk-container-id-1 div.sk-parallel-item::before {content: \"\";position: absolute;border-left: 1px solid gray;box-sizing: border-box;top: 0;bottom: 0;left: 50%;z-index: -1;}#sk-container-id-1 div.sk-parallel-item {display: flex;flex-direction: column;z-index: 1;position: relative;background-color: white;}#sk-container-id-1 div.sk-parallel-item:first-child::after {align-self: flex-end;width: 50%;}#sk-container-id-1 div.sk-parallel-item:last-child::after {align-self: flex-start;width: 50%;}#sk-container-id-1 div.sk-parallel-item:only-child::after {width: 0;}#sk-container-id-1 div.sk-dashed-wrapped {border: 1px dashed gray;margin: 0 0.4em 0.5em 0.4em;box-sizing: border-box;padding-bottom: 0.4em;background-color: white;}#sk-container-id-1 div.sk-label label {font-family: monospace;font-weight: bold;display: inline-block;line-height: 1.2em;}#sk-container-id-1 div.sk-label-container {text-align: center;}#sk-container-id-1 div.sk-container {/* jupyter's `normalize.less` sets `[hidden] { display: none; }` but bootstrap.min.css set `[hidden] { display: none !important; }` so we also need the `!important` here to be able to override the default hidden behavior on the sphinx rendered scikit-learn.org. See: https://github.com/scikit-learn/scikit-learn/issues/21755 */display: inline-block !important;position: relative;}#sk-container-id-1 div.sk-text-repr-fallback {display: none;}</style><div id=\"sk-container-id-1\" class=\"sk-top-container\"><div class=\"sk-text-repr-fallback\"><pre>Pipeline(steps=[(&#x27;downsampler&#x27;,\n",
       "                 &lt;resampler.DownSampler object at 0x000001F74036B610&gt;),\n",
       "                (&#x27;encoding&#x27;,\n",
       "                 ColumnTransformer(transformers=[(&#x27;cat_cols&#x27;,\n",
       "                                                  OneHotEncoder(sparse_output=False),\n",
       "                                                  [&#x27;race_ethnicity_category&#x27;,\n",
       "                                                   &#x27;age_category&#x27;,\n",
       "                                                   &#x27;bmi_category&#x27;,\n",
       "                                                   &#x27;alcohol_drinkers&#x27;,\n",
       "                                                   &#x27;general_health&#x27;,\n",
       "                                                   &#x27;smoker_status&#x27;, &#x27;had_copd&#x27;,\n",
       "                                                   &#x27;had_diabetes&#x27;,\n",
       "                                                   &#x27;had_kidney_disease&#x27;,\n",
       "                                                   &#x27;had_depressive_disorder&#x27;,\n",
       "                                                   &#x27;had_arthritis&#x27;,\n",
       "                                                   &#x27;deaf_or_hard_of_hearing&#x27;,\n",
       "                                                   &#x27;blind_or_vision_difficulty&#x27;,\n",
       "                                                   &#x27;difficulty_walking&#x27;,\n",
       "                                                   &#x27;difficulty_dressing_bathing&#x27;]),\n",
       "                                                 (&#x27;num_cols&#x27;, &#x27;passthrough&#x27;,\n",
       "                                                  [&#x27;is_female&#x27;,\n",
       "                                                   &#x27;physical_activities&#x27;,\n",
       "                                                   &#x27;had_angina&#x27;,\n",
       "                                                   &#x27;had_stroke&#x27;])])),\n",
       "                (&#x27;scaler&#x27;, StandardScaler()),\n",
       "                (&#x27;logreg&#x27;,\n",
       "                 LogisticRegression(C=0.001, random_state=42, solver=&#x27;saga&#x27;))])</pre><b>In a Jupyter environment, please rerun this cell to show the HTML representation or trust the notebook. <br />On GitHub, the HTML representation is unable to render, please try loading this page with nbviewer.org.</b></div><div class=\"sk-container\" hidden><div class=\"sk-item sk-dashed-wrapped\"><div class=\"sk-label-container\"><div class=\"sk-label sk-toggleable\"><input class=\"sk-toggleable__control sk-hidden--visually\" id=\"sk-estimator-id-1\" type=\"checkbox\" ><label for=\"sk-estimator-id-1\" class=\"sk-toggleable__label sk-toggleable__label-arrow\">Pipeline</label><div class=\"sk-toggleable__content\"><pre>Pipeline(steps=[(&#x27;downsampler&#x27;,\n",
       "                 &lt;resampler.DownSampler object at 0x000001F74036B610&gt;),\n",
       "                (&#x27;encoding&#x27;,\n",
       "                 ColumnTransformer(transformers=[(&#x27;cat_cols&#x27;,\n",
       "                                                  OneHotEncoder(sparse_output=False),\n",
       "                                                  [&#x27;race_ethnicity_category&#x27;,\n",
       "                                                   &#x27;age_category&#x27;,\n",
       "                                                   &#x27;bmi_category&#x27;,\n",
       "                                                   &#x27;alcohol_drinkers&#x27;,\n",
       "                                                   &#x27;general_health&#x27;,\n",
       "                                                   &#x27;smoker_status&#x27;, &#x27;had_copd&#x27;,\n",
       "                                                   &#x27;had_diabetes&#x27;,\n",
       "                                                   &#x27;had_kidney_disease&#x27;,\n",
       "                                                   &#x27;had_depressive_disorder&#x27;,\n",
       "                                                   &#x27;had_arthritis&#x27;,\n",
       "                                                   &#x27;deaf_or_hard_of_hearing&#x27;,\n",
       "                                                   &#x27;blind_or_vision_difficulty&#x27;,\n",
       "                                                   &#x27;difficulty_walking&#x27;,\n",
       "                                                   &#x27;difficulty_dressing_bathing&#x27;]),\n",
       "                                                 (&#x27;num_cols&#x27;, &#x27;passthrough&#x27;,\n",
       "                                                  [&#x27;is_female&#x27;,\n",
       "                                                   &#x27;physical_activities&#x27;,\n",
       "                                                   &#x27;had_angina&#x27;,\n",
       "                                                   &#x27;had_stroke&#x27;])])),\n",
       "                (&#x27;scaler&#x27;, StandardScaler()),\n",
       "                (&#x27;logreg&#x27;,\n",
       "                 LogisticRegression(C=0.001, random_state=42, solver=&#x27;saga&#x27;))])</pre></div></div></div><div class=\"sk-serial\"><div class=\"sk-item\"><div class=\"sk-estimator sk-toggleable\"><input class=\"sk-toggleable__control sk-hidden--visually\" id=\"sk-estimator-id-2\" type=\"checkbox\" ><label for=\"sk-estimator-id-2\" class=\"sk-toggleable__label sk-toggleable__label-arrow\">DownSampler</label><div class=\"sk-toggleable__content\"><pre>&lt;resampler.DownSampler object at 0x000001F74036B610&gt;</pre></div></div></div><div class=\"sk-item sk-dashed-wrapped\"><div class=\"sk-label-container\"><div class=\"sk-label sk-toggleable\"><input class=\"sk-toggleable__control sk-hidden--visually\" id=\"sk-estimator-id-3\" type=\"checkbox\" ><label for=\"sk-estimator-id-3\" class=\"sk-toggleable__label sk-toggleable__label-arrow\">encoding: ColumnTransformer</label><div class=\"sk-toggleable__content\"><pre>ColumnTransformer(transformers=[(&#x27;cat_cols&#x27;, OneHotEncoder(sparse_output=False),\n",
       "                                 [&#x27;race_ethnicity_category&#x27;, &#x27;age_category&#x27;,\n",
       "                                  &#x27;bmi_category&#x27;, &#x27;alcohol_drinkers&#x27;,\n",
       "                                  &#x27;general_health&#x27;, &#x27;smoker_status&#x27;, &#x27;had_copd&#x27;,\n",
       "                                  &#x27;had_diabetes&#x27;, &#x27;had_kidney_disease&#x27;,\n",
       "                                  &#x27;had_depressive_disorder&#x27;, &#x27;had_arthritis&#x27;,\n",
       "                                  &#x27;deaf_or_hard_of_hearing&#x27;,\n",
       "                                  &#x27;blind_or_vision_difficulty&#x27;,\n",
       "                                  &#x27;difficulty_walking&#x27;,\n",
       "                                  &#x27;difficulty_dressing_bathing&#x27;]),\n",
       "                                (&#x27;num_cols&#x27;, &#x27;passthrough&#x27;,\n",
       "                                 [&#x27;is_female&#x27;, &#x27;physical_activities&#x27;,\n",
       "                                  &#x27;had_angina&#x27;, &#x27;had_stroke&#x27;])])</pre></div></div></div><div class=\"sk-parallel\"><div class=\"sk-parallel-item\"><div class=\"sk-item\"><div class=\"sk-label-container\"><div class=\"sk-label sk-toggleable\"><input class=\"sk-toggleable__control sk-hidden--visually\" id=\"sk-estimator-id-4\" type=\"checkbox\" ><label for=\"sk-estimator-id-4\" class=\"sk-toggleable__label sk-toggleable__label-arrow\">cat_cols</label><div class=\"sk-toggleable__content\"><pre>[&#x27;race_ethnicity_category&#x27;, &#x27;age_category&#x27;, &#x27;bmi_category&#x27;, &#x27;alcohol_drinkers&#x27;, &#x27;general_health&#x27;, &#x27;smoker_status&#x27;, &#x27;had_copd&#x27;, &#x27;had_diabetes&#x27;, &#x27;had_kidney_disease&#x27;, &#x27;had_depressive_disorder&#x27;, &#x27;had_arthritis&#x27;, &#x27;deaf_or_hard_of_hearing&#x27;, &#x27;blind_or_vision_difficulty&#x27;, &#x27;difficulty_walking&#x27;, &#x27;difficulty_dressing_bathing&#x27;]</pre></div></div></div><div class=\"sk-serial\"><div class=\"sk-item\"><div class=\"sk-estimator sk-toggleable\"><input class=\"sk-toggleable__control sk-hidden--visually\" id=\"sk-estimator-id-5\" type=\"checkbox\" ><label for=\"sk-estimator-id-5\" class=\"sk-toggleable__label sk-toggleable__label-arrow\">OneHotEncoder</label><div class=\"sk-toggleable__content\"><pre>OneHotEncoder(sparse_output=False)</pre></div></div></div></div></div></div><div class=\"sk-parallel-item\"><div class=\"sk-item\"><div class=\"sk-label-container\"><div class=\"sk-label sk-toggleable\"><input class=\"sk-toggleable__control sk-hidden--visually\" id=\"sk-estimator-id-6\" type=\"checkbox\" ><label for=\"sk-estimator-id-6\" class=\"sk-toggleable__label sk-toggleable__label-arrow\">num_cols</label><div class=\"sk-toggleable__content\"><pre>[&#x27;is_female&#x27;, &#x27;physical_activities&#x27;, &#x27;had_angina&#x27;, &#x27;had_stroke&#x27;]</pre></div></div></div><div class=\"sk-serial\"><div class=\"sk-item\"><div class=\"sk-estimator sk-toggleable\"><input class=\"sk-toggleable__control sk-hidden--visually\" id=\"sk-estimator-id-7\" type=\"checkbox\" ><label for=\"sk-estimator-id-7\" class=\"sk-toggleable__label sk-toggleable__label-arrow\">passthrough</label><div class=\"sk-toggleable__content\"><pre>passthrough</pre></div></div></div></div></div></div></div></div><div class=\"sk-item\"><div class=\"sk-estimator sk-toggleable\"><input class=\"sk-toggleable__control sk-hidden--visually\" id=\"sk-estimator-id-8\" type=\"checkbox\" ><label for=\"sk-estimator-id-8\" class=\"sk-toggleable__label sk-toggleable__label-arrow\">StandardScaler</label><div class=\"sk-toggleable__content\"><pre>StandardScaler()</pre></div></div></div><div class=\"sk-item\"><div class=\"sk-estimator sk-toggleable\"><input class=\"sk-toggleable__control sk-hidden--visually\" id=\"sk-estimator-id-9\" type=\"checkbox\" ><label for=\"sk-estimator-id-9\" class=\"sk-toggleable__label sk-toggleable__label-arrow\">LogisticRegression</label><div class=\"sk-toggleable__content\"><pre>LogisticRegression(C=0.001, random_state=42, solver=&#x27;saga&#x27;)</pre></div></div></div></div></div></div></div>"
      ],
      "text/plain": [
       "Pipeline(steps=[('downsampler',\n",
       "                 <resampler.DownSampler object at 0x000001F74036B610>),\n",
       "                ('encoding',\n",
       "                 ColumnTransformer(transformers=[('cat_cols',\n",
       "                                                  OneHotEncoder(sparse_output=False),\n",
       "                                                  ['race_ethnicity_category',\n",
       "                                                   'age_category',\n",
       "                                                   'bmi_category',\n",
       "                                                   'alcohol_drinkers',\n",
       "                                                   'general_health',\n",
       "                                                   'smoker_status', 'had_copd',\n",
       "                                                   'had_diabetes',\n",
       "                                                   'had_kidney_disease',\n",
       "                                                   'had_depressive_disorder',\n",
       "                                                   'had_arthritis',\n",
       "                                                   'deaf_or_hard_of_hearing',\n",
       "                                                   'blind_or_vision_difficulty',\n",
       "                                                   'difficulty_walking',\n",
       "                                                   'difficulty_dressing_bathing']),\n",
       "                                                 ('num_cols', 'passthrough',\n",
       "                                                  ['is_female',\n",
       "                                                   'physical_activities',\n",
       "                                                   'had_angina',\n",
       "                                                   'had_stroke'])])),\n",
       "                ('scaler', StandardScaler()),\n",
       "                ('logreg',\n",
       "                 LogisticRegression(C=0.001, random_state=42, solver='saga'))])"
      ]
     },
     "execution_count": 14,
     "metadata": {},
     "output_type": "execute_result"
    }
   ],
   "source": [
    "# Create pipeline using the optimal hyperparameters\n",
    "pipeline = Pipeline([\n",
    "    ('downsampler', DownSampler(random_state=1)),  # Use fixed class\n",
    "    ('encoding', preprocessor),\n",
    "    ('scaler', StandardScaler()),\n",
    "    ('logreg', LogisticRegression(C=0.001, penalty='l2' ,solver='saga', random_state=42))\n",
    "])\n",
    "\n",
    "# Fit the model\n",
    "pipeline.fit(X_train, y_train) "
   ]
  },
  {
   "cell_type": "markdown",
   "metadata": {},
   "source": [
    "---"
   ]
  },
  {
   "cell_type": "markdown",
   "metadata": {},
   "source": [
    "### 3.3 Model Evaluation <a class=\"anchor\" id=\"3c\"></a>"
   ]
  },
  {
   "cell_type": "code",
   "execution_count": 15,
   "metadata": {},
   "outputs": [
    {
     "name": "stdout",
     "output_type": "stream",
     "text": [
      "Confusion matrices: \n",
      "==================================================================\n"
     ]
    },
    {
     "data": {
      "text/plain": [
       "<Figure size 300x300 with 0 Axes>"
      ]
     },
     "metadata": {},
     "output_type": "display_data"
    },
    {
     "data": {
      "image/png": "[encoded data removed]",
      "text/plain": [
       "<Figure size 600x600 with 2 Axes>"
      ]
     },
     "metadata": {},
     "output_type": "display_data"
    },
    {
     "name": "stdout",
     "output_type": "stream",
     "text": [
      "Test Data Classification Report: \n",
      "==================================================================               precision    recall  f1-score   support\n",
      "\n",
      "           0       0.98      0.84      0.90    178076\n",
      "           1       0.20      0.76      0.32      9921\n",
      "\n",
      "    accuracy                           0.83    187997\n",
      "   macro avg       0.59      0.80      0.61    187997\n",
      "weighted avg       0.94      0.83      0.87    187997\n",
      "\n",
      "Recall Score:\n",
      "Train: 0.758\n",
      "Test: 0.757 \n",
      "==================================================================\n",
      "False Positive Rate:\n",
      "Train: 0.163\n",
      "Test: 0.164 \n",
      "==================================================================\n",
      "AUC Score:\n",
      "Train: 0.884\n",
      "Test: 0.881 \n",
      "==================================================================\n",
      "Accuracy Score:\n",
      "Train: 0.833\n",
      "Test: 0.832 \n",
      "==================================================================\n",
      "Precision Score:\n",
      "Train: 0.206\n",
      "Test: 0.205 \n",
      "==================================================================\n",
      "F1 Score:\n",
      "Train: 0.324\n",
      "Test: 0.322 \n",
      "==================================================================\n"
     ]
    }
   ],
   "source": [
    "# Use self-built ModelEvaluator to evaluate the mode\n",
    "evaluator = ModelEvaluator(pipeline)\n",
    "evaluator.evaluate(X_train, X_test, y_train, y_test)"
   ]
  },
  {
   "cell_type": "code",
   "execution_count": 16,
   "metadata": {},
   "outputs": [
    {
     "name": "stdout",
     "output_type": "stream",
     "text": [
      "========================================================\n",
      "ROC Curve: Logistic Regression\n",
      "========================================================\n"
     ]
    },
    {
     "data": {
      "image/png": "[encoded data removed]",
      "text/plain": [
       "<Figure size 1000x600 with 1 Axes>"
      ]
     },
     "metadata": {},
     "output_type": "display_data"
    }
   ],
   "source": [
    "# Plot the roc curve \n",
    "print('======='*8)\n",
    "print('ROC Curve: Logistic Regression')\n",
    "print('======='*8)\n",
    "evaluator.plot_roc_auc_curve(X_train, X_test, y_train, y_test)"
   ]
  },
  {
   "cell_type": "markdown",
   "metadata": {},
   "source": [
    "---"
   ]
  },
  {
   "cell_type": "markdown",
   "metadata": {},
   "source": [
    "### 3.4 Adjust Threshold  <a class=\"anchor\" id=\"3d\"></a>"
   ]
  },
  {
   "cell_type": "markdown",
   "metadata": {},
   "source": [
    "\n",
    "Identify thresholds where the recall on the test set is greater than or equal to 0.80, and re-evaluate the model using the updated thresholds."
   ]
  },
  {
   "cell_type": "code",
   "execution_count": 17,
   "metadata": {},
   "outputs": [
    {
     "name": "stdout",
     "output_type": "stream",
     "text": [
      "For recall score to reach the target of 0.80, the threshold should be updated to: 0.4487\n"
     ]
    }
   ],
   "source": [
    "# Create variable for target recall score\n",
    "target_recall = 0.80\n",
    "\n",
    "# Get the probablistic prediction on test dataset\n",
    "y_pred_test = pipeline.predict_proba(X_test)[:, 1]  # find the probablitity of positive class\n",
    "\n",
    "# find recall (tpr), false positive rate with the corresponding thresholds\n",
    "fpr, tpr, thresholds = roc_curve(y_test, y_pred_test)\n",
    "\n",
    "# Use for loop to find the thresholds whenever recall/tpr exceeds target_recall\n",
    "for i in range(len(tpr)):\n",
    "    if tpr[i] > target_recall:\n",
    "        model_threshold = thresholds[i]\n",
    "        print(f'For recall score to reach the target of 0.80, the threshold should be updated to: {model_threshold:.4f}')\n",
    "        break"
   ]
  },
  {
   "cell_type": "code",
   "execution_count": 18,
   "metadata": {},
   "outputs": [
    {
     "name": "stdout",
     "output_type": "stream",
     "text": [
      "Confusion matrices: \n",
      "==================================================================\n"
     ]
    },
    {
     "data": {
      "text/plain": [
       "<Figure size 300x300 with 0 Axes>"
      ]
     },
     "metadata": {},
     "output_type": "display_data"
    },
    {
     "data": {
      "image/png": "[encoded data removed]",
      "text/plain": [
       "<Figure size 600x600 with 2 Axes>"
      ]
     },
     "metadata": {},
     "output_type": "display_data"
    },
    {
     "name": "stdout",
     "output_type": "stream",
     "text": [
      "Test Data Classification Report: \n",
      "==================================================================               precision    recall  f1-score   support\n",
      "\n",
      "           0       0.99      0.80      0.88    178076\n",
      "           1       0.18      0.80      0.29      9921\n",
      "\n",
      "    accuracy                           0.80    187997\n",
      "   macro avg       0.58      0.80      0.59    187997\n",
      "weighted avg       0.94      0.80      0.85    187997\n",
      "\n",
      "Recall Score:\n",
      "Train: 0.801\n",
      "Test: 0.800 \n",
      "==================================================================\n",
      "False Positive Rate:\n",
      "Train: 0.204\n",
      "Test: 0.204 \n",
      "==================================================================\n",
      "AUC Score:\n",
      "Train: 0.884\n",
      "Test: 0.881 \n",
      "==================================================================\n",
      "Accuracy Score:\n",
      "Train: 0.796\n",
      "Test: 0.796 \n",
      "==================================================================\n",
      "Precision Score:\n",
      "Train: 0.180\n",
      "Test: 0.179 \n",
      "==================================================================\n",
      "F1 Score:\n",
      "Train: 0.293\n",
      "Test: 0.293 \n",
      "==================================================================\n"
     ]
    }
   ],
   "source": [
    "# Re-evaluate the model using the new threshold\n",
    "evaluator = ModelEvaluator(pipeline)\n",
    "evaluator.evaluate(X_train, X_test, y_train, y_test, thresholds=model_threshold)"
   ]
  },
  {
   "cell_type": "markdown",
   "metadata": {},
   "source": [
    "### 3.5 Logistic Regression Model Summary <a class=\"anchor\" id=\"4a\"></a>"
   ]
  },
  {
   "cell_type": "markdown",
   "metadata": {},
   "source": [
    "**Metrics using test data:**\n",
    "random_state=42, no PCA"
   ]
  },
  {
   "cell_type": "markdown",
   "metadata": {},
   "source": [
    "| Model       | Resample Method | Threshold | Recall | FPR   | AUC   | Accuracy | Precision | F1 Score | Hyperparameters                      | Notes                    |\n",
    "|-------------|------------------|-----------|--------|-------|-------|----------|-----------|----------|--------------------------------------|--------------------------|\n",
    "| Logistic Regression   | Downsampling     | 0.4487      | 0.800   | 0.204  | 0.881  | 0.796     | 0.179      | 0.293     |  C=0.001, penalty=l2, solver=saga  | Final       |\n"
   ]
  },
  {
   "cell_type": "markdown",
   "metadata": {},
   "source": [
    "---"
   ]
  },
  {
   "cell_type": "markdown",
   "metadata": {},
   "source": [
    "## 4. Naive Bayes <a class=\"anchor\" id=\"4\"></a>"
   ]
  },
  {
   "cell_type": "markdown",
   "metadata": {},
   "source": [
    "### 4.1 Grid Search <a class=\"anchor\" id=\"4a\"></a>"
   ]
  },
  {
   "cell_type": "markdown",
   "metadata": {},
   "source": [
    "Create pipelines and hyperparameter dictionary for grid search"
   ]
  },
  {
   "cell_type": "code",
   "execution_count": 234,
   "metadata": {},
   "outputs": [],
   "source": [
    "# Create the pipeline for grid search using naive bayes\n",
    "pipeline = Pipeline([\n",
    "    ('downsampler', DownSampler(random_state=1)),\n",
    "    ('one_hot_encoding', preprocessor),\n",
    "    ('scaler', StandardScaler()),\n",
    "    ('nb' , GaussianNB())\n",
    "])"
   ]
  },
  {
   "cell_type": "code",
   "execution_count": 235,
   "metadata": {},
   "outputs": [],
   "source": [
    "# Create params for naive bayes\n",
    "params_grid = {\n",
    "    'nb__var_smoothing': [1e-8, 1e-7, 1e-6, 1e-5, 1e-4, 1e-3, 1e-2]\n",
    "}"
   ]
  },
  {
   "cell_type": "code",
   "execution_count": 236,
   "metadata": {},
   "outputs": [],
   "source": [
    "# Create GridSearch CV, set scoring as reacall for optimizing recall\n",
    "grid_recall = GridSearchCV(pipeline, params_grid, scoring='recall', n_jobs=-1, cv=StratifiedKFold(5))"
   ]
  },
  {
   "cell_type": "code",
   "execution_count": 237,
   "metadata": {},
   "outputs": [],
   "source": [
    "# Fit using X_sample and y_sample \n",
    "fitted_grid_recall = grid_recall.fit(X_sample, y_sample)"
   ]
  },
  {
   "cell_type": "code",
   "execution_count": 238,
   "metadata": {},
   "outputs": [
    {
     "name": "stdout",
     "output_type": "stream",
     "text": [
      "The hyperparameters of naive bayes for optimal recall score: \n"
     ]
    },
    {
     "data": {
      "text/plain": [
       "{'nb__var_smoothing': 0.001}"
      ]
     },
     "execution_count": 238,
     "metadata": {},
     "output_type": "execute_result"
    }
   ],
   "source": [
    "# Show the best hyperparameters for optimal recall score\n",
    "print(\"The hyperparameters of naive bayes for optimal recall score: \")\n",
    "fitted_grid_recall.best_params_"
   ]
  },
  {
   "cell_type": "markdown",
   "metadata": {},
   "source": [
    "The best hyperparameters for naive bayes with optimimal recall score are: var_smoothing = 0.001 \n",
    "\n",
    "---"
   ]
  },
  {
   "cell_type": "markdown",
   "metadata": {},
   "source": [
    "### 4.2 Train the model <a class=\"anchor\" id=\"4b\"></a>"
   ]
  },
  {
   "cell_type": "code",
   "execution_count": 42,
   "metadata": {},
   "outputs": [
    {
     "name": "stdout",
     "output_type": "stream",
     "text": [
      "Confusion matrices: \n",
      "==================================================================\n"
     ]
    },
    {
     "data": {
      "text/plain": [
       "<Figure size 300x300 with 0 Axes>"
      ]
     },
     "metadata": {},
     "output_type": "display_data"
    },
    {
     "data": {
      "image/png": "[encoded data removed]",
      "text/plain": [
       "<Figure size 600x600 with 2 Axes>"
      ]
     },
     "metadata": {},
     "output_type": "display_data"
    },
    {
     "name": "stdout",
     "output_type": "stream",
     "text": [
      "Test Data Classification Report: \n",
      "==================================================================               precision    recall  f1-score   support\n",
      "\n",
      "           0       0.98      0.76      0.86    178076\n",
      "           1       0.15      0.79      0.26      9921\n",
      "\n",
      "    accuracy                           0.76    187997\n",
      "   macro avg       0.57      0.77      0.56    187997\n",
      "weighted avg       0.94      0.76      0.82    187997\n",
      "\n",
      "Recall Score:\n",
      "Train: 0.786\n",
      "Test: 0.786 \n",
      "==================================================================\n",
      "False Positive Rate:\n",
      "Train: 0.241\n",
      "Test: 0.242 \n",
      "==================================================================\n",
      "Accuracy Score:\n",
      "Train: 0.760\n",
      "Test: 0.759 \n",
      "==================================================================\n",
      "Precision Score:\n",
      "Train: 0.154\n",
      "Test: 0.153 \n",
      "==================================================================\n",
      "F1 Score:\n",
      "Train: 0.257\n",
      "Test: 0.256 \n",
      "==================================================================\n",
      "AUC Score:\n",
      "Train: 0.837\n",
      "Test: 0.835 \n",
      "==================================================================\n"
     ]
    }
   ],
   "source": [
    "# Create pipeline using the optimal hyperparameters\n",
    "pipeline = Pipeline([\n",
    "    ('downsampler', DownSampler(random_state=1)),\n",
    "    ('one_hot_encoding', preprocessor),\n",
    "    ('scaler', StandardScaler()),\n",
    "    ('nb' , GaussianNB(var_smoothing= 0.001))\n",
    "])\n",
    "\n",
    "# Fit the model\n",
    "pipeline.fit(X_train, y_train)\n",
    "\n",
    "# Use self-built ModelEvaluator to evaluate the mode\n",
    "evaluator = ModelEvaluator(pipeline)\n",
    "evaluator.evaluate(X_train, X_test, y_train, y_test)"
   ]
  },
  {
   "cell_type": "markdown",
   "metadata": {},
   "source": [
    "## 5. Decision Tree <a class=\"anchor\" id=\"5\"></a>"
   ]
  },
  {
   "cell_type": "markdown",
   "metadata": {},
   "source": [
    "### 5.1 Grid Search <a class=\"anchor\" id=\"5a\"></a>"
   ]
  },
  {
   "cell_type": "markdown",
   "metadata": {},
   "source": [
    "Create pipelines and hyperparameter dictionary for grid search"
   ]
  },
  {
   "cell_type": "code",
   "execution_count": 245,
   "metadata": {},
   "outputs": [],
   "source": [
    "# Create the pipeline for grid search using logistic regression\n",
    "pipeline = Pipeline([\n",
    "    ('downsampler', DownSampler(random_state=1)),  # Use fixed class\n",
    "    ('one_hot_encoding', preprocessor),\n",
    "    ('scaler', StandardScaler()),\n",
    "    ('dtc', DecisionTreeClassifier())\n",
    "])"
   ]
  },
  {
   "cell_type": "code",
   "execution_count": 246,
   "metadata": {},
   "outputs": [],
   "source": [
    "# Create hyperparameter grid for logistic regression\n",
    "params_grid = {\n",
    "    'dtc__max_depth': [3, 7, 12, 18],\n",
    "    'dtc__min_samples_split': [2, 5, 10, 20, 40],\n",
    "    'dtc__min_samples_leaf': [15, 30, 75, 100],\n",
    "    'dtc__criterion': ['gini', 'entropy']\n",
    "}"
   ]
  },
  {
   "cell_type": "code",
   "execution_count": 247,
   "metadata": {},
   "outputs": [],
   "source": [
    "# Create GridSearch CV, set scoring as reacall for optimizing recall\n",
    "grid_recall = GridSearchCV(pipeline, params_grid, scoring='recall', n_jobs=-1, cv=StratifiedKFold(5))"
   ]
  },
  {
   "cell_type": "code",
   "execution_count": 248,
   "metadata": {},
   "outputs": [],
   "source": [
    "# Fit using X_sample and y_sample \n",
    "fitted_grid_recall = grid_recall.fit(X_sample, y_sample)"
   ]
  },
  {
   "cell_type": "code",
   "execution_count": 249,
   "metadata": {},
   "outputs": [
    {
     "name": "stdout",
     "output_type": "stream",
     "text": [
      "The hyperparameters of decision tree for optimal recall score: \n"
     ]
    },
    {
     "data": {
      "text/plain": [
       "{'dtc__criterion': 'entropy',\n",
       " 'dtc__max_depth': 12,\n",
       " 'dtc__min_samples_leaf': 75,\n",
       " 'dtc__min_samples_split': 10}"
      ]
     },
     "execution_count": 249,
     "metadata": {},
     "output_type": "execute_result"
    }
   ],
   "source": [
    "# Show the best hyperparameters for optimal recall score\n",
    "print(\"The hyperparameters of decision tree for optimal recall score: \")\n",
    "fitted_grid_recall.best_params_"
   ]
  },
  {
   "cell_type": "markdown",
   "metadata": {},
   "source": [
    "Phase 2 - Conduct hyperparameter grid search with a refined and narrower range of values"
   ]
  },
  {
   "cell_type": "code",
   "execution_count": 250,
   "metadata": {},
   "outputs": [],
   "source": [
    "# Create the pipeline for grid search using logistic regression\n",
    "pipeline = Pipeline([\n",
    "    ('downsampler', DownSampler(random_state=1)),  # Use fixed class\n",
    "    ('one_hot_encoding', preprocessor),\n",
    "    ('scaler', StandardScaler()),\n",
    "    ('dtc', DecisionTreeClassifier(criterion='entropy'))\n",
    "])"
   ]
  },
  {
   "cell_type": "code",
   "execution_count": 251,
   "metadata": {},
   "outputs": [],
   "source": [
    "# Create hyperparameter grid for logistic regression\n",
    "params_grid = {\n",
    "    'dtc__max_depth': [10, 12, 13, 14],\n",
    "    'dtc__min_samples_split': [8, 10, 12, 14],\n",
    "    'dtc__min_samples_leaf': [60, 75, 90],\n",
    "}"
   ]
  },
  {
   "cell_type": "code",
   "execution_count": 252,
   "metadata": {},
   "outputs": [],
   "source": [
    "# Create GridSearch CV, set scoring as reacall for optimizing recall\n",
    "grid_recall = GridSearchCV(pipeline, params_grid, scoring='recall', n_jobs=-1, cv=StratifiedKFold(5))"
   ]
  },
  {
   "cell_type": "code",
   "execution_count": 253,
   "metadata": {},
   "outputs": [],
   "source": [
    "# Fit using X_sample and y_sample \n",
    "fitted_grid_recall = grid_recall.fit(X_sample, y_sample)"
   ]
  },
  {
   "cell_type": "code",
   "execution_count": 254,
   "metadata": {},
   "outputs": [
    {
     "name": "stdout",
     "output_type": "stream",
     "text": [
      "The hyperparameters of decision tree for optimal recall score: \n"
     ]
    },
    {
     "data": {
      "text/plain": [
       "{'dtc__max_depth': 12,\n",
       " 'dtc__min_samples_leaf': 75,\n",
       " 'dtc__min_samples_split': 8}"
      ]
     },
     "execution_count": 254,
     "metadata": {},
     "output_type": "execute_result"
    }
   ],
   "source": [
    "# Show the best hyperparameters for optimal recall score\n",
    "print(\"The hyperparameters of decision tree for optimal recall score: \")\n",
    "fitted_grid_recall.best_params_"
   ]
  },
  {
   "cell_type": "markdown",
   "metadata": {},
   "source": [
    "The best hyperparameters for decision tree with optimimal recall score are: max_depth=12, min_samples_split=8, min_samples_leaf=75, criterion=entropy\n",
    "\n",
    "---"
   ]
  },
  {
   "cell_type": "markdown",
   "metadata": {},
   "source": [
    "### 5.2 Train the model <a class=\"anchor\" id=\"5b\"></a>"
   ]
  },
  {
   "cell_type": "code",
   "execution_count": 257,
   "metadata": {},
   "outputs": [
    {
     "name": "stdout",
     "output_type": "stream",
     "text": [
      "Confusion matrices: \n",
      "==================================================================\n"
     ]
    },
    {
     "data": {
      "text/plain": [
       "<Figure size 300x300 with 0 Axes>"
      ]
     },
     "metadata": {},
     "output_type": "display_data"
    },
    {
     "data": {
      "image/png": "[encoded data removed]",
      "text/plain": [
       "<Figure size 600x600 with 2 Axes>"
      ]
     },
     "metadata": {},
     "output_type": "display_data"
    },
    {
     "name": "stdout",
     "output_type": "stream",
     "text": [
      "Test Data Classification Report: \n",
      "==================================================================               precision    recall  f1-score   support\n",
      "\n",
      "           0       0.98      0.81      0.89    178076\n",
      "           1       0.19      0.76      0.30      9921\n",
      "\n",
      "    accuracy                           0.81    187997\n",
      "   macro avg       0.58      0.79      0.59    187997\n",
      "weighted avg       0.94      0.81      0.86    187997\n",
      "\n",
      "Recall Score:\n",
      "Train: 0.776\n",
      "Test: 0.759 \n",
      "==================================================================\n",
      "False Positive Rate:\n",
      "Train: 0.185\n",
      "Test: 0.186 \n",
      "==================================================================\n",
      "Accuracy Score:\n",
      "Train: 0.813\n",
      "Test: 0.811 \n",
      "==================================================================\n",
      "Precision Score:\n",
      "Train: 0.189\n",
      "Test: 0.185 \n",
      "==================================================================\n",
      "F1 Score:\n",
      "Train: 0.304\n",
      "Test: 0.298 \n",
      "==================================================================\n",
      "AUC Score:\n",
      "Train: 0.879\n",
      "Test: 0.871 \n",
      "==================================================================\n"
     ]
    }
   ],
   "source": [
    "# Create pipeline using the optimal hyperparameters\n",
    "pipeline = Pipeline([\n",
    "    ('downsampler', DownSampler(random_state=1)),  # Use fixed class\n",
    "    ('encoding', preprocessor),\n",
    "    ('scaler', StandardScaler()),\n",
    "    ('dtc', DecisionTreeClassifier(max_depth=12, \n",
    "                                  min_samples_split=8,\n",
    "                                  min_samples_leaf=75, \n",
    "                                  criterion='entropy'))\n",
    "])\n",
    "\n",
    "# Fit the model\n",
    "pipeline.fit(X_train, y_train) \n",
    "\n",
    "# Use self-built ModelEvaluator to evaluate the mode\n",
    "evaluator = ModelEvaluator(pipeline)\n",
    "evaluator.evaluate(X_train, X_test, y_train, y_test)"
   ]
  },
  {
   "cell_type": "markdown",
   "metadata": {},
   "source": [
    "## 6. Random Forest <a class=\"anchor\" id=\"6\"></a>"
   ]
  },
  {
   "cell_type": "markdown",
   "metadata": {},
   "source": [
    "### 6.1 Grid Search <a class=\"anchor\" id=\"6a\"></a>"
   ]
  },
  {
   "cell_type": "markdown",
   "metadata": {},
   "source": [
    "Create pipelines and hyperparameter dictionary for grid search"
   ]
  },
  {
   "cell_type": "code",
   "execution_count": 225,
   "metadata": {},
   "outputs": [],
   "source": [
    "# Create the pipeline for grid search using logistic regression\n",
    "pipeline = Pipeline([\n",
    "    ('downsampler', DownSampler(random_state=1)),  # Use fixed class\n",
    "    ('one_hot_encoding', preprocessor),\n",
    "    ('scaler', StandardScaler()),\n",
    "    ('rfc', RandomForestClassifier())\n",
    "])"
   ]
  },
  {
   "cell_type": "markdown",
   "metadata": {},
   "source": [
    "Phase 1 - Initial hyperparameter grid search for optimal recall score"
   ]
  },
  {
   "cell_type": "code",
   "execution_count": 226,
   "metadata": {},
   "outputs": [],
   "source": [
    "# Create hyperparameter grid for random_forest\n",
    "params_grid = {\n",
    "    'rfc__n_estimators': [50, 100, 150],\n",
    "    'rfc__max_depth': [7, 10, 15],\n",
    "    'rfc__min_samples_split': [5, 15, 30, 70],\n",
    "    'rfc__min_samples_leaf': [15, 50, 100],\n",
    "    'rfc__bootstrap': [True, False]\n",
    "}"
   ]
  },
  {
   "cell_type": "code",
   "execution_count": 227,
   "metadata": {},
   "outputs": [],
   "source": [
    "# Create GridSearch CV, set scoring as reacall for optimizing recall\n",
    "grid_recall = GridSearchCV(pipeline, params_grid, scoring='recall', n_jobs=-1, cv=StratifiedKFold(5))"
   ]
  },
  {
   "cell_type": "code",
   "execution_count": 228,
   "metadata": {},
   "outputs": [],
   "source": [
    "# Fit using X_sample and y_sample \n",
    "fitted_grid_recall = grid_recall.fit(X_sample, y_sample)"
   ]
  },
  {
   "cell_type": "code",
   "execution_count": 229,
   "metadata": {},
   "outputs": [
    {
     "name": "stdout",
     "output_type": "stream",
     "text": [
      "The hyperparameters of random forest for optimal recall score: \n"
     ]
    },
    {
     "data": {
      "text/plain": [
       "{'rfc__bootstrap': False,\n",
       " 'rfc__max_depth': 15,\n",
       " 'rfc__min_samples_leaf': 100,\n",
       " 'rfc__min_samples_split': 15,\n",
       " 'rfc__n_estimators': 50}"
      ]
     },
     "execution_count": 229,
     "metadata": {},
     "output_type": "execute_result"
    }
   ],
   "source": [
    "# Show the best hyperparameters for optimal recall score\n",
    "print(\"The hyperparameters of random forest for optimal recall score: \")\n",
    "fitted_grid_recall.best_params_"
   ]
  },
  {
   "cell_type": "markdown",
   "metadata": {},
   "source": [
    "Phase 2 - Conduct hyperparameter grid search with a refined and narrower range of values"
   ]
  },
  {
   "cell_type": "code",
   "execution_count": null,
   "metadata": {},
   "outputs": [],
   "source": [
    "pipeline = Pipeline([\n",
    "    ('downsampler', DownSampler(random_state=1)),  # Use fixed class\n",
    "    ('one_hot_encoding', preprocessor),\n",
    "    ('scaler', StandardScaler()),\n",
    "    ('rfc', RandomForestClassifier(bootstrap=True))\n",
    "])"
   ]
  },
  {
   "cell_type": "code",
   "execution_count": 214,
   "metadata": {},
   "outputs": [],
   "source": [
    "# Create hyperparameter grid for random_forest\n",
    "params_grid = {\n",
    "    'rfc__n_estimators': [80, 100, 120],\n",
    "    'rfc__max_depth': [12, 15, 18],\n",
    "    'rfc__min_samples_split': [4, 5, 6, 7],\n",
    "    'rfc__min_samples_leaf': [80, 100, 120]\n",
    "}"
   ]
  },
  {
   "cell_type": "code",
   "execution_count": 216,
   "metadata": {},
   "outputs": [],
   "source": [
    "# Create GridSearch CV, set scoring as recall for optimizing recall\n",
    "grid_recall = GridSearchCV(pipeline, params_grid, scoring='recall', n_jobs=-1, cv=StratifiedKFold(5))"
   ]
  },
  {
   "cell_type": "code",
   "execution_count": 217,
   "metadata": {},
   "outputs": [],
   "source": [
    "# Fit using X_sample and y_sample\n",
    "fitted_grid_recall = grid_recall.fit(X_sample, y_sample)"
   ]
  },
  {
   "cell_type": "code",
   "execution_count": 218,
   "metadata": {},
   "outputs": [
    {
     "name": "stdout",
     "output_type": "stream",
     "text": [
      "The hyperparameters of random forest for optimal recall: \n"
     ]
    },
    {
     "data": {
      "text/plain": [
       "{'rfc__max_depth': 15,\n",
       " 'rfc__min_samples_leaf': 80,\n",
       " 'rfc__min_samples_split': 6,\n",
       " 'rfc__n_estimators': 80}"
      ]
     },
     "execution_count": 218,
     "metadata": {},
     "output_type": "execute_result"
    }
   ],
   "source": [
    "# Show the best hyperparameters for optimal recall score\n",
    "print(\"The hyperparameters of random forest for optimal recall: \")\n",
    "fitted_grid_recall.best_params_"
   ]
  },
  {
   "cell_type": "markdown",
   "metadata": {},
   "source": [
    "The best hyperparameters for random forst with optimimal recall score are: max_depth=15, min_samples_leaf=80, min_samples_split=6, n_estimators=80, bootstrap=True\n",
    "\n",
    "---"
   ]
  },
  {
   "cell_type": "markdown",
   "metadata": {},
   "source": [
    "### 6.2 Train the model <a class=\"anchor\" id=\"6b\"></a>"
   ]
  },
  {
   "cell_type": "code",
   "execution_count": 224,
   "metadata": {},
   "outputs": [
    {
     "name": "stdout",
     "output_type": "stream",
     "text": [
      "Confusion matrices: \n",
      "==================================================================\n"
     ]
    },
    {
     "data": {
      "text/plain": [
       "<Figure size 300x300 with 0 Axes>"
      ]
     },
     "metadata": {},
     "output_type": "display_data"
    },
    {
     "data": {
      "image/png": "[encoded data removed]",
      "text/plain": [
       "<Figure size 600x600 with 2 Axes>"
      ]
     },
     "metadata": {},
     "output_type": "display_data"
    },
    {
     "name": "stdout",
     "output_type": "stream",
     "text": [
      "Test Data Classification Report: \n",
      "==================================================================               precision    recall  f1-score   support\n",
      "\n",
      "           0       0.99      0.80      0.88    178076\n",
      "           1       0.18      0.78      0.29      9921\n",
      "\n",
      "    accuracy                           0.80    187997\n",
      "   macro avg       0.58      0.79      0.59    187997\n",
      "weighted avg       0.94      0.80      0.85    187997\n",
      "\n",
      "Recall Score:\n",
      "Train: 0.791\n",
      "Test: 0.784 \n",
      "==================================================================\n",
      "False Positive Rate:\n",
      "Train: 0.199\n",
      "Test: 0.199 \n",
      "==================================================================\n",
      "Accuracy Score:\n",
      "Train: 0.800\n",
      "Test: 0.800 \n",
      "==================================================================\n",
      "Precision Score:\n",
      "Train: 0.181\n",
      "Test: 0.180 \n",
      "==================================================================\n",
      "F1 Score:\n",
      "Train: 0.295\n",
      "Test: 0.292 \n",
      "==================================================================\n",
      "AUC Score:\n",
      "Train: 0.881\n",
      "Test: 0.877 \n",
      "==================================================================\n"
     ]
    }
   ],
   "source": [
    "# Create pipeline using the optimal hyperparameters\n",
    "pipeline = Pipeline([\n",
    "    ('downsampler', DownSampler(random_state=1)),  # Use fixed class\n",
    "    ('one_hot_encoding', preprocessor),\n",
    "    ('scaler', StandardScaler()),\n",
    "    ('rfc', RandomForestClassifier(\n",
    "        n_estimators=80,\n",
    "        max_depth=15,\n",
    "        min_samples_leaf=80,\n",
    "        min_samples_split=6,\n",
    "        bootstrap=True\n",
    "    ))\n",
    "])\n",
    "\n",
    "# Fit the model\n",
    "pipeline.fit(X_train, y_train) \n",
    "\n",
    "# Use self-built ModelEvaluator to evaluate the mode\n",
    "evaluator = ModelEvaluator(pipeline)\n",
    "evaluator.evaluate(X_train, X_test, y_train, y_test)"
   ]
  },
  {
   "cell_type": "markdown",
   "metadata": {},
   "source": [
    "## 7. XGBoost <a class=\"anchor\" id=\"7\"></a>"
   ]
  },
  {
   "cell_type": "markdown",
   "metadata": {},
   "source": [
    "### 7.1 Grid Search <a class=\"anchor\" id=\"7a\"></a>"
   ]
  },
  {
   "cell_type": "markdown",
   "metadata": {},
   "source": [
    "Create pipelines and hyperparameter dictionary for grid search"
   ]
  },
  {
   "cell_type": "code",
   "execution_count": 92,
   "metadata": {},
   "outputs": [],
   "source": [
    "# Create the pipeline for grid search using logistic regression\n",
    "pipeline = Pipeline([\n",
    "    ('downsampler', DownSampler(random_state=1)),  # Use fixed class\n",
    "    ('one_hot_encoding', preprocessor),\n",
    "    ('scaler', StandardScaler()),\n",
    "    ('xgb', XGBClassifier())\n",
    "])"
   ]
  },
  {
   "cell_type": "code",
   "execution_count": 99,
   "metadata": {},
   "outputs": [],
   "source": [
    "# Create hyperparameter grid for XGBoost\n",
    "params_grid = {\n",
    "    'xgb__n_estimators': [50, 100],         \n",
    "    'xgb__learning_rate': [0.05, 0.1],       \n",
    "    'xgb__max_depth': [3, 5, 7, 11, 13, 15],             \n",
    "    'xgb__min_child_weight': [1, 5],         \n",
    "    'xgb__subsample': [0.8, 1.0],  \n",
    "}"
   ]
  },
  {
   "cell_type": "code",
   "execution_count": 100,
   "metadata": {},
   "outputs": [],
   "source": [
    "# Create GridSearch CV, set scoring as reacall for optimizing recall\n",
    "grid_recall = GridSearchCV(pipeline, params_grid, scoring='recall', n_jobs=-1, cv=StratifiedKFold(5))"
   ]
  },
  {
   "cell_type": "code",
   "execution_count": 101,
   "metadata": {},
   "outputs": [],
   "source": [
    "# Fit using X_sample and y_sample \n",
    "fitted_grid_recall = grid_recall.fit(X_sample, y_sample)"
   ]
  },
  {
   "cell_type": "code",
   "execution_count": 102,
   "metadata": {},
   "outputs": [
    {
     "name": "stdout",
     "output_type": "stream",
     "text": [
      "The hyperparameters of decision tree for optimal recall score: \n"
     ]
    },
    {
     "data": {
      "text/plain": [
       "{'xgb__learning_rate': 0.1,\n",
       " 'xgb__max_depth': 7,\n",
       " 'xgb__min_child_weight': 5,\n",
       " 'xgb__n_estimators': 100,\n",
       " 'xgb__subsample': 0.8}"
      ]
     },
     "execution_count": 102,
     "metadata": {},
     "output_type": "execute_result"
    }
   ],
   "source": [
    "# Show the best hyperparameters for optimal recall score\n",
    "print(\"The hyperparameters of decision tree for optimal recall score: \")\n",
    "fitted_grid_recall.best_params_"
   ]
  },
  {
   "cell_type": "code",
   "execution_count": 104,
   "metadata": {},
   "outputs": [],
   "source": [
    "params_grid = {\n",
    "    'xgb__n_estimators': [80, 100, 120],         \n",
    "    'xgb__learning_rate': [0.08, 0.1, 0.12],       \n",
    "    'xgb__max_depth': [6, 7, 8, 9],             \n",
    "    'xgb__min_child_weight': [4, 5, 6],         \n",
    "    'xgb__subsample': [0.7, 0.8, 0.9],  \n",
    "}"
   ]
  },
  {
   "cell_type": "code",
   "execution_count": 105,
   "metadata": {},
   "outputs": [],
   "source": [
    "# Create GridSearch CV, set scoring as reacall for optimizing recall\n",
    "grid_recall = GridSearchCV(pipeline, params_grid, scoring='recall', n_jobs=-1, cv=StratifiedKFold(5))"
   ]
  },
  {
   "cell_type": "code",
   "execution_count": 107,
   "metadata": {},
   "outputs": [
    {
     "name": "stdout",
     "output_type": "stream",
     "text": [
      "[13:54:52] WARNING: C:\\Users\\dev-admin\\croot2\\xgboost-split_1675461376218\\work\\src\\learner.cc:767: \n",
      "Parameters: { \"min_subsample\" } are not used.\n",
      "\n"
     ]
    }
   ],
   "source": [
    "# Fit using X_sample and y_sample \n",
    "fitted_grid_recall = grid_recall.fit(X_sample, y_sample)"
   ]
  },
  {
   "cell_type": "code",
   "execution_count": 111,
   "metadata": {},
   "outputs": [
    {
     "name": "stdout",
     "output_type": "stream",
     "text": [
      "The hyperparameters of decision tree for optimal recall score: \n"
     ]
    },
    {
     "data": {
      "text/plain": [
       "{'xgb__learning_rate': 0.1,\n",
       " 'xgb__max_depth': 7,\n",
       " 'xgb__min_child_weight': 5,\n",
       " 'xgb__n_estimators': 100,\n",
       " 'xgb__subsample': 0.8}"
      ]
     },
     "execution_count": 111,
     "metadata": {},
     "output_type": "execute_result"
    }
   ],
   "source": [
    "# Show the best hyperparameters for optimal recall score\n",
    "print(\"The hyperparameters of decision tree for optimal recall score: \")\n",
    "fitted_grid_recall.best_params_"
   ]
  },
  {
   "cell_type": "markdown",
   "metadata": {},
   "source": [
    "The best hyperparameters for decision tree with optimimal recall score are: max_depth=11, min_samples_split=2, min_samples_leaf=80, criterion=entropy\n",
    "\n",
    "---"
   ]
  },
  {
   "cell_type": "markdown",
   "metadata": {},
   "source": [
    "### 7.2 Train the model <a class=\"anchor\" id=\"7b\"></a>"
   ]
  },
  {
   "cell_type": "code",
   "execution_count": 103,
   "metadata": {},
   "outputs": [
    {
     "name": "stdout",
     "output_type": "stream",
     "text": [
      "[13:39:08] WARNING: C:\\Users\\dev-admin\\croot2\\xgboost-split_1675461376218\\work\\src\\learner.cc:767: \n",
      "Parameters: { \"min_subsample\" } are not used.\n",
      "\n",
      "Confusion matrices: \n",
      "==================================================================\n"
     ]
    },
    {
     "data": {
      "text/plain": [
       "<Figure size 300x300 with 0 Axes>"
      ]
     },
     "metadata": {},
     "output_type": "display_data"
    },
    {
     "data": {
      "image/png": "[encoded data removed]",
      "text/plain": [
       "<Figure size 600x600 with 2 Axes>"
      ]
     },
     "metadata": {},
     "output_type": "display_data"
    },
    {
     "name": "stdout",
     "output_type": "stream",
     "text": [
      "Test Data Classification Report: \n",
      "==================================================================               precision    recall  f1-score   support\n",
      "\n",
      "           0       0.99      0.82      0.89    178076\n",
      "           1       0.19      0.78      0.31      9921\n",
      "\n",
      "    accuracy                           0.82    187997\n",
      "   macro avg       0.59      0.80      0.60    187997\n",
      "weighted avg       0.94      0.82      0.86    187997\n",
      "\n",
      "Recall Score:\n",
      "Train: 0.794\n",
      "Test: 0.779 \n",
      "==================================================================\n",
      "False Positive Rate:\n",
      "Train: 0.181\n",
      "Test: 0.182 \n",
      "==================================================================\n",
      "Accuracy Score:\n",
      "Train: 0.817\n",
      "Test: 0.816 \n",
      "==================================================================\n",
      "Precision Score:\n",
      "Train: 0.196\n",
      "Test: 0.192 \n",
      "==================================================================\n",
      "F1 Score:\n",
      "Train: 0.315\n",
      "Test: 0.309 \n",
      "==================================================================\n",
      "AUC Score:\n",
      "Train: 0.892\n",
      "Test: 0.882 \n",
      "==================================================================\n"
     ]
    }
   ],
   "source": [
    "# Create pipeline using the optimal hyperparameters\n",
    "pipeline = Pipeline([\n",
    "    ('downsampler', DownSampler(random_state=1)),  # Use fixed class\n",
    "    ('one_hot_encoding', preprocessor),\n",
    "    ('scaler', StandardScaler()),\n",
    "    ('xgb', XGBClassifier(\n",
    "        n_estimators=100,\n",
    "        max_depth=7,\n",
    "        min_child_weight=5,\n",
    "        min_subsample=0.8,\n",
    "        learning_rate=0.1\n",
    "    ))\n",
    "])\n",
    "\n",
    "# Fit the model\n",
    "pipeline.fit(X_train, y_train) \n",
    "\n",
    "# Use self-built ModelEvaluator to evaluate the mode\n",
    "evaluator = ModelEvaluator(pipeline)\n",
    "evaluator.evaluate(X_train, X_test, y_train, y_test)"
   ]
  },
  {
   "cell_type": "markdown",
   "metadata": {},
   "source": [
    "## 8. Neural Network <a class=\"anchor\" id=\"8\"></a>"
   ]
  },
  {
   "cell_type": "markdown",
   "metadata": {},
   "source": []
  },
  {
   "cell_type": "code",
   "execution_count": 54,
   "metadata": {},
   "outputs": [],
   "source": [
    "# Split the X_train, y_train into train and validation set\n",
    "X_train_nn, X_val_nn, y_train_nn, y_val_nn = train_test_split(X_train, y_train, test_size=0.2, stratify=y_train, random_state=1)"
   ]
  },
  {
   "cell_type": "code",
   "execution_count": 55,
   "metadata": {},
   "outputs": [],
   "source": [
    "\n",
    "preprocess_pipe = Pipeline([\n",
    "    ('one_hot_encoding', preprocessor),\n",
    "    ('scaler', StandardScaler())\n",
    "])\n",
    "\n",
    "X_train_nn = preprocess_pipe.fit_transform(X_train_nn)\n",
    "X_val_nn = preprocess_pipe.transform(X_val_nn)\n"
   ]
  },
  {
   "cell_type": "code",
   "execution_count": 56,
   "metadata": {},
   "outputs": [],
   "source": [
    "# Get the percentage of each class in y\n",
    "class0_pct = pd.Series(y).value_counts(normalize=True)[0]\n",
    "class1_pct = pd.Series(y).value_counts(normalize=True)[1]\n",
    "\n",
    "# Calculate the weight for class0 and class1\n",
    "class0_weight = 1 / class0_pct\n",
    "class1_weight = 1 / class1_pct\n",
    "\n",
    "# Calculate the total weights\n",
    "total_weight = class0_weight + class1_weight\n",
    "\n",
    "# Get class weights for neural network training\n",
    "class_weights = {\n",
    "    0 : class0_weight / total_weight * 2,\n",
    "    1 : class1_weight / total_weight * 2\n",
    "}"
   ]
  },
  {
   "cell_type": "code",
   "execution_count": 57,
   "metadata": {},
   "outputs": [],
   "source": [
    "# Features\n",
    "X_train_nn = np.asarray(X_train_nn).astype('float32')\n",
    "X_val_nn = np.asarray(X_val_nn).astype('float32')\n",
    "\n",
    "# Labels\n",
    "y_train_nn = np.asarray(y_train_nn).ravel()\n",
    "y_val_nn = np.asarray(y_val_nn).ravel()"
   ]
  },
  {
   "cell_type": "code",
   "execution_count": 58,
   "metadata": {},
   "outputs": [],
   "source": [
    "def recall_fpr_loss(y_true, y_pred, recall_target=0.85, fpr_weight=0.5):\n",
    "    \"\"\"\n",
    "    Custom loss for recall targeting and FPR minimization.\n",
    "    \n",
    "    Args:\n",
    "        recall_target: Stop pushing recall beyond this value (0.85)\n",
    "        fpr_weight: Relative importance of FPR reduction (0.5-2.0 recommended)\n",
    "    \"\"\"\n",
    "    y_true = tf.cast(y_true, tf.float32)\n",
    "    y_pred = tf.clip_by_value(y_pred, 1e-7, 1 - 1e-7)\n",
    "    \n",
    "    # Base binary cross-entropy\n",
    "    bce = tf.keras.losses.binary_crossentropy(y_true, y_pred)\n",
    "    \n",
    "    # Get positive/negative predictions\n",
    "    pos_mask = tf.equal(y_true, 1.0)\n",
    "    neg_mask = tf.equal(y_true, 0.0)\n",
    "    y_pos = tf.boolean_mask(y_pred, pos_mask)\n",
    "    y_neg = tf.boolean_mask(y_pred, neg_mask)\n",
    "    \n",
    "    # 1. Recall component (target-aware hinge loss)\n",
    "    recall_term = tf.cond(\n",
    "        tf.size(y_pos) > 0,\n",
    "        lambda: tf.reduce_mean(tf.maximum(recall_target - y_pos, 0)),\n",
    "        lambda: 0.0\n",
    "    )\n",
    "    \n",
    "    # 2. FPR component (penalize high negative predictions)\n",
    "    fpr_term = tf.cond(\n",
    "        tf.size(y_neg) > 0,\n",
    "        lambda: tf.reduce_mean(y_neg),  # Directly minimize mean negative predictions\n",
    "        lambda: 0.0\n",
    "    )\n",
    "    \n",
    "    # 3. Combined loss with dynamic weighting\n",
    "    return bce + recall_term + fpr_weight * fpr_term"
   ]
  },
  {
   "cell_type": "code",
   "execution_count": 66,
   "metadata": {},
   "outputs": [],
   "source": [
    "# Set up the structure \n",
    "# nn_model = Sequential([\n",
    "#     Dense(10, activation=\"relu\"),   # Add hidden layer\n",
    "#     Dense(10, activation=\"relu\"),   # Add hidden layer\n",
    "#     Dense(10, activation=\"relu\"),   # Add hidden layer\n",
    "#     Dense(1, activation='sigmoid')  # Output layer\n",
    "# ])\n",
    "from tensorflow.keras.layers import Dense, Dropout, BatchNormalization\n",
    "from tensorflow.keras import regularizers\n",
    "\n",
    "nn_model = Sequential([\n",
    "    # Input layer with 90 features\n",
    "    Dense(128, activation='relu', input_shape=(70,), \n",
    "          kernel_regularizer=regularizers.l2(0.001)),\n",
    "    BatchNormalization(),\n",
    "    Dropout(0.3),\n",
    "    \n",
    "    Dense(64, activation='relu', \n",
    "          kernel_regularizer=regularizers.l2(0.001)),\n",
    "    BatchNormalization(),\n",
    "    Dropout(0.3),\n",
    "    \n",
    "    Dense(32, activation='relu',\n",
    "          kernel_regularizer=regularizers.l2(0.001)),\n",
    "    BatchNormalization(),\n",
    "    \n",
    "    Dense(1, activation='sigmoid')  # Binary output\n",
    "])\n",
    "\n",
    "# Adaptive learning rate scheduler\n",
    "def lr_scheduler(epoch, lr):\n",
    "    if epoch < 10:\n",
    "        return lr\n",
    "    else:\n",
    "        return lr * tf.math.exp(-0.1)\n",
    "\n",
    "\n",
    "# Compile the model\n",
    "nn_model.compile(\n",
    "    optimizer=keras.optimizers.Adam(learning_rate=1e-4),\n",
    "    loss=keras.losses.BinaryCrossentropy(),\n",
    "    # loss=recall_fpr_loss,\n",
    "    metrics=[\n",
    "        tf.keras.metrics.AUC(name='pr_auc', curve='PR'), \n",
    "        keras.metrics.Recall(name='recall'),      # Monitoring recall\n",
    "        keras.metrics.FalsePositives(name='fp')  # Monitoring false positives\n",
    "    ]\n",
    ")\n",
    "\n",
    "\n",
    "# Create early stopping to prevent overfitting\n",
    "early_stopping = EarlyStopping(monitor='val_pr_auc', patience=10, restore_best_weights=True)"
   ]
  },
  {
   "cell_type": "code",
   "execution_count": 67,
   "metadata": {},
   "outputs": [
    {
     "name": "stdout",
     "output_type": "stream",
     "text": [
      "Epoch 1/100\n",
      "\u001b[1m882/882\u001b[0m \u001b[32m━━━━━━━━━━━━━━━━━━━━\u001b[0m\u001b[37m\u001b[0m \u001b[1m5s\u001b[0m 3ms/step - fp: 80931.8281 - loss: 0.3390 - pr_auc: 0.1608 - recall: 0.7164 - val_fp: 22673.0000 - val_loss: 0.6895 - val_pr_auc: 0.3542 - val_recall: 0.7782\n",
      "Epoch 2/100\n",
      "\u001b[1m882/882\u001b[0m \u001b[32m━━━━━━━━━━━━━━━━━━━━\u001b[0m\u001b[37m\u001b[0m \u001b[1m3s\u001b[0m 3ms/step - fp: 50517.5547 - loss: 0.2609 - pr_auc: 0.3129 - recall: 0.7755 - val_fp: 18128.0000 - val_loss: 0.5876 - val_pr_auc: 0.3793 - val_recall: 0.7576\n",
      "Epoch 3/100\n",
      "\u001b[1m882/882\u001b[0m \u001b[32m━━━━━━━━━━━━━━━━━━━━\u001b[0m\u001b[37m\u001b[0m \u001b[1m3s\u001b[0m 3ms/step - fp: 42959.2227 - loss: 0.2184 - pr_auc: 0.3380 - recall: 0.7632 - val_fp: 17253.0000 - val_loss: 0.5253 - val_pr_auc: 0.3856 - val_recall: 0.7525\n",
      "Epoch 4/100\n",
      "\u001b[1m882/882\u001b[0m \u001b[32m━━━━━━━━━━━━━━━━━━━━\u001b[0m\u001b[37m\u001b[0m \u001b[1m3s\u001b[0m 3ms/step - fp: 40786.9727 - loss: 0.1871 - pr_auc: 0.3560 - recall: 0.7642 - val_fp: 18245.0000 - val_loss: 0.4939 - val_pr_auc: 0.3903 - val_recall: 0.7690\n",
      "Epoch 5/100\n",
      "\u001b[1m882/882\u001b[0m \u001b[32m━━━━━━━━━━━━━━━━━━━━\u001b[0m\u001b[37m\u001b[0m \u001b[1m3s\u001b[0m 3ms/step - fp: 41526.8242 - loss: 0.1635 - pr_auc: 0.3658 - recall: 0.7723 - val_fp: 18257.0000 - val_loss: 0.4728 - val_pr_auc: 0.3943 - val_recall: 0.7718\n",
      "Epoch 6/100\n",
      "\u001b[1m882/882\u001b[0m \u001b[32m━━━━━━━━━━━━━━━━━━━━\u001b[0m\u001b[37m\u001b[0m \u001b[1m3s\u001b[0m 3ms/step - fp: 40967.8008 - loss: 0.1455 - pr_auc: 0.3705 - recall: 0.7777 - val_fp: 18738.0000 - val_loss: 0.4563 - val_pr_auc: 0.3965 - val_recall: 0.7772\n",
      "Epoch 7/100\n",
      "\u001b[1m882/882\u001b[0m \u001b[32m━━━━━━━━━━━━━━━━━━━━\u001b[0m\u001b[37m\u001b[0m \u001b[1m3s\u001b[0m 3ms/step - fp: 40793.5625 - loss: 0.1313 - pr_auc: 0.3726 - recall: 0.7808 - val_fp: 17982.0000 - val_loss: 0.4405 - val_pr_auc: 0.3979 - val_recall: 0.7698\n",
      "Epoch 8/100\n",
      "\u001b[1m882/882\u001b[0m \u001b[32m━━━━━━━━━━━━━━━━━━━━\u001b[0m\u001b[37m\u001b[0m \u001b[1m3s\u001b[0m 4ms/step - fp: 40426.4062 - loss: 0.1209 - pr_auc: 0.3796 - recall: 0.7818 - val_fp: 18613.0000 - val_loss: 0.4359 - val_pr_auc: 0.4017 - val_recall: 0.7759\n",
      "Epoch 9/100\n",
      "\u001b[1m882/882\u001b[0m \u001b[32m━━━━━━━━━━━━━━━━━━━━\u001b[0m\u001b[37m\u001b[0m \u001b[1m3s\u001b[0m 3ms/step - fp: 40027.7266 - loss: 0.1138 - pr_auc: 0.3782 - recall: 0.7765 - val_fp: 18333.0000 - val_loss: 0.4199 - val_pr_auc: 0.4028 - val_recall: 0.7744\n",
      "Epoch 10/100\n",
      "\u001b[1m882/882\u001b[0m \u001b[32m━━━━━━━━━━━━━━━━━━━━\u001b[0m\u001b[37m\u001b[0m \u001b[1m3s\u001b[0m 3ms/step - fp: 41038.8633 - loss: 0.1075 - pr_auc: 0.3868 - recall: 0.7834 - val_fp: 17024.0000 - val_loss: 0.4123 - val_pr_auc: 0.4035 - val_recall: 0.7619\n",
      "Epoch 11/100\n",
      "\u001b[1m882/882\u001b[0m \u001b[32m━━━━━━━━━━━━━━━━━━━━\u001b[0m\u001b[37m\u001b[0m \u001b[1m3s\u001b[0m 4ms/step - fp: 40070.7031 - loss: 0.1042 - pr_auc: 0.3742 - recall: 0.7794 - val_fp: 16493.0000 - val_loss: 0.4042 - val_pr_auc: 0.3991 - val_recall: 0.7522\n",
      "Epoch 12/100\n",
      "\u001b[1m882/882\u001b[0m \u001b[32m━━━━━━━━━━━━━━━━━━━━\u001b[0m\u001b[37m\u001b[0m \u001b[1m4s\u001b[0m 4ms/step - fp: 39623.2148 - loss: 0.0997 - pr_auc: 0.3907 - recall: 0.7810 - val_fp: 17176.0000 - val_loss: 0.4071 - val_pr_auc: 0.4004 - val_recall: 0.7616\n",
      "Epoch 13/100\n",
      "\u001b[1m882/882\u001b[0m \u001b[32m━━━━━━━━━━━━━━━━━━━━\u001b[0m\u001b[37m\u001b[0m \u001b[1m3s\u001b[0m 4ms/step - fp: 39185.9727 - loss: 0.0962 - pr_auc: 0.3904 - recall: 0.7834 - val_fp: 18932.0000 - val_loss: 0.4159 - val_pr_auc: 0.4024 - val_recall: 0.7806\n",
      "Epoch 14/100\n",
      "\u001b[1m882/882\u001b[0m \u001b[32m━━━━━━━━━━━━━━━━━━━━\u001b[0m\u001b[37m\u001b[0m \u001b[1m4s\u001b[0m 4ms/step - fp: 40163.0391 - loss: 0.0951 - pr_auc: 0.3931 - recall: 0.7857 - val_fp: 18891.0000 - val_loss: 0.4167 - val_pr_auc: 0.4020 - val_recall: 0.7826\n",
      "Epoch 15/100\n",
      "\u001b[1m882/882\u001b[0m \u001b[32m━━━━━━━━━━━━━━━━━━━━\u001b[0m\u001b[37m\u001b[0m \u001b[1m3s\u001b[0m 4ms/step - fp: 40073.2656 - loss: 0.0930 - pr_auc: 0.3897 - recall: 0.7879 - val_fp: 18296.0000 - val_loss: 0.4134 - val_pr_auc: 0.4045 - val_recall: 0.7728\n",
      "Epoch 16/100\n",
      "\u001b[1m882/882\u001b[0m \u001b[32m━━━━━━━━━━━━━━━━━━━━\u001b[0m\u001b[37m\u001b[0m \u001b[1m3s\u001b[0m 3ms/step - fp: 39711.5078 - loss: 0.0928 - pr_auc: 0.3876 - recall: 0.7799 - val_fp: 20090.0000 - val_loss: 0.4228 - val_pr_auc: 0.4029 - val_recall: 0.7908\n",
      "Epoch 17/100\n",
      "\u001b[1m882/882\u001b[0m \u001b[32m━━━━━━━━━━━━━━━━━━━━\u001b[0m\u001b[37m\u001b[0m \u001b[1m3s\u001b[0m 3ms/step - fp: 40520.6758 - loss: 0.0912 - pr_auc: 0.3982 - recall: 0.7896 - val_fp: 18753.0000 - val_loss: 0.4080 - val_pr_auc: 0.4061 - val_recall: 0.7787\n",
      "Epoch 18/100\n",
      "\u001b[1m882/882\u001b[0m \u001b[32m━━━━━━━━━━━━━━━━━━━━\u001b[0m\u001b[37m\u001b[0m \u001b[1m3s\u001b[0m 3ms/step - fp: 40406.0000 - loss: 0.0908 - pr_auc: 0.3878 - recall: 0.7833 - val_fp: 18034.0000 - val_loss: 0.4103 - val_pr_auc: 0.4034 - val_recall: 0.7757\n",
      "Epoch 19/100\n",
      "\u001b[1m882/882\u001b[0m \u001b[32m━━━━━━━━━━━━━━━━━━━━\u001b[0m\u001b[37m\u001b[0m \u001b[1m3s\u001b[0m 3ms/step - fp: 40488.8047 - loss: 0.0893 - pr_auc: 0.3904 - recall: 0.7923 - val_fp: 19069.0000 - val_loss: 0.4176 - val_pr_auc: 0.4032 - val_recall: 0.7829\n",
      "Epoch 20/100\n",
      "\u001b[1m882/882\u001b[0m \u001b[32m━━━━━━━━━━━━━━━━━━━━\u001b[0m\u001b[37m\u001b[0m \u001b[1m3s\u001b[0m 3ms/step - fp: 40471.4336 - loss: 0.0892 - pr_auc: 0.3913 - recall: 0.7836 - val_fp: 19135.0000 - val_loss: 0.4135 - val_pr_auc: 0.4040 - val_recall: 0.7834\n",
      "Epoch 21/100\n",
      "\u001b[1m882/882\u001b[0m \u001b[32m━━━━━━━━━━━━━━━━━━━━\u001b[0m\u001b[37m\u001b[0m \u001b[1m3s\u001b[0m 3ms/step - fp: 40227.6289 - loss: 0.0885 - pr_auc: 0.3930 - recall: 0.7893 - val_fp: 20608.0000 - val_loss: 0.4412 - val_pr_auc: 0.4058 - val_recall: 0.7981\n",
      "Epoch 22/100\n",
      "\u001b[1m882/882\u001b[0m \u001b[32m━━━━━━━━━━━━━━━━━━━━\u001b[0m\u001b[37m\u001b[0m \u001b[1m3s\u001b[0m 3ms/step - fp: 39482.0117 - loss: 0.0877 - pr_auc: 0.3874 - recall: 0.7842 - val_fp: 20683.0000 - val_loss: 0.4205 - val_pr_auc: 0.4035 - val_recall: 0.7957\n",
      "Epoch 23/100\n",
      "\u001b[1m882/882\u001b[0m \u001b[32m━━━━━━━━━━━━━━━━━━━━\u001b[0m\u001b[37m\u001b[0m \u001b[1m3s\u001b[0m 3ms/step - fp: 40674.5273 - loss: 0.0879 - pr_auc: 0.3912 - recall: 0.7885 - val_fp: 18349.0000 - val_loss: 0.4082 - val_pr_auc: 0.4055 - val_recall: 0.7747\n",
      "Epoch 24/100\n",
      "\u001b[1m882/882\u001b[0m \u001b[32m━━━━━━━━━━━━━━━━━━━━\u001b[0m\u001b[37m\u001b[0m \u001b[1m3s\u001b[0m 4ms/step - fp: 39891.3828 - loss: 0.0868 - pr_auc: 0.3887 - recall: 0.7899 - val_fp: 16703.0000 - val_loss: 0.4032 - val_pr_auc: 0.4048 - val_recall: 0.7584\n",
      "Epoch 25/100\n",
      "\u001b[1m882/882\u001b[0m \u001b[32m━━━━━━━━━━━━━━━━━━━━\u001b[0m\u001b[37m\u001b[0m \u001b[1m3s\u001b[0m 3ms/step - fp: 39279.1953 - loss: 0.0866 - pr_auc: 0.3969 - recall: 0.7833 - val_fp: 20207.0000 - val_loss: 0.4267 - val_pr_auc: 0.4037 - val_recall: 0.7967\n",
      "Epoch 26/100\n",
      "\u001b[1m882/882\u001b[0m \u001b[32m━━━━━━━━━━━━━━━━━━━━\u001b[0m\u001b[37m\u001b[0m \u001b[1m3s\u001b[0m 3ms/step - fp: 40738.7422 - loss: 0.0870 - pr_auc: 0.3984 - recall: 0.7967 - val_fp: 21028.0000 - val_loss: 0.4290 - val_pr_auc: 0.4044 - val_recall: 0.8012\n",
      "Epoch 27/100\n",
      "\u001b[1m882/882\u001b[0m \u001b[32m━━━━━━━━━━━━━━━━━━━━\u001b[0m\u001b[37m\u001b[0m \u001b[1m3s\u001b[0m 3ms/step - fp: 40629.4531 - loss: 0.0867 - pr_auc: 0.3901 - recall: 0.7923 - val_fp: 19603.0000 - val_loss: 0.4127 - val_pr_auc: 0.4064 - val_recall: 0.7908\n",
      "Epoch 28/100\n",
      "\u001b[1m882/882\u001b[0m \u001b[32m━━━━━━━━━━━━━━━━━━━━\u001b[0m\u001b[37m\u001b[0m \u001b[1m3s\u001b[0m 3ms/step - fp: 40283.0977 - loss: 0.0866 - pr_auc: 0.3969 - recall: 0.7894 - val_fp: 20310.0000 - val_loss: 0.4160 - val_pr_auc: 0.4044 - val_recall: 0.7932\n",
      "Epoch 29/100\n",
      "\u001b[1m882/882\u001b[0m \u001b[32m━━━━━━━━━━━━━━━━━━━━\u001b[0m\u001b[37m\u001b[0m \u001b[1m3s\u001b[0m 3ms/step - fp: 40518.6797 - loss: 0.0850 - pr_auc: 0.3960 - recall: 0.7990 - val_fp: 20137.0000 - val_loss: 0.4174 - val_pr_auc: 0.4038 - val_recall: 0.7937\n",
      "Epoch 30/100\n",
      "\u001b[1m882/882\u001b[0m \u001b[32m━━━━━━━━━━━━━━━━━━━━\u001b[0m\u001b[37m\u001b[0m \u001b[1m3s\u001b[0m 3ms/step - fp: 40607.3594 - loss: 0.0854 - pr_auc: 0.4041 - recall: 0.7968 - val_fp: 18860.0000 - val_loss: 0.4164 - val_pr_auc: 0.4019 - val_recall: 0.7779\n",
      "Epoch 31/100\n",
      "\u001b[1m882/882\u001b[0m \u001b[32m━━━━━━━━━━━━━━━━━━━━\u001b[0m\u001b[37m\u001b[0m \u001b[1m3s\u001b[0m 3ms/step - fp: 39715.8906 - loss: 0.0856 - pr_auc: 0.4001 - recall: 0.7945 - val_fp: 18936.0000 - val_loss: 0.4049 - val_pr_auc: 0.4059 - val_recall: 0.7838\n",
      "Epoch 32/100\n",
      "\u001b[1m882/882\u001b[0m \u001b[32m━━━━━━━━━━━━━━━━━━━━\u001b[0m\u001b[37m\u001b[0m \u001b[1m3s\u001b[0m 3ms/step - fp: 39723.5508 - loss: 0.0854 - pr_auc: 0.3969 - recall: 0.7875 - val_fp: 22155.0000 - val_loss: 0.4195 - val_pr_auc: 0.4029 - val_recall: 0.8075\n",
      "Epoch 33/100\n",
      "\u001b[1m882/882\u001b[0m \u001b[32m━━━━━━━━━━━━━━━━━━━━\u001b[0m\u001b[37m\u001b[0m \u001b[1m3s\u001b[0m 3ms/step - fp: 40384.7695 - loss: 0.0856 - pr_auc: 0.3993 - recall: 0.7960 - val_fp: 20732.0000 - val_loss: 0.4241 - val_pr_auc: 0.4036 - val_recall: 0.7962\n",
      "Epoch 34/100\n",
      "\u001b[1m882/882\u001b[0m \u001b[32m━━━━━━━━━━━━━━━━━━━━\u001b[0m\u001b[37m\u001b[0m \u001b[1m3s\u001b[0m 3ms/step - fp: 39838.5586 - loss: 0.0855 - pr_auc: 0.4045 - recall: 0.7923 - val_fp: 20096.0000 - val_loss: 0.4172 - val_pr_auc: 0.4044 - val_recall: 0.7945\n",
      "Epoch 35/100\n",
      "\u001b[1m882/882\u001b[0m \u001b[32m━━━━━━━━━━━━━━━━━━━━\u001b[0m\u001b[37m\u001b[0m \u001b[1m3s\u001b[0m 3ms/step - fp: 40906.8359 - loss: 0.0859 - pr_auc: 0.3915 - recall: 0.7948 - val_fp: 21240.0000 - val_loss: 0.4198 - val_pr_auc: 0.4044 - val_recall: 0.8001\n",
      "Epoch 36/100\n",
      "\u001b[1m882/882\u001b[0m \u001b[32m━━━━━━━━━━━━━━━━━━━━\u001b[0m\u001b[37m\u001b[0m \u001b[1m3s\u001b[0m 3ms/step - fp: 40462.7773 - loss: 0.0858 - pr_auc: 0.3969 - recall: 0.7929 - val_fp: 21489.0000 - val_loss: 0.4383 - val_pr_auc: 0.4059 - val_recall: 0.8065\n",
      "Epoch 37/100\n",
      "\u001b[1m882/882\u001b[0m \u001b[32m━━━━━━━━━━━━━━━━━━━━\u001b[0m\u001b[37m\u001b[0m \u001b[1m3s\u001b[0m 3ms/step - fp: 40049.3672 - loss: 0.0851 - pr_auc: 0.3942 - recall: 0.7922 - val_fp: 22417.0000 - val_loss: 0.4137 - val_pr_auc: 0.4037 - val_recall: 0.8086\n"
     ]
    }
   ],
   "source": [
    "# Fit the model\n",
    "history = nn_model.fit(\n",
    "    X_train_nn,\n",
    "    y_train_nn,\n",
    "    class_weight = class_weights,\n",
    "    epochs=100,\n",
    "    batch_size=512,\n",
    "    verbose=1,\n",
    "    validation_data=(X_val_nn, y_val_nn), \n",
    "    callbacks=[early_stopping]  # Set up early stopping to prevent overfitting\n",
    ")"
   ]
  },
  {
   "cell_type": "code",
   "execution_count": 68,
   "metadata": {},
   "outputs": [
    {
     "ename": "ValueError",
     "evalue": "X has 70 features, but ColumnTransformer is expecting 19 features as input.",
     "output_type": "error",
     "traceback": [
      "\u001b[1;31m---------------------------------------------------------------------------\u001b[0m",
      "\u001b[1;31mValueError\u001b[0m                                Traceback (most recent call last)",
      "Cell \u001b[1;32mIn[68], line 1\u001b[0m\n\u001b[1;32m----> 1\u001b[0m X_test \u001b[38;5;241m=\u001b[39m preprocess_pipe\u001b[38;5;241m.\u001b[39mtransform(X_test)\n",
      "File \u001b[1;32mc:\\Users\\yehua\\anaconda3\\envs\\heart_attack_prediction_env\\Lib\\site-packages\\imblearn\\pipeline.py:832\u001b[0m, in \u001b[0;36mPipeline.transform\u001b[1;34m(self, X, **params)\u001b[0m\n\u001b[0;32m    830\u001b[0m Xt \u001b[38;5;241m=\u001b[39m X\n\u001b[0;32m    831\u001b[0m \u001b[38;5;28;01mfor\u001b[39;00m _, name, transform \u001b[38;5;129;01min\u001b[39;00m \u001b[38;5;28mself\u001b[39m\u001b[38;5;241m.\u001b[39m_iter():\n\u001b[1;32m--> 832\u001b[0m     Xt \u001b[38;5;241m=\u001b[39m transform\u001b[38;5;241m.\u001b[39mtransform(Xt, \u001b[38;5;241m*\u001b[39m\u001b[38;5;241m*\u001b[39mrouted_params[name]\u001b[38;5;241m.\u001b[39mtransform)\n\u001b[0;32m    833\u001b[0m \u001b[38;5;28;01mreturn\u001b[39;00m Xt\n",
      "File \u001b[1;32mc:\\Users\\yehua\\anaconda3\\envs\\heart_attack_prediction_env\\Lib\\site-packages\\sklearn\\utils\\_set_output.py:140\u001b[0m, in \u001b[0;36m_wrap_method_output.<locals>.wrapped\u001b[1;34m(self, X, *args, **kwargs)\u001b[0m\n\u001b[0;32m    138\u001b[0m \u001b[38;5;129m@wraps\u001b[39m(f)\n\u001b[0;32m    139\u001b[0m \u001b[38;5;28;01mdef\u001b[39;00m \u001b[38;5;21mwrapped\u001b[39m(\u001b[38;5;28mself\u001b[39m, X, \u001b[38;5;241m*\u001b[39margs, \u001b[38;5;241m*\u001b[39m\u001b[38;5;241m*\u001b[39mkwargs):\n\u001b[1;32m--> 140\u001b[0m     data_to_wrap \u001b[38;5;241m=\u001b[39m f(\u001b[38;5;28mself\u001b[39m, X, \u001b[38;5;241m*\u001b[39margs, \u001b[38;5;241m*\u001b[39m\u001b[38;5;241m*\u001b[39mkwargs)\n\u001b[0;32m    141\u001b[0m     \u001b[38;5;28;01mif\u001b[39;00m \u001b[38;5;28misinstance\u001b[39m(data_to_wrap, \u001b[38;5;28mtuple\u001b[39m):\n\u001b[0;32m    142\u001b[0m         \u001b[38;5;66;03m# only wrap the first output for cross decomposition\u001b[39;00m\n\u001b[0;32m    143\u001b[0m         return_tuple \u001b[38;5;241m=\u001b[39m (\n\u001b[0;32m    144\u001b[0m             _wrap_data_with_container(method, data_to_wrap[\u001b[38;5;241m0\u001b[39m], X, \u001b[38;5;28mself\u001b[39m),\n\u001b[0;32m    145\u001b[0m             \u001b[38;5;241m*\u001b[39mdata_to_wrap[\u001b[38;5;241m1\u001b[39m:],\n\u001b[0;32m    146\u001b[0m         )\n",
      "File \u001b[1;32mc:\\Users\\yehua\\anaconda3\\envs\\heart_attack_prediction_env\\Lib\\site-packages\\sklearn\\compose\\_column_transformer.py:814\u001b[0m, in \u001b[0;36mColumnTransformer.transform\u001b[1;34m(self, X)\u001b[0m\n\u001b[0;32m    810\u001b[0m         \u001b[38;5;28;01mraise\u001b[39;00m \u001b[38;5;167;01mValueError\u001b[39;00m(\u001b[38;5;124mf\u001b[39m\u001b[38;5;124m\"\u001b[39m\u001b[38;5;124mcolumns are missing: \u001b[39m\u001b[38;5;132;01m{\u001b[39;00mdiff\u001b[38;5;132;01m}\u001b[39;00m\u001b[38;5;124m\"\u001b[39m)\n\u001b[0;32m    811\u001b[0m \u001b[38;5;28;01melse\u001b[39;00m:\n\u001b[0;32m    812\u001b[0m     \u001b[38;5;66;03m# ndarray was used for fitting or transforming, thus we only\u001b[39;00m\n\u001b[0;32m    813\u001b[0m     \u001b[38;5;66;03m# check that n_features_in_ is consistent\u001b[39;00m\n\u001b[1;32m--> 814\u001b[0m     \u001b[38;5;28mself\u001b[39m\u001b[38;5;241m.\u001b[39m_check_n_features(X, reset\u001b[38;5;241m=\u001b[39m\u001b[38;5;28;01mFalse\u001b[39;00m)\n\u001b[0;32m    816\u001b[0m Xs \u001b[38;5;241m=\u001b[39m \u001b[38;5;28mself\u001b[39m\u001b[38;5;241m.\u001b[39m_fit_transform(\n\u001b[0;32m    817\u001b[0m     X,\n\u001b[0;32m    818\u001b[0m     \u001b[38;5;28;01mNone\u001b[39;00m,\n\u001b[1;32m   (...)\u001b[0m\n\u001b[0;32m    821\u001b[0m     column_as_strings\u001b[38;5;241m=\u001b[39mfit_dataframe_and_transform_dataframe,\n\u001b[0;32m    822\u001b[0m )\n\u001b[0;32m    823\u001b[0m \u001b[38;5;28mself\u001b[39m\u001b[38;5;241m.\u001b[39m_validate_output(Xs)\n",
      "File \u001b[1;32mc:\\Users\\yehua\\anaconda3\\envs\\heart_attack_prediction_env\\Lib\\site-packages\\sklearn\\base.py:414\u001b[0m, in \u001b[0;36mBaseEstimator._check_n_features\u001b[1;34m(self, X, reset)\u001b[0m\n\u001b[0;32m    411\u001b[0m     \u001b[38;5;28;01mreturn\u001b[39;00m\n\u001b[0;32m    413\u001b[0m \u001b[38;5;28;01mif\u001b[39;00m n_features \u001b[38;5;241m!=\u001b[39m \u001b[38;5;28mself\u001b[39m\u001b[38;5;241m.\u001b[39mn_features_in_:\n\u001b[1;32m--> 414\u001b[0m     \u001b[38;5;28;01mraise\u001b[39;00m \u001b[38;5;167;01mValueError\u001b[39;00m(\n\u001b[0;32m    415\u001b[0m         \u001b[38;5;124mf\u001b[39m\u001b[38;5;124m\"\u001b[39m\u001b[38;5;124mX has \u001b[39m\u001b[38;5;132;01m{\u001b[39;00mn_features\u001b[38;5;132;01m}\u001b[39;00m\u001b[38;5;124m features, but \u001b[39m\u001b[38;5;132;01m{\u001b[39;00m\u001b[38;5;28mself\u001b[39m\u001b[38;5;241m.\u001b[39m\u001b[38;5;18m__class__\u001b[39m\u001b[38;5;241m.\u001b[39m\u001b[38;5;18m__name__\u001b[39m\u001b[38;5;132;01m}\u001b[39;00m\u001b[38;5;124m \u001b[39m\u001b[38;5;124m\"\u001b[39m\n\u001b[0;32m    416\u001b[0m         \u001b[38;5;124mf\u001b[39m\u001b[38;5;124m\"\u001b[39m\u001b[38;5;124mis expecting \u001b[39m\u001b[38;5;132;01m{\u001b[39;00m\u001b[38;5;28mself\u001b[39m\u001b[38;5;241m.\u001b[39mn_features_in_\u001b[38;5;132;01m}\u001b[39;00m\u001b[38;5;124m features as input.\u001b[39m\u001b[38;5;124m\"\u001b[39m\n\u001b[0;32m    417\u001b[0m     )\n",
      "\u001b[1;31mValueError\u001b[0m: X has 70 features, but ColumnTransformer is expecting 19 features as input."
     ]
    }
   ],
   "source": [
    "X_test = preprocess_pipe.transform(X_test)"
   ]
  },
  {
   "cell_type": "code",
   "execution_count": 69,
   "metadata": {},
   "outputs": [
    {
     "name": "stdout",
     "output_type": "stream",
     "text": [
      "\u001b[1m14100/14100\u001b[0m \u001b[32m━━━━━━━━━━━━━━━━━━━━\u001b[0m\u001b[37m\u001b[0m \u001b[1m9s\u001b[0m 626us/step\n",
      "\u001b[1m5875/5875\u001b[0m \u001b[32m━━━━━━━━━━━━━━━━━━━━\u001b[0m\u001b[37m\u001b[0m \u001b[1m4s\u001b[0m 610us/step\n",
      "Confusion matrices: \n",
      "==================================================================\n"
     ]
    },
    {
     "data": {
      "text/plain": [
       "<Figure size 300x300 with 0 Axes>"
      ]
     },
     "metadata": {},
     "output_type": "display_data"
    },
    {
     "data": {
      "image/png": "[encoded data removed]",
      "text/plain": [
       "<Figure size 600x600 with 2 Axes>"
      ]
     },
     "metadata": {},
     "output_type": "display_data"
    },
    {
     "name": "stdout",
     "output_type": "stream",
     "text": [
      "Test Data Classification Report: \n",
      "==================================================================               precision    recall  f1-score   support\n",
      "\n",
      "           0       0.99      0.82      0.89    178076\n",
      "           1       0.19      0.78      0.31      9921\n",
      "\n",
      "    accuracy                           0.81    187997\n",
      "   macro avg       0.59      0.80      0.60    187997\n",
      "weighted avg       0.94      0.81      0.86    187997\n",
      "\n",
      "Recall Score:\n",
      "Train: 0.795\n",
      "Test: 0.782 \n",
      "==================================================================\n",
      "False Positive Rate:\n",
      "Train: 0.183\n",
      "Test: 0.183 \n",
      "==================================================================\n",
      "Accuracy Score:\n",
      "Train: 0.816\n",
      "Test: 0.815 \n",
      "==================================================================\n",
      "Precision Score:\n",
      "Train: 0.195\n",
      "Test: 0.192 \n",
      "==================================================================\n",
      "F1 Score:\n",
      "Train: 0.314\n",
      "Test: 0.308 \n",
      "==================================================================\n",
      "AUC Score:\n",
      "Train: 0.892\n",
      "Test: 0.883 \n",
      "==================================================================\n"
     ]
    }
   ],
   "source": [
    "evaluator = ModelEvaluator(nn_model, is_neural_network=True)\n",
    "evaluator.evaluate(X_train_nn, X_test, y_train_nn, y_test)\n"
   ]
  },
  {
   "cell_type": "code",
   "execution_count": 75,
   "metadata": {},
   "outputs": [
    {
     "name": "stdout",
     "output_type": "stream",
     "text": [
      "\u001b[1m5875/5875\u001b[0m \u001b[32m━━━━━━━━━━━━━━━━━━━━\u001b[0m\u001b[37m\u001b[0m \u001b[1m4s\u001b[0m 685us/step\n",
      "For recall score to reach the target of 0.85, the threshold should be updated to: 0.4127\n"
     ]
    }
   ],
   "source": [
    "# Create variable for target recall score\n",
    "target_recall = 0.85\n",
    "\n",
    "# Get the probablistic prediction on test dataset\n",
    "y_pred_test = nn_model.predict(X_test).flatten()  # find the probablitity of positive class\n",
    "\n",
    "# find recall (tpr), false positive rate with the corresponding thresholds\n",
    "fpr, tpr, thresholds = roc_curve(y_test, y_pred_test)\n",
    "\n",
    "# Use for loop to find the thresholds whenever recall/tpr exceeds target_recall\n",
    "for i in range(len(tpr)):\n",
    "    if tpr[i] > target_recall:\n",
    "        model_threshold = thresholds[i]\n",
    "        print(f'For recall score to reach the target of 0.85, the threshold should be updated to: {model_threshold:.4f}')\n",
    "        break"
   ]
  },
  {
   "cell_type": "code",
   "execution_count": 77,
   "metadata": {},
   "outputs": [
    {
     "name": "stdout",
     "output_type": "stream",
     "text": [
      "\u001b[1m14100/14100\u001b[0m \u001b[32m━━━━━━━━━━━━━━━━━━━━\u001b[0m\u001b[37m\u001b[0m \u001b[1m9s\u001b[0m 623us/step\n",
      "\u001b[1m5875/5875\u001b[0m \u001b[32m━━━━━━━━━━━━━━━━━━━━\u001b[0m\u001b[37m\u001b[0m \u001b[1m4s\u001b[0m 599us/step\n",
      "Confusion matrices: \n",
      "==================================================================\n"
     ]
    },
    {
     "data": {
      "text/plain": [
       "<Figure size 300x300 with 0 Axes>"
      ]
     },
     "metadata": {},
     "output_type": "display_data"
    },
    {
     "data": {
      "image/png": "[encoded data removed]",
      "text/plain": [
       "<Figure size 600x600 with 2 Axes>"
      ]
     },
     "metadata": {},
     "output_type": "display_data"
    },
    {
     "name": "stdout",
     "output_type": "stream",
     "text": [
      "Test Data Classification Report: \n",
      "==================================================================               precision    recall  f1-score   support\n",
      "\n",
      "           0       0.99      0.73      0.84    178076\n",
      "           1       0.15      0.85      0.26      9921\n",
      "\n",
      "    accuracy                           0.74    187997\n",
      "   macro avg       0.57      0.79      0.55    187997\n",
      "weighted avg       0.94      0.74      0.81    187997\n",
      "\n",
      "Recall Score:\n",
      "Train: 0.862\n",
      "Test: 0.850 \n",
      "==================================================================\n",
      "False Positive Rate:\n",
      "Train: 0.265\n",
      "Test: 0.266 \n",
      "==================================================================\n",
      "Accuracy Score:\n",
      "Train: 0.742\n",
      "Test: 0.740 \n",
      "==================================================================\n",
      "Precision Score:\n",
      "Train: 0.153\n",
      "Test: 0.151 \n",
      "==================================================================\n",
      "F1 Score:\n",
      "Train: 0.260\n",
      "Test: 0.257 \n",
      "==================================================================\n",
      "AUC Score:\n",
      "Train: 0.892\n",
      "Test: 0.883 \n",
      "==================================================================\n"
     ]
    }
   ],
   "source": [
    "# Re-evaluate the model using the new threshold\n",
    "evaluator = ModelEvaluator(nn_model, is_neural_network=True)\n",
    "evaluator.evaluate(X_train_nn, X_test, y_train_nn, y_test, thresholds=model_threshold)"
   ]
  },
  {
   "cell_type": "code",
   "execution_count": null,
   "metadata": {},
   "outputs": [],
   "source": []
  },
  {
   "cell_type": "code",
   "execution_count": null,
   "metadata": {},
   "outputs": [],
   "source": []
  },
  {
   "cell_type": "code",
   "execution_count": null,
   "metadata": {},
   "outputs": [],
   "source": []
  }
 ],
 "metadata": {
  "kernelspec": {
   "display_name": "heart_attack_prediction_env",
   "language": "python",
   "name": "python3"
  },
  "language_info": {
   "codemirror_mode": {
    "name": "ipython",
    "version": 3
   },
   "file_extension": ".py",
   "mimetype": "text/x-python",
   "name": "python",
   "nbconvert_exporter": "python",
   "pygments_lexer": "ipython3",
   "version": "3.11.5"
  }
 },
 "nbformat": 4,
 "nbformat_minor": 2
}
