{
 "cells": [
  {
   "cell_type": "markdown",
   "metadata": {},
   "source": [
    "## Heart Attack Prediction Model \n",
    "## Preproceessing - Feature Engineering \n",
    "## Modeling - Baseline Modeling \n",
    "\n",
    "---"
   ]
  },
  {
   "cell_type": "markdown",
   "metadata": {},
   "source": [
    "\n",
    "## Author: Will Wu\n",
    "\n",
    "## Date: 2025-03-14\n",
    "---"
   ]
  },
  {
   "cell_type": "markdown",
   "metadata": {},
   "source": [
    "## **Table of Contents** ##\n",
    "1. [Setup and Load Data](#1)\n",
    "2. [Feature Engineering](#2)\n",
    "    - [Binning Data - `bmi`](#2a)\n",
    "\n",
    "3.  [Data Preparation](#3)\n",
    "    - [Binary Encoding](#3a)\n",
    "    - [Train-Validation-Test-Split](#3b)\n",
    "    - [One-Hot Encoding](#3c)\n",
    "    - [Handling Class Imbalance](#3d)\n",
    "    - [Feature Scaling](#3e)\n",
    "    - [Feature Selection](#3f)\n",
    "    - [Reducing Dimensionality using PCA](#3f)\n",
    "     \n",
    "4. [Baseline Modeling](#4)\n",
    "    - [Logistic Regression](#4a)\n",
    "\n",
    "---"
   ]
  },
  {
   "cell_type": "markdown",
   "metadata": {},
   "source": [
    "## 1. Setup and Loading<a class=\"anchor\" id=\"1\"></a>"
   ]
  },
  {
   "cell_type": "code",
   "execution_count": 1,
   "metadata": {},
   "outputs": [],
   "source": [
    "# Import packages\n",
    "import pandas as pd\n",
    "import numpy as np\n",
    "import matplotlib.pyplot as plt\n",
    "import seaborn as sns\n",
    "from sklearn.linear_model import LogisticRegression\n",
    "from sklearn.model_selection import train_test_split\n",
    "from sklearn.preprocessing import StandardScaler, MinMaxScaler\n",
    "from sklearn.decomposition import PCA\n",
    "from sklearn.utils import resample\n",
    "from sklearn.neighbors import KNeighborsClassifier\n",
    "from sklearn.tree import DecisionTreeClassifier\n",
    "\n",
    "from sklearn.feature_selection import SelectKBest, VarianceThreshold, f_classif, f_regression\n",
    "from sklearn.preprocessing import LabelEncoder, OneHotEncoder, OrdinalEncoder\n",
    "\n",
    "from sklearn.metrics import r2_score, mean_squared_error, mean_absolute_error\n",
    "from sklearn.metrics import accuracy_score, f1_score, precision_score, recall_score, roc_curve, roc_auc_score\n",
    "from sklearn.metrics import classification_report, confusion_matrix, RocCurveDisplay, ConfusionMatrixDisplay\n",
    "from sklearn.utils import resample\n",
    "\n"
   ]
  },
  {
   "cell_type": "code",
   "execution_count": 2,
   "metadata": {},
   "outputs": [],
   "source": [
    "# Configure Seaborn to use 'darkgrid' as the default background style\n",
    "sns.set_style('darkgrid')\n",
    "\n",
    "# Create a default palette\n",
    "palette = sns.color_palette(\"muted\")\n",
    "\n",
    "# Setting figure size, fontsize globally in the notebook\n",
    "plt.rcParams[\"figure.figsize\"] = (6.0, 6.0)\n",
    "\n",
    "# Filter warnings \n",
    "from warnings import filterwarnings\n",
    "filterwarnings(action='ignore')"
   ]
  },
  {
   "cell_type": "code",
   "execution_count": 3,
   "metadata": {},
   "outputs": [],
   "source": [
    "# Load the dataset\n",
    "df = pd.read_csv(\"../../data/Active/processed/heart_attack_clean_final.csv\")"
   ]
  },
  {
   "cell_type": "code",
   "execution_count": 921,
   "metadata": {},
   "outputs": [
    {
     "data": {
      "text/html": [
       "<div>\n",
       "<style scoped>\n",
       "    .dataframe tbody tr th:only-of-type {\n",
       "        vertical-align: middle;\n",
       "    }\n",
       "\n",
       "    .dataframe tbody tr th {\n",
       "        vertical-align: top;\n",
       "    }\n",
       "\n",
       "    .dataframe thead th {\n",
       "        text-align: right;\n",
       "    }\n",
       "</style>\n",
       "<table border=\"1\" class=\"dataframe\">\n",
       "  <thead>\n",
       "    <tr style=\"text-align: right;\">\n",
       "      <th></th>\n",
       "      <th>year</th>\n",
       "      <th>sex</th>\n",
       "      <th>race_ethnicity_category</th>\n",
       "      <th>age_category</th>\n",
       "      <th>state</th>\n",
       "      <th>height</th>\n",
       "      <th>weight</th>\n",
       "      <th>bmi</th>\n",
       "      <th>alcohol_drinkers</th>\n",
       "      <th>general_health</th>\n",
       "      <th>...</th>\n",
       "      <th>difficulty_walking</th>\n",
       "      <th>difficulty_concentrating</th>\n",
       "      <th>difficulty_dressing_bathing</th>\n",
       "      <th>difficulty_errands</th>\n",
       "      <th>last_checkup_time</th>\n",
       "      <th>chest_scan</th>\n",
       "      <th>flu_vax</th>\n",
       "      <th>tetanus_vax</th>\n",
       "      <th>pneumo_vax</th>\n",
       "      <th>had_heart_attack</th>\n",
       "    </tr>\n",
       "  </thead>\n",
       "  <tbody>\n",
       "    <tr>\n",
       "      <th>0</th>\n",
       "      <td>2022</td>\n",
       "      <td>Female</td>\n",
       "      <td>White</td>\n",
       "      <td>80+</td>\n",
       "      <td>Alabama</td>\n",
       "      <td>1.63</td>\n",
       "      <td>65.77</td>\n",
       "      <td>24.75</td>\n",
       "      <td>No</td>\n",
       "      <td>Very good</td>\n",
       "      <td>...</td>\n",
       "      <td>No</td>\n",
       "      <td>No</td>\n",
       "      <td>No</td>\n",
       "      <td>No</td>\n",
       "      <td>Past year</td>\n",
       "      <td>No</td>\n",
       "      <td>Yes</td>\n",
       "      <td>Tetanus shot (unsure type)</td>\n",
       "      <td>No</td>\n",
       "      <td>No</td>\n",
       "    </tr>\n",
       "    <tr>\n",
       "      <th>1</th>\n",
       "      <td>2022</td>\n",
       "      <td>Female</td>\n",
       "      <td>White</td>\n",
       "      <td>80+</td>\n",
       "      <td>Alabama</td>\n",
       "      <td>1.60</td>\n",
       "      <td>68.04</td>\n",
       "      <td>26.58</td>\n",
       "      <td>No</td>\n",
       "      <td>Excellent</td>\n",
       "      <td>...</td>\n",
       "      <td>No</td>\n",
       "      <td>No</td>\n",
       "      <td>No</td>\n",
       "      <td>No</td>\n",
       "      <td>Never</td>\n",
       "      <td>No</td>\n",
       "      <td>No</td>\n",
       "      <td>No tetanus shot</td>\n",
       "      <td>No</td>\n",
       "      <td>No</td>\n",
       "    </tr>\n",
       "    <tr>\n",
       "      <th>2</th>\n",
       "      <td>2022</td>\n",
       "      <td>Female</td>\n",
       "      <td>White</td>\n",
       "      <td>55-59</td>\n",
       "      <td>Alabama</td>\n",
       "      <td>1.57</td>\n",
       "      <td>63.50</td>\n",
       "      <td>25.76</td>\n",
       "      <td>No</td>\n",
       "      <td>Very good</td>\n",
       "      <td>...</td>\n",
       "      <td>No</td>\n",
       "      <td>No</td>\n",
       "      <td>No</td>\n",
       "      <td>No</td>\n",
       "      <td>Past year</td>\n",
       "      <td>No</td>\n",
       "      <td>No</td>\n",
       "      <td>Unknown</td>\n",
       "      <td>No</td>\n",
       "      <td>No</td>\n",
       "    </tr>\n",
       "    <tr>\n",
       "      <th>3</th>\n",
       "      <td>2022</td>\n",
       "      <td>Female</td>\n",
       "      <td>White</td>\n",
       "      <td>40-44</td>\n",
       "      <td>Alabama</td>\n",
       "      <td>1.57</td>\n",
       "      <td>53.98</td>\n",
       "      <td>21.90</td>\n",
       "      <td>Yes</td>\n",
       "      <td>Fair</td>\n",
       "      <td>...</td>\n",
       "      <td>No</td>\n",
       "      <td>No</td>\n",
       "      <td>No</td>\n",
       "      <td>No</td>\n",
       "      <td>Past year</td>\n",
       "      <td>Yes</td>\n",
       "      <td>No</td>\n",
       "      <td>No tetanus shot</td>\n",
       "      <td>Yes</td>\n",
       "      <td>No</td>\n",
       "    </tr>\n",
       "    <tr>\n",
       "      <th>4</th>\n",
       "      <td>2022</td>\n",
       "      <td>Male</td>\n",
       "      <td>White</td>\n",
       "      <td>80+</td>\n",
       "      <td>Alabama</td>\n",
       "      <td>1.80</td>\n",
       "      <td>84.82</td>\n",
       "      <td>26.18</td>\n",
       "      <td>No</td>\n",
       "      <td>Poor</td>\n",
       "      <td>...</td>\n",
       "      <td>No</td>\n",
       "      <td>No</td>\n",
       "      <td>No</td>\n",
       "      <td>No</td>\n",
       "      <td>Past year</td>\n",
       "      <td>No</td>\n",
       "      <td>No</td>\n",
       "      <td>No tetanus shot</td>\n",
       "      <td>Yes</td>\n",
       "      <td>Yes</td>\n",
       "    </tr>\n",
       "  </tbody>\n",
       "</table>\n",
       "<p>5 rows × 37 columns</p>\n",
       "</div>"
      ],
      "text/plain": [
       "   year     sex race_ethnicity_category age_category    state  height  weight  \\\n",
       "0  2022  Female                   White          80+  Alabama    1.63   65.77   \n",
       "1  2022  Female                   White          80+  Alabama    1.60   68.04   \n",
       "2  2022  Female                   White        55-59  Alabama    1.57   63.50   \n",
       "3  2022  Female                   White        40-44  Alabama    1.57   53.98   \n",
       "4  2022    Male                   White          80+  Alabama    1.80   84.82   \n",
       "\n",
       "     bmi alcohol_drinkers general_health  ... difficulty_walking  \\\n",
       "0  24.75               No      Very good  ...                 No   \n",
       "1  26.58               No      Excellent  ...                 No   \n",
       "2  25.76               No      Very good  ...                 No   \n",
       "3  21.90              Yes           Fair  ...                 No   \n",
       "4  26.18               No           Poor  ...                 No   \n",
       "\n",
       "  difficulty_concentrating difficulty_dressing_bathing  difficulty_errands  \\\n",
       "0                       No                          No                  No   \n",
       "1                       No                          No                  No   \n",
       "2                       No                          No                  No   \n",
       "3                       No                          No                  No   \n",
       "4                       No                          No                  No   \n",
       "\n",
       "   last_checkup_time chest_scan flu_vax                 tetanus_vax  \\\n",
       "0          Past year         No     Yes  Tetanus shot (unsure type)   \n",
       "1              Never         No      No             No tetanus shot   \n",
       "2          Past year         No      No                     Unknown   \n",
       "3          Past year        Yes      No             No tetanus shot   \n",
       "4          Past year         No      No             No tetanus shot   \n",
       "\n",
       "  pneumo_vax had_heart_attack  \n",
       "0         No               No  \n",
       "1         No               No  \n",
       "2         No               No  \n",
       "3        Yes               No  \n",
       "4        Yes              Yes  \n",
       "\n",
       "[5 rows x 37 columns]"
      ]
     },
     "execution_count": 921,
     "metadata": {},
     "output_type": "execute_result"
    }
   ],
   "source": [
    "# Check top 5 rows\n",
    "df.head()"
   ]
  },
  {
   "cell_type": "markdown",
   "metadata": {},
   "source": [
    "---"
   ]
  },
  {
   "cell_type": "markdown",
   "metadata": {},
   "source": [
    "## 2. Feature Engineering <a class=\"anchor\" id=\"2\"></a>"
   ]
  },
  {
   "cell_type": "markdown",
   "metadata": {},
   "source": [
    "### 2.1 Binning Data - `bmi`  <a class=\"anchor\" id=\"2a\"></a>"
   ]
  },
  {
   "cell_type": "markdown",
   "metadata": {},
   "source": [
    "- From preliminary EDA, the distribution of `bmi` is slightly right-skewed, with notable outliers at the higher end. Therefore, converting bmi into bins could be beneficial in mitigating the impact of these outliers.\n",
    "- According to the BMI definition, individuals are categorized as 'underweight' (bmi < 18.5), 'healthy' (18.5 <= bmi < 25), 'overweight' (25 <= bmi < 30), or 'obese' (bmi > 30). Preliminary EDA findings indicate that the boundary between 'healthy' and 'obese' (BMI of 25) is a critical point, with those below this threshold less likely to experience a heart attack. Thus, I aim to bin the numeric BMI values into categories to explore how the likelihood of having a heart attack varies. To approach this, I will:\n",
    "    - Create a subset that stores `bmi`, target varaible `had_heart_attack`, and create a bmi_category column\n",
    "    - Calculate the possibility of having a heart attack for each bmi_category\n",
    "    - Visulize the possibility to see if there is any difference."
   ]
  },
  {
   "cell_type": "code",
   "execution_count": 922,
   "metadata": {},
   "outputs": [],
   "source": [
    "# Create a function that turns bmi into bins\n",
    "def get_bmi_bin(bmi):\n",
    "    \"\"\"\n",
    "    Return the BMI category based on the input bmi value.\n",
    "\n",
    "    If bmi <= 0, raise ValueError.\n",
    "\n",
    "    Args:\n",
    "        bmi (float): Numeric BMI value.\n",
    "\n",
    "    Returns:\n",
    "        str: One of the following categories: 'underweight', 'healthy', 'overweight', 'obese'.\n",
    "\n",
    "    \"\"\"\n",
    "    if bmi <= 0:\n",
    "        raise ValueError('BMI cannot be less or equal to Zero.')\n",
    "\n",
    "    match bmi:\n",
    "        case _ if bmi < 18.5:\n",
    "            return 'underweight'\n",
    "        case _ if bmi < 25:\n",
    "            return 'healthy'\n",
    "        case _ if bmi < 30:\n",
    "            return 'overweight'\n",
    "        case _:\n",
    "            return 'obese'\n"
   ]
  },
  {
   "cell_type": "code",
   "execution_count": 923,
   "metadata": {},
   "outputs": [
    {
     "data": {
      "text/html": [
       "<div>\n",
       "<style scoped>\n",
       "    .dataframe tbody tr th:only-of-type {\n",
       "        vertical-align: middle;\n",
       "    }\n",
       "\n",
       "    .dataframe tbody tr th {\n",
       "        vertical-align: top;\n",
       "    }\n",
       "\n",
       "    .dataframe thead th {\n",
       "        text-align: right;\n",
       "    }\n",
       "</style>\n",
       "<table border=\"1\" class=\"dataframe\">\n",
       "  <thead>\n",
       "    <tr style=\"text-align: right;\">\n",
       "      <th></th>\n",
       "      <th>bmi</th>\n",
       "      <th>had_heart_attack</th>\n",
       "      <th>bmi_category</th>\n",
       "    </tr>\n",
       "  </thead>\n",
       "  <tbody>\n",
       "    <tr>\n",
       "      <th>0</th>\n",
       "      <td>24.75</td>\n",
       "      <td>No</td>\n",
       "      <td>healthy</td>\n",
       "    </tr>\n",
       "    <tr>\n",
       "      <th>1</th>\n",
       "      <td>26.58</td>\n",
       "      <td>No</td>\n",
       "      <td>overweight</td>\n",
       "    </tr>\n",
       "    <tr>\n",
       "      <th>2</th>\n",
       "      <td>25.76</td>\n",
       "      <td>No</td>\n",
       "      <td>overweight</td>\n",
       "    </tr>\n",
       "    <tr>\n",
       "      <th>3</th>\n",
       "      <td>21.90</td>\n",
       "      <td>No</td>\n",
       "      <td>healthy</td>\n",
       "    </tr>\n",
       "    <tr>\n",
       "      <th>4</th>\n",
       "      <td>26.18</td>\n",
       "      <td>Yes</td>\n",
       "      <td>overweight</td>\n",
       "    </tr>\n",
       "  </tbody>\n",
       "</table>\n",
       "</div>"
      ],
      "text/plain": [
       "     bmi had_heart_attack bmi_category\n",
       "0  24.75               No      healthy\n",
       "1  26.58               No   overweight\n",
       "2  25.76               No   overweight\n",
       "3  21.90               No      healthy\n",
       "4  26.18              Yes   overweight"
      ]
     },
     "execution_count": 923,
     "metadata": {},
     "output_type": "execute_result"
    }
   ],
   "source": [
    "# Create a new subset with bmi and had_heart_attack\n",
    "bmi_df = df[['bmi', 'had_heart_attack']]\n",
    "\n",
    "# Create a new column that maps bmi into category\n",
    "bmi_df['bmi_category'] = bmi_df['bmi'].apply(get_bmi_bin)\n",
    "bmi_df.head()"
   ]
  },
  {
   "cell_type": "code",
   "execution_count": 924,
   "metadata": {},
   "outputs": [
    {
     "data": {
      "text/html": [
       "<div>\n",
       "<style scoped>\n",
       "    .dataframe tbody tr th:only-of-type {\n",
       "        vertical-align: middle;\n",
       "    }\n",
       "\n",
       "    .dataframe tbody tr th {\n",
       "        vertical-align: top;\n",
       "    }\n",
       "\n",
       "    .dataframe thead th {\n",
       "        text-align: right;\n",
       "    }\n",
       "</style>\n",
       "<table border=\"1\" class=\"dataframe\">\n",
       "  <thead>\n",
       "    <tr style=\"text-align: right;\">\n",
       "      <th>had_heart_attack</th>\n",
       "      <th>No</th>\n",
       "      <th>Yes</th>\n",
       "    </tr>\n",
       "    <tr>\n",
       "      <th>bmi_category</th>\n",
       "      <th></th>\n",
       "      <th></th>\n",
       "    </tr>\n",
       "  </thead>\n",
       "  <tbody>\n",
       "    <tr>\n",
       "      <th>healthy</th>\n",
       "      <td>95.750308</td>\n",
       "      <td>4.249692</td>\n",
       "    </tr>\n",
       "    <tr>\n",
       "      <th>obese</th>\n",
       "      <td>93.860508</td>\n",
       "      <td>6.139492</td>\n",
       "    </tr>\n",
       "    <tr>\n",
       "      <th>overweight</th>\n",
       "      <td>94.667780</td>\n",
       "      <td>5.332220</td>\n",
       "    </tr>\n",
       "    <tr>\n",
       "      <th>underweight</th>\n",
       "      <td>94.787380</td>\n",
       "      <td>5.212620</td>\n",
       "    </tr>\n",
       "  </tbody>\n",
       "</table>\n",
       "</div>"
      ],
      "text/plain": [
       "had_heart_attack         No       Yes\n",
       "bmi_category                         \n",
       "healthy           95.750308  4.249692\n",
       "obese             93.860508  6.139492\n",
       "overweight        94.667780  5.332220\n",
       "underweight       94.787380  5.212620"
      ]
     },
     "execution_count": 924,
     "metadata": {},
     "output_type": "execute_result"
    }
   ],
   "source": [
    "# Find the percentage of people who had heart_attack within each bmi_category\n",
    "bmi_likelihood_df = (bmi_df.groupby('bmi_category')['had_heart_attack']\\\n",
    "                     .value_counts(normalize=True)*100).unstack()\n",
    "\n",
    "bmi_likelihood_df"
   ]
  },
  {
   "cell_type": "code",
   "execution_count": 925,
   "metadata": {},
   "outputs": [
    {
     "name": "stdout",
     "output_type": "stream",
     "text": [
      "The overall probability of having a heart attack 5.28%\n"
     ]
    }
   ],
   "source": [
    "# Calculate the Overall probability of having a heart attack\n",
    "p_heart_attack = (bmi_df['had_heart_attack'].value_counts(normalize=True) * 100)\n",
    "p_heart_attack = p_heart_attack['Yes']\n",
    "print(f\"The overall probability of having a heart attack {p_heart_attack:.2f}%\")"
   ]
  },
  {
   "cell_type": "code",
   "execution_count": 926,
   "metadata": {},
   "outputs": [
    {
     "data": {
      "image/png": "[encoded data removed]",
      "text/plain": [
       "<Figure size 600x600 with 1 Axes>"
      ]
     },
     "metadata": {},
     "output_type": "display_data"
    }
   ],
   "source": [
    "# Plot the likelihood of having a heart attack by bmi_category\n",
    "plt.figure(figsize=(6, 6))\n",
    "\n",
    "# Plot the likelihood of having a heart attack by each bmi_category\n",
    "sns.barplot(x='bmi_category', y='Yes', data=bmi_likelihood_df.sort_values(by='Yes') )\n",
    "\n",
    "# Plot the horizontal line of Overall probability of having a heart attack\n",
    "plt.axhline(y=p_heart_attack, \n",
    "            ls='--', \n",
    "            lw=2, \n",
    "            color='orange', \n",
    "            label='Overall Probability of Having a Heart Attack'\n",
    "            )\n",
    "plt.title('Possibility Of Having a Heart Attck By BMI Category')\n",
    "plt.xlabel('BMI Category')\n",
    "plt.ylabel('Possibility %')\n",
    "plt.xticks(rotation=0)\n",
    "plt.legend()\n",
    "\n",
    "plt.show()"
   ]
  },
  {
   "cell_type": "markdown",
   "metadata": {},
   "source": [
    "**Takeaways**:\n",
    "- The likelihood of having a heart attack differs across various BMI categories. The 'healthy' group shows a notably lower likelihood of experiencing a heart attack, while the 'obese' group exhibits a higher likelihood.\n",
    "- Consequently, I will add a new feature, `bmi_category` to to categorize the `bmi` values."
   ]
  },
  {
   "cell_type": "code",
   "execution_count": 927,
   "metadata": {},
   "outputs": [
    {
     "data": {
      "text/html": [
       "<div>\n",
       "<style scoped>\n",
       "    .dataframe tbody tr th:only-of-type {\n",
       "        vertical-align: middle;\n",
       "    }\n",
       "\n",
       "    .dataframe tbody tr th {\n",
       "        vertical-align: top;\n",
       "    }\n",
       "\n",
       "    .dataframe thead th {\n",
       "        text-align: right;\n",
       "    }\n",
       "</style>\n",
       "<table border=\"1\" class=\"dataframe\">\n",
       "  <thead>\n",
       "    <tr style=\"text-align: right;\">\n",
       "      <th></th>\n",
       "      <th>year</th>\n",
       "      <th>sex</th>\n",
       "      <th>race_ethnicity_category</th>\n",
       "      <th>age_category</th>\n",
       "      <th>state</th>\n",
       "      <th>height</th>\n",
       "      <th>weight</th>\n",
       "      <th>bmi</th>\n",
       "      <th>bmi_category</th>\n",
       "      <th>alcohol_drinkers</th>\n",
       "      <th>...</th>\n",
       "      <th>difficulty_walking</th>\n",
       "      <th>difficulty_concentrating</th>\n",
       "      <th>difficulty_dressing_bathing</th>\n",
       "      <th>difficulty_errands</th>\n",
       "      <th>last_checkup_time</th>\n",
       "      <th>chest_scan</th>\n",
       "      <th>flu_vax</th>\n",
       "      <th>tetanus_vax</th>\n",
       "      <th>pneumo_vax</th>\n",
       "      <th>had_heart_attack</th>\n",
       "    </tr>\n",
       "  </thead>\n",
       "  <tbody>\n",
       "    <tr>\n",
       "      <th>0</th>\n",
       "      <td>2022</td>\n",
       "      <td>Female</td>\n",
       "      <td>White</td>\n",
       "      <td>80+</td>\n",
       "      <td>Alabama</td>\n",
       "      <td>1.63</td>\n",
       "      <td>65.77</td>\n",
       "      <td>24.75</td>\n",
       "      <td>healthy</td>\n",
       "      <td>No</td>\n",
       "      <td>...</td>\n",
       "      <td>No</td>\n",
       "      <td>No</td>\n",
       "      <td>No</td>\n",
       "      <td>No</td>\n",
       "      <td>Past year</td>\n",
       "      <td>No</td>\n",
       "      <td>Yes</td>\n",
       "      <td>Tetanus shot (unsure type)</td>\n",
       "      <td>No</td>\n",
       "      <td>No</td>\n",
       "    </tr>\n",
       "    <tr>\n",
       "      <th>1</th>\n",
       "      <td>2022</td>\n",
       "      <td>Female</td>\n",
       "      <td>White</td>\n",
       "      <td>80+</td>\n",
       "      <td>Alabama</td>\n",
       "      <td>1.60</td>\n",
       "      <td>68.04</td>\n",
       "      <td>26.58</td>\n",
       "      <td>overweight</td>\n",
       "      <td>No</td>\n",
       "      <td>...</td>\n",
       "      <td>No</td>\n",
       "      <td>No</td>\n",
       "      <td>No</td>\n",
       "      <td>No</td>\n",
       "      <td>Never</td>\n",
       "      <td>No</td>\n",
       "      <td>No</td>\n",
       "      <td>No tetanus shot</td>\n",
       "      <td>No</td>\n",
       "      <td>No</td>\n",
       "    </tr>\n",
       "    <tr>\n",
       "      <th>2</th>\n",
       "      <td>2022</td>\n",
       "      <td>Female</td>\n",
       "      <td>White</td>\n",
       "      <td>55-59</td>\n",
       "      <td>Alabama</td>\n",
       "      <td>1.57</td>\n",
       "      <td>63.50</td>\n",
       "      <td>25.76</td>\n",
       "      <td>overweight</td>\n",
       "      <td>No</td>\n",
       "      <td>...</td>\n",
       "      <td>No</td>\n",
       "      <td>No</td>\n",
       "      <td>No</td>\n",
       "      <td>No</td>\n",
       "      <td>Past year</td>\n",
       "      <td>No</td>\n",
       "      <td>No</td>\n",
       "      <td>Unknown</td>\n",
       "      <td>No</td>\n",
       "      <td>No</td>\n",
       "    </tr>\n",
       "    <tr>\n",
       "      <th>3</th>\n",
       "      <td>2022</td>\n",
       "      <td>Female</td>\n",
       "      <td>White</td>\n",
       "      <td>40-44</td>\n",
       "      <td>Alabama</td>\n",
       "      <td>1.57</td>\n",
       "      <td>53.98</td>\n",
       "      <td>21.90</td>\n",
       "      <td>healthy</td>\n",
       "      <td>Yes</td>\n",
       "      <td>...</td>\n",
       "      <td>No</td>\n",
       "      <td>No</td>\n",
       "      <td>No</td>\n",
       "      <td>No</td>\n",
       "      <td>Past year</td>\n",
       "      <td>Yes</td>\n",
       "      <td>No</td>\n",
       "      <td>No tetanus shot</td>\n",
       "      <td>Yes</td>\n",
       "      <td>No</td>\n",
       "    </tr>\n",
       "    <tr>\n",
       "      <th>4</th>\n",
       "      <td>2022</td>\n",
       "      <td>Male</td>\n",
       "      <td>White</td>\n",
       "      <td>80+</td>\n",
       "      <td>Alabama</td>\n",
       "      <td>1.80</td>\n",
       "      <td>84.82</td>\n",
       "      <td>26.18</td>\n",
       "      <td>overweight</td>\n",
       "      <td>No</td>\n",
       "      <td>...</td>\n",
       "      <td>No</td>\n",
       "      <td>No</td>\n",
       "      <td>No</td>\n",
       "      <td>No</td>\n",
       "      <td>Past year</td>\n",
       "      <td>No</td>\n",
       "      <td>No</td>\n",
       "      <td>No tetanus shot</td>\n",
       "      <td>Yes</td>\n",
       "      <td>Yes</td>\n",
       "    </tr>\n",
       "  </tbody>\n",
       "</table>\n",
       "<p>5 rows × 38 columns</p>\n",
       "</div>"
      ],
      "text/plain": [
       "   year     sex race_ethnicity_category age_category    state  height  weight  \\\n",
       "0  2022  Female                   White          80+  Alabama    1.63   65.77   \n",
       "1  2022  Female                   White          80+  Alabama    1.60   68.04   \n",
       "2  2022  Female                   White        55-59  Alabama    1.57   63.50   \n",
       "3  2022  Female                   White        40-44  Alabama    1.57   53.98   \n",
       "4  2022    Male                   White          80+  Alabama    1.80   84.82   \n",
       "\n",
       "     bmi bmi_category alcohol_drinkers  ... difficulty_walking  \\\n",
       "0  24.75      healthy               No  ...                 No   \n",
       "1  26.58   overweight               No  ...                 No   \n",
       "2  25.76   overweight               No  ...                 No   \n",
       "3  21.90      healthy              Yes  ...                 No   \n",
       "4  26.18   overweight               No  ...                 No   \n",
       "\n",
       "  difficulty_concentrating difficulty_dressing_bathing difficulty_errands  \\\n",
       "0                       No                          No                 No   \n",
       "1                       No                          No                 No   \n",
       "2                       No                          No                 No   \n",
       "3                       No                          No                 No   \n",
       "4                       No                          No                 No   \n",
       "\n",
       "   last_checkup_time  chest_scan flu_vax                 tetanus_vax  \\\n",
       "0          Past year          No     Yes  Tetanus shot (unsure type)   \n",
       "1              Never          No      No             No tetanus shot   \n",
       "2          Past year          No      No                     Unknown   \n",
       "3          Past year         Yes      No             No tetanus shot   \n",
       "4          Past year          No      No             No tetanus shot   \n",
       "\n",
       "  pneumo_vax had_heart_attack  \n",
       "0         No               No  \n",
       "1         No               No  \n",
       "2         No               No  \n",
       "3        Yes               No  \n",
       "4        Yes              Yes  \n",
       "\n",
       "[5 rows x 38 columns]"
      ]
     },
     "execution_count": 927,
     "metadata": {},
     "output_type": "execute_result"
    }
   ],
   "source": [
    "# Create bmi_category column\n",
    "bmi_category = df['bmi'].apply(get_bmi_bin)\n",
    "\n",
    "# Insert the column into 8th position\n",
    "df.insert(loc=8, column='bmi_category', value=bmi_category)\n",
    "\n",
    "# Check the head of df\n",
    "df.head()"
   ]
  },
  {
   "cell_type": "code",
   "execution_count": 928,
   "metadata": {},
   "outputs": [
    {
     "data": {
      "text/plain": [
       "0"
      ]
     },
     "execution_count": 928,
     "metadata": {},
     "output_type": "execute_result"
    }
   ],
   "source": [
    "# Sanity Check\n",
    "df['age_category'].isna().sum()"
   ]
  },
  {
   "cell_type": "markdown",
   "metadata": {},
   "source": [
    "---"
   ]
  },
  {
   "cell_type": "markdown",
   "metadata": {},
   "source": [
    "## 3. Data Preparation  <a class=\"anchor\" id=\"3\"></a>"
   ]
  },
  {
   "cell_type": "markdown",
   "metadata": {},
   "source": [
    "### 3.1 Binary Encoding <a class=\"anchor\" id=\"3a\"></a>"
   ]
  },
  {
   "cell_type": "markdown",
   "metadata": {},
   "source": [
    "Transform binary columns into 1 and 0."
   ]
  },
  {
   "cell_type": "code",
   "execution_count": 929,
   "metadata": {},
   "outputs": [],
   "source": [
    "# Create a copy of df\n",
    "df_encoded = df.copy()"
   ]
  },
  {
   "cell_type": "markdown",
   "metadata": {},
   "source": [
    "Fetch binary columns, and print unique values within each binary column."
   ]
  },
  {
   "cell_type": "code",
   "execution_count": 930,
   "metadata": {},
   "outputs": [
    {
     "name": "stdout",
     "output_type": "stream",
     "text": [
      "Column Name: sex\n",
      "Unique Values: ['Female' 'Male']\n",
      "--------------------------------\n",
      "Column Name: physical_activities\n",
      "Unique Values: ['No' 'Yes']\n",
      "--------------------------------\n",
      "Column Name: had_angina\n",
      "Unique Values: ['No' 'Yes']\n",
      "--------------------------------\n",
      "Column Name: had_stroke\n",
      "Unique Values: ['No' 'Yes']\n",
      "--------------------------------\n",
      "Column Name: had_asthma\n",
      "Unique Values: ['No' 'Yes']\n",
      "--------------------------------\n",
      "Column Name: had_heart_attack\n",
      "Unique Values: ['No' 'Yes']\n",
      "--------------------------------\n"
     ]
    }
   ],
   "source": [
    "# Create an empty list\n",
    "binary_cols = []\n",
    "\n",
    "# Iterate each column, find the one that are both binary and categorical\n",
    "for col in df.columns:\n",
    "    if (df[col].nunique() == 2) & (df[col].dtype == 'object'):\n",
    "        print(f'Column Name: {col}')\n",
    "        print(f'Unique Values: {df[col].unique()}')\n",
    "        print('----' * 8)\n",
    "\n",
    "        # Append to the list\n",
    "        binary_cols.append(col)\n",
    "\n"
   ]
  },
  {
   "cell_type": "markdown",
   "metadata": {},
   "source": [
    "Most of the columns are 'Yes' and 'No' column, I will create dictionaries for mapping these columns into 1 and 0. Before encoding, I will first check the top for rows in df_encoded DataFrame."
   ]
  },
  {
   "cell_type": "code",
   "execution_count": 931,
   "metadata": {},
   "outputs": [
    {
     "data": {
      "text/html": [
       "<div>\n",
       "<style scoped>\n",
       "    .dataframe tbody tr th:only-of-type {\n",
       "        vertical-align: middle;\n",
       "    }\n",
       "\n",
       "    .dataframe tbody tr th {\n",
       "        vertical-align: top;\n",
       "    }\n",
       "\n",
       "    .dataframe thead th {\n",
       "        text-align: right;\n",
       "    }\n",
       "</style>\n",
       "<table border=\"1\" class=\"dataframe\">\n",
       "  <thead>\n",
       "    <tr style=\"text-align: right;\">\n",
       "      <th></th>\n",
       "      <th>sex</th>\n",
       "      <th>physical_activities</th>\n",
       "      <th>had_angina</th>\n",
       "      <th>had_stroke</th>\n",
       "      <th>had_asthma</th>\n",
       "      <th>had_heart_attack</th>\n",
       "    </tr>\n",
       "  </thead>\n",
       "  <tbody>\n",
       "    <tr>\n",
       "      <th>0</th>\n",
       "      <td>Female</td>\n",
       "      <td>No</td>\n",
       "      <td>No</td>\n",
       "      <td>No</td>\n",
       "      <td>No</td>\n",
       "      <td>No</td>\n",
       "    </tr>\n",
       "    <tr>\n",
       "      <th>1</th>\n",
       "      <td>Female</td>\n",
       "      <td>No</td>\n",
       "      <td>No</td>\n",
       "      <td>No</td>\n",
       "      <td>No</td>\n",
       "      <td>No</td>\n",
       "    </tr>\n",
       "    <tr>\n",
       "      <th>2</th>\n",
       "      <td>Female</td>\n",
       "      <td>Yes</td>\n",
       "      <td>No</td>\n",
       "      <td>No</td>\n",
       "      <td>No</td>\n",
       "      <td>No</td>\n",
       "    </tr>\n",
       "    <tr>\n",
       "      <th>3</th>\n",
       "      <td>Female</td>\n",
       "      <td>Yes</td>\n",
       "      <td>No</td>\n",
       "      <td>No</td>\n",
       "      <td>No</td>\n",
       "      <td>No</td>\n",
       "    </tr>\n",
       "    <tr>\n",
       "      <th>4</th>\n",
       "      <td>Male</td>\n",
       "      <td>No</td>\n",
       "      <td>No</td>\n",
       "      <td>Yes</td>\n",
       "      <td>No</td>\n",
       "      <td>Yes</td>\n",
       "    </tr>\n",
       "  </tbody>\n",
       "</table>\n",
       "</div>"
      ],
      "text/plain": [
       "      sex physical_activities had_angina had_stroke had_asthma  \\\n",
       "0  Female                  No         No         No         No   \n",
       "1  Female                  No         No         No         No   \n",
       "2  Female                 Yes         No         No         No   \n",
       "3  Female                 Yes         No         No         No   \n",
       "4    Male                  No         No        Yes         No   \n",
       "\n",
       "  had_heart_attack  \n",
       "0               No  \n",
       "1               No  \n",
       "2               No  \n",
       "3               No  \n",
       "4              Yes  "
      ]
     },
     "execution_count": 931,
     "metadata": {},
     "output_type": "execute_result"
    }
   ],
   "source": [
    "# Check the head of df_encoded\n",
    "df_encoded[binary_cols].head()"
   ]
  },
  {
   "cell_type": "code",
   "execution_count": 932,
   "metadata": {},
   "outputs": [],
   "source": [
    "# Create dictionaries for mapping\n",
    "yes_no = {\n",
    "    'Yes' : 1,\n",
    "    'No' : 0\n",
    "}\n",
    "\n",
    "is_female = {\n",
    "    'Female' : 1,\n",
    "    'Male' : 0\n",
    "}"
   ]
  },
  {
   "cell_type": "code",
   "execution_count": 933,
   "metadata": {},
   "outputs": [],
   "source": [
    "# Turn binary columns into binary values\n",
    "for col in binary_cols:\n",
    "\n",
    "    if col == 'sex': \n",
    "        df_encoded[col] = df_encoded[col].map(is_female)  # If the column is sex, use is_female for map\n",
    "    else:\n",
    "        df_encoded[col] = df_encoded[col].map(yes_no)   # Use yes_no for mapping other binary columns"
   ]
  },
  {
   "cell_type": "code",
   "execution_count": 934,
   "metadata": {},
   "outputs": [
    {
     "data": {
      "text/html": [
       "<div>\n",
       "<style scoped>\n",
       "    .dataframe tbody tr th:only-of-type {\n",
       "        vertical-align: middle;\n",
       "    }\n",
       "\n",
       "    .dataframe tbody tr th {\n",
       "        vertical-align: top;\n",
       "    }\n",
       "\n",
       "    .dataframe thead th {\n",
       "        text-align: right;\n",
       "    }\n",
       "</style>\n",
       "<table border=\"1\" class=\"dataframe\">\n",
       "  <thead>\n",
       "    <tr style=\"text-align: right;\">\n",
       "      <th></th>\n",
       "      <th>sex</th>\n",
       "      <th>physical_activities</th>\n",
       "      <th>had_angina</th>\n",
       "      <th>had_stroke</th>\n",
       "      <th>had_asthma</th>\n",
       "      <th>had_heart_attack</th>\n",
       "    </tr>\n",
       "  </thead>\n",
       "  <tbody>\n",
       "    <tr>\n",
       "      <th>0</th>\n",
       "      <td>1</td>\n",
       "      <td>0</td>\n",
       "      <td>0</td>\n",
       "      <td>0</td>\n",
       "      <td>0</td>\n",
       "      <td>0</td>\n",
       "    </tr>\n",
       "    <tr>\n",
       "      <th>1</th>\n",
       "      <td>1</td>\n",
       "      <td>0</td>\n",
       "      <td>0</td>\n",
       "      <td>0</td>\n",
       "      <td>0</td>\n",
       "      <td>0</td>\n",
       "    </tr>\n",
       "    <tr>\n",
       "      <th>2</th>\n",
       "      <td>1</td>\n",
       "      <td>1</td>\n",
       "      <td>0</td>\n",
       "      <td>0</td>\n",
       "      <td>0</td>\n",
       "      <td>0</td>\n",
       "    </tr>\n",
       "    <tr>\n",
       "      <th>3</th>\n",
       "      <td>1</td>\n",
       "      <td>1</td>\n",
       "      <td>0</td>\n",
       "      <td>0</td>\n",
       "      <td>0</td>\n",
       "      <td>0</td>\n",
       "    </tr>\n",
       "    <tr>\n",
       "      <th>4</th>\n",
       "      <td>0</td>\n",
       "      <td>0</td>\n",
       "      <td>0</td>\n",
       "      <td>1</td>\n",
       "      <td>0</td>\n",
       "      <td>1</td>\n",
       "    </tr>\n",
       "  </tbody>\n",
       "</table>\n",
       "</div>"
      ],
      "text/plain": [
       "   sex  physical_activities  had_angina  had_stroke  had_asthma  \\\n",
       "0    1                    0           0           0           0   \n",
       "1    1                    0           0           0           0   \n",
       "2    1                    1           0           0           0   \n",
       "3    1                    1           0           0           0   \n",
       "4    0                    0           0           1           0   \n",
       "\n",
       "   had_heart_attack  \n",
       "0                 0  \n",
       "1                 0  \n",
       "2                 0  \n",
       "3                 0  \n",
       "4                 1  "
      ]
     },
     "execution_count": 934,
     "metadata": {},
     "output_type": "execute_result"
    }
   ],
   "source": [
    "# Sanity check\n",
    "df_encoded[binary_cols].head()"
   ]
  },
  {
   "cell_type": "markdown",
   "metadata": {},
   "source": [
    "The binary encoding is successfully executed, I will rename `sex` to `is_female` for interpretation purpose. "
   ]
  },
  {
   "cell_type": "code",
   "execution_count": 935,
   "metadata": {},
   "outputs": [],
   "source": [
    "# Rename sex column\n",
    "df_encoded = df_encoded.rename(columns={'sex' : 'is_female'})"
   ]
  },
  {
   "cell_type": "code",
   "execution_count": 936,
   "metadata": {},
   "outputs": [
    {
     "data": {
      "text/html": [
       "<div>\n",
       "<style scoped>\n",
       "    .dataframe tbody tr th:only-of-type {\n",
       "        vertical-align: middle;\n",
       "    }\n",
       "\n",
       "    .dataframe tbody tr th {\n",
       "        vertical-align: top;\n",
       "    }\n",
       "\n",
       "    .dataframe thead th {\n",
       "        text-align: right;\n",
       "    }\n",
       "</style>\n",
       "<table border=\"1\" class=\"dataframe\">\n",
       "  <thead>\n",
       "    <tr style=\"text-align: right;\">\n",
       "      <th></th>\n",
       "      <th>year</th>\n",
       "      <th>is_female</th>\n",
       "      <th>race_ethnicity_category</th>\n",
       "      <th>age_category</th>\n",
       "      <th>state</th>\n",
       "      <th>height</th>\n",
       "      <th>weight</th>\n",
       "      <th>bmi</th>\n",
       "      <th>bmi_category</th>\n",
       "      <th>alcohol_drinkers</th>\n",
       "      <th>...</th>\n",
       "      <th>difficulty_walking</th>\n",
       "      <th>difficulty_concentrating</th>\n",
       "      <th>difficulty_dressing_bathing</th>\n",
       "      <th>difficulty_errands</th>\n",
       "      <th>last_checkup_time</th>\n",
       "      <th>chest_scan</th>\n",
       "      <th>flu_vax</th>\n",
       "      <th>tetanus_vax</th>\n",
       "      <th>pneumo_vax</th>\n",
       "      <th>had_heart_attack</th>\n",
       "    </tr>\n",
       "  </thead>\n",
       "  <tbody>\n",
       "    <tr>\n",
       "      <th>0</th>\n",
       "      <td>2022</td>\n",
       "      <td>1</td>\n",
       "      <td>White</td>\n",
       "      <td>80+</td>\n",
       "      <td>Alabama</td>\n",
       "      <td>1.63</td>\n",
       "      <td>65.77</td>\n",
       "      <td>24.75</td>\n",
       "      <td>healthy</td>\n",
       "      <td>No</td>\n",
       "      <td>...</td>\n",
       "      <td>No</td>\n",
       "      <td>No</td>\n",
       "      <td>No</td>\n",
       "      <td>No</td>\n",
       "      <td>Past year</td>\n",
       "      <td>No</td>\n",
       "      <td>Yes</td>\n",
       "      <td>Tetanus shot (unsure type)</td>\n",
       "      <td>No</td>\n",
       "      <td>0</td>\n",
       "    </tr>\n",
       "    <tr>\n",
       "      <th>1</th>\n",
       "      <td>2022</td>\n",
       "      <td>1</td>\n",
       "      <td>White</td>\n",
       "      <td>80+</td>\n",
       "      <td>Alabama</td>\n",
       "      <td>1.60</td>\n",
       "      <td>68.04</td>\n",
       "      <td>26.58</td>\n",
       "      <td>overweight</td>\n",
       "      <td>No</td>\n",
       "      <td>...</td>\n",
       "      <td>No</td>\n",
       "      <td>No</td>\n",
       "      <td>No</td>\n",
       "      <td>No</td>\n",
       "      <td>Never</td>\n",
       "      <td>No</td>\n",
       "      <td>No</td>\n",
       "      <td>No tetanus shot</td>\n",
       "      <td>No</td>\n",
       "      <td>0</td>\n",
       "    </tr>\n",
       "  </tbody>\n",
       "</table>\n",
       "<p>2 rows × 38 columns</p>\n",
       "</div>"
      ],
      "text/plain": [
       "   year  is_female race_ethnicity_category age_category    state  height  \\\n",
       "0  2022          1                   White          80+  Alabama    1.63   \n",
       "1  2022          1                   White          80+  Alabama    1.60   \n",
       "\n",
       "   weight    bmi bmi_category alcohol_drinkers  ... difficulty_walking  \\\n",
       "0   65.77  24.75      healthy               No  ...                 No   \n",
       "1   68.04  26.58   overweight               No  ...                 No   \n",
       "\n",
       "  difficulty_concentrating difficulty_dressing_bathing  difficulty_errands  \\\n",
       "0                       No                          No                  No   \n",
       "1                       No                          No                  No   \n",
       "\n",
       "   last_checkup_time  chest_scan flu_vax                 tetanus_vax  \\\n",
       "0          Past year          No     Yes  Tetanus shot (unsure type)   \n",
       "1              Never          No      No             No tetanus shot   \n",
       "\n",
       "   pneumo_vax  had_heart_attack  \n",
       "0          No                 0  \n",
       "1          No                 0  \n",
       "\n",
       "[2 rows x 38 columns]"
      ]
     },
     "execution_count": 936,
     "metadata": {},
     "output_type": "execute_result"
    }
   ],
   "source": [
    "# Sanity check\n",
    "df_encoded.head(2)"
   ]
  },
  {
   "cell_type": "markdown",
   "metadata": {},
   "source": [
    "---"
   ]
  },
  {
   "cell_type": "markdown",
   "metadata": {},
   "source": [
    "### 3.2 Train-Validation-Test-Split   <a class=\"anchor\" id=\"3b\"></a>"
   ]
  },
  {
   "cell_type": "code",
   "execution_count": 937,
   "metadata": {},
   "outputs": [],
   "source": [
    "# Load the data and split into X and y\n",
    "X = df_encoded.loc[:, df_encoded.columns != 'had_heart_attack']\n",
    "y = df_encoded['had_heart_attack']"
   ]
  },
  {
   "cell_type": "code",
   "execution_count": 938,
   "metadata": {},
   "outputs": [
    {
     "name": "stdout",
     "output_type": "stream",
     "text": [
      "Shape of X is (751985, 37)\n",
      "Shape of y is (751985,)\n"
     ]
    }
   ],
   "source": [
    "# Check shape\n",
    "print(f'Shape of X is {X.shape}')\n",
    "print(f'Shape of y is {y.shape}')"
   ]
  },
  {
   "cell_type": "code",
   "execution_count": 939,
   "metadata": {},
   "outputs": [],
   "source": [
    "# Remainder test split\n",
    "X_remainder, X_test, y_remainder, y_test = train_test_split(X, y, stratify=y, test_size=0.2, random_state=1)"
   ]
  },
  {
   "cell_type": "code",
   "execution_count": 940,
   "metadata": {},
   "outputs": [],
   "source": [
    "# Train validation split\n",
    "X_train, X_val, y_train, y_val = train_test_split(X_remainder, y_remainder, stratify=y_remainder, test_size=0.3, random_state=1)"
   ]
  },
  {
   "cell_type": "code",
   "execution_count": 941,
   "metadata": {},
   "outputs": [
    {
     "name": "stdout",
     "output_type": "stream",
     "text": [
      "X_train shape: (421111, 37)\n",
      "Percentage of rows had heart attack (train set) 5.28%\n",
      "X_validation shape: (180477, 37)\n",
      "Percentage of rows had heart attack (validation set) 5.28%\n",
      "X_test shape: (150397, 37)\n",
      "Percentage of rows had heart attack (test set) 5.28%\n"
     ]
    }
   ],
   "source": [
    "# Print the size and target varaible distribution\n",
    "print(f'X_train shape: {X_train.shape}')\n",
    "print(f'Percentage of rows had heart attack (train set) {(y_train.mean()):.2%}')\n",
    "\n",
    "print(f'X_validation shape: {X_val.shape}')\n",
    "print(f'Percentage of rows had heart attack (validation set) {(y_val.mean()):.2%}')\n",
    "\n",
    "print(f'X_test shape: {X_test.shape}')\n",
    "print(f'Percentage of rows had heart attack (test set) {(y_test.mean()):.2%}')"
   ]
  },
  {
   "cell_type": "markdown",
   "metadata": {},
   "source": [
    "**Overview of Train, Validation, and Test set**:\n",
    "\n",
    "| Dataset     | Rows | Cols | Percentage of Had Heart Attack |\n",
    "|-------------|------|------|---------------------------------|\n",
    "| Train       | 421111| 37 + 1   | 5.28%                             |\n",
    "| Validation   | 180477 | 37 + 1   | 5.28%                            |\n",
    "| Test        | 150397 | 37 + 1  | 5.28%                             |"
   ]
  },
  {
   "cell_type": "markdown",
   "metadata": {},
   "source": [
    "---"
   ]
  },
  {
   "cell_type": "markdown",
   "metadata": {},
   "source": [
    "### 3.3 One-Hot Encoding <a class=\"anchor\" id=\"3c\"></a>"
   ]
  },
  {
   "cell_type": "code",
   "execution_count": 942,
   "metadata": {},
   "outputs": [],
   "source": [
    "# Get the categorical and numeric columns\n",
    "categorcal_columns = X_train.select_dtypes(include='object').columns.tolist()\n",
    "numeric_columns = X_train.select_dtypes(include='number').columns.tolist()\n"
   ]
  },
  {
   "cell_type": "code",
   "execution_count": 943,
   "metadata": {},
   "outputs": [
    {
     "name": "stdout",
     "output_type": "stream",
     "text": [
      "Total number of categorical columns: 26. \n",
      "Total number of unique categories within each categorical column: 164. \n"
     ]
    }
   ],
   "source": [
    "# Calculate the sum of unique categories for all categorical columns\n",
    "# Create a variable to store the cum sum and set zero\n",
    "cumsum_categories = 0\n",
    "\n",
    "for col in categorcal_columns:\n",
    "    cumsum_categories += X_train[col].nunique()\n",
    "\n",
    "print(f'Total number of categorical columns: {len(categorcal_columns)}. ')\n",
    "print(f'Total number of unique categories within each categorical column: {cumsum_categories}. ')"
   ]
  },
  {
   "cell_type": "code",
   "execution_count": 944,
   "metadata": {},
   "outputs": [],
   "source": [
    "# Instantiate the OneHotEncoder\n",
    "encoder = OneHotEncoder(sparse_output=False, drop='first')\n",
    "\n",
    "# Fit transform the X_train categorical variables to array\n",
    "encoded_array_train = encoder.fit_transform(X_train[categorcal_columns])\n",
    "\n",
    "# Convert from arrary to DataFrame\n",
    "encoded_df_train = pd.DataFrame(\n",
    "    encoded_array_train, \n",
    "    columns=encoder.get_feature_names_out(categorcal_columns),\n",
    "    index=X_train.index)\n"
   ]
  },
  {
   "cell_type": "code",
   "execution_count": 945,
   "metadata": {},
   "outputs": [
    {
     "name": "stdout",
     "output_type": "stream",
     "text": [
      "After dropping one column within each categorical column, there should be 164 - 26 = 138 columns.\n",
      "The shape of one-hot-encoding DataFrame encoded_df: (421111, 138)\n"
     ]
    }
   ],
   "source": [
    "# Check encoded_df shape\n",
    "print(f'After dropping one column within each categorical column, there should be 164 - 26 = {164-26} columns.')\n",
    "print(f'The shape of one-hot-encoding DataFrame encoded_df: {encoded_df_train.shape}')"
   ]
  },
  {
   "cell_type": "code",
   "execution_count": 946,
   "metadata": {},
   "outputs": [],
   "source": [
    "# Concatenate with encoded df\n",
    "X_train_encoded = pd.concat([X_train[numeric_columns], encoded_df_train], axis=1)"
   ]
  },
  {
   "cell_type": "code",
   "execution_count": 947,
   "metadata": {},
   "outputs": [
    {
     "name": "stdout",
     "output_type": "stream",
     "text": [
      "If X_train and X_train_encoded has same rows: True\n",
      "If X_train_encoded has expected number of columns (149): True\n"
     ]
    }
   ],
   "source": [
    "# Sanity check\n",
    "# Check if number of rows are consistent before and after one-hot-encoding\n",
    "same_rows = (X_train.shape[0] == X_train_encoded.shape[0])\n",
    "\n",
    "# Number of expected columns: Number of numeric columns + Number of dummy columns (after dropping one column per categorical column)\n",
    "expected_column_count = len(numeric_columns) + cumsum_categories - len(categorcal_columns)\n",
    "same_cols = (expected_column_count == X_train_encoded.shape[1])\n",
    "\n",
    "# Print sanity check results\n",
    "print(f'If X_train and X_train_encoded has same rows: {same_rows}')\n",
    "print(f'If X_train_encoded has expected number of columns ({expected_column_count}): {same_rows}')"
   ]
  },
  {
   "cell_type": "markdown",
   "metadata": {},
   "source": [
    "The rows and columns on Train data after One Hot Encoding is consistent with expectations, I will now work on transformation of validation and test data.\n"
   ]
  },
  {
   "cell_type": "code",
   "execution_count": 948,
   "metadata": {},
   "outputs": [],
   "source": [
    "# Transform X_val\n",
    "encoded_array_val = encoder.transform(X_val[categorcal_columns])\n",
    "\n",
    "# Convert array into DataFrame\n",
    "encoded_df_val = pd.DataFrame(\n",
    "    encoded_array_val, \n",
    "    columns=encoder.get_feature_names_out(categorcal_columns),\n",
    "    index=X_val.index\n",
    "    )\n",
    "\n",
    "# Concatenate encoded_df_val with X_val numeric columns\n",
    "X_val_encoded = pd.concat([X_val[numeric_columns], encoded_df_val], axis=1)"
   ]
  },
  {
   "cell_type": "code",
   "execution_count": 949,
   "metadata": {},
   "outputs": [
    {
     "name": "stdout",
     "output_type": "stream",
     "text": [
      "If X_val and X_val_encoded has same rows: True\n",
      "If X_val_encoded has expected number of columns (149): True\n"
     ]
    }
   ],
   "source": [
    "# Sanity check\n",
    "# Check if number of rows are consistent before and after one-hot-encoding\n",
    "same_rows = (X_val.shape[0] == X_val_encoded.shape[0])\n",
    "\n",
    "# Number of expected columns: Number of numeric columns + Number of dummy columns (after dropping one column per categorical column)\n",
    "expected_column_count = len(numeric_columns) + (cumsum_categories - len(categorcal_columns))\n",
    "same_cols = (expected_column_count == X_val_encoded.shape[1])\n",
    "\n",
    "# Print sanity check results\n",
    "print(f'If X_val and X_val_encoded has same rows: {same_rows}')\n",
    "print(f'If X_val_encoded has expected number of columns ({expected_column_count}): {same_rows}')"
   ]
  },
  {
   "cell_type": "code",
   "execution_count": 950,
   "metadata": {},
   "outputs": [],
   "source": [
    "# Transform X_test\n",
    "encoded_array_test = encoder.transform(X_test[categorcal_columns])\n",
    "\n",
    "# Convert array into DataFrame\n",
    "encoded_df_test = pd.DataFrame(\n",
    "    encoded_array_test, \n",
    "    columns=encoder.get_feature_names_out(categorcal_columns),\n",
    "    index=X_test.index\n",
    "    )\n",
    "\n",
    "# Concatenate encoded_df_test with X_test numeric columns\n",
    "X_test_encoded = pd.concat([X_test[numeric_columns], encoded_df_test], axis=1)"
   ]
  },
  {
   "cell_type": "code",
   "execution_count": 951,
   "metadata": {},
   "outputs": [
    {
     "name": "stdout",
     "output_type": "stream",
     "text": [
      "If X_test and X_test_encoded has same rows: True\n",
      "If X_test_encoded has expected number of columns (149): True\n"
     ]
    }
   ],
   "source": [
    "# Sanity check\n",
    "# Check if number of rows are consistent before and after one-hot-encoding\n",
    "same_rows = (X_test.shape[0] == X_test_encoded.shape[0])\n",
    "\n",
    "# Number of expected columns: Number of numeric columns + Number of dummy columns (after dropping one column per categorical column)\n",
    "expected_column_count = len(numeric_columns) + (cumsum_categories - len(categorcal_columns))\n",
    "same_cols = (expected_column_count == X_test_encoded.shape[1])\n",
    "\n",
    "# Print sanity check results\n",
    "print(f'If X_test and X_test_encoded has same rows: {same_rows}')\n",
    "print(f'If X_test_encoded has expected number of columns ({expected_column_count}): {same_rows}')"
   ]
  },
  {
   "cell_type": "markdown",
   "metadata": {},
   "source": [
    "One hot encoding has successfully been implemented on X_trian and X_test.\n",
    "\n",
    "---"
   ]
  },
  {
   "cell_type": "markdown",
   "metadata": {},
   "source": [
    "### 3.4 Handling Class Imbalance  <a class=\"anchor\" id=\"3d\"></a>"
   ]
  },
  {
   "cell_type": "markdown",
   "metadata": {},
   "source": [
    "\n",
    "The target variable in this dataset is highly imbalanced, which can pose challenges during training and evaluation. In this section, I will use both upsampling and downsampling techniques to rebalance the training data."
   ]
  },
  {
   "cell_type": "markdown",
   "metadata": {},
   "source": [
    "**Upsampling**"
   ]
  },
  {
   "cell_type": "code",
   "execution_count": 988,
   "metadata": {},
   "outputs": [
    {
     "name": "stdout",
     "output_type": "stream",
     "text": [
      "Number of Class 1 samples before upsampling: 22222\n",
      "Number of Class 0 samples before upsampling: 398889\n",
      "\n",
      "Number of Class 1 samples after upsampling: 398889\n",
      "Number of Class 0 samples after upsampling: 398889\n"
     ]
    }
   ],
   "source": [
    "# Print number of class 1 and 0 sample before upsampling\n",
    "print(f'Number of Class 1 samples before upsampling: {y_train.sum()}')\n",
    "print(f'Number of Class 0 samples before upsampling: {y_train[y_train == 0].shape[0]}')\n",
    "\n",
    "# Randomly duplicate class 1 observations\n",
    "X_duplicate_positive, y_duplicate_positive = resample(\n",
    "    X_train_encoded[y_train == 1],\n",
    "    y_train[y_train == 1],\n",
    "    replace=True,\n",
    "    n_samples=X_train_encoded[y_train==0].shape[0],\n",
    "    random_state=1\n",
    ")\n",
    "\n",
    "# Combine upsample with original data\n",
    "X_train_upsampled = np.vstack((X_train_encoded[y_train == 0], X_duplicate_positive))\n",
    "y_train_upsampled = np.hstack((y_train[y_train == 0], y_duplicate_positive))\n",
    "\n",
    "# Print the number of class in after upsampling\n",
    "print(f\"\\nNumber of Class 1 samples after upsampling: {y_train_upsampled.sum()}\")\n",
    "print(f\"Number of Class 0 samples after upsampling: {y_train_upsampled.shape[0] - y_train_upsampled.sum()}\")\n"
   ]
  },
  {
   "cell_type": "markdown",
   "metadata": {},
   "source": [
    "**Downsampling**\n",
    "#"
   ]
  },
  {
   "cell_type": "code",
   "execution_count": 958,
   "metadata": {},
   "outputs": [
    {
     "name": "stdout",
     "output_type": "stream",
     "text": [
      "Number of Class 0 sample before upsampling 398889\n",
      "Number of Class 1 sample before upsampling 22222\n",
      "Number of Class 0 sample after upsampling 22222\n"
     ]
    }
   ],
   "source": [
    "# Print the number of class 0 and class 1 sample before downsampling\n",
    "print(f'Number of Class 0 sample before upsampling {y_train[y_train==0].shape[0]}')\n",
    "print(f'Number of Class 1 sample before upsampling {y_train.sum()}')\n",
    "\n",
    "# Randomly remove negative class 0 observations\n",
    "X_remove_negative, y_remove_negative = resample(\n",
    "    X_train_encoded[y_train == 0],\n",
    "    y_train[y_train == 0],\n",
    "    replace=True,\n",
    "    n_samples=X_train_encoded[y_train == 1].shape[0],\n",
    "    random_state=1\n",
    ")\n",
    "\n",
    "# Combine downsample with original dataset\n",
    "X_train_downsampled = np.vstack((X_train_encoded[y_train==1], X_remove_negative))\n",
    "y_train_downsampled = np.hstack((y_train[y_train == 1], y_remove_negative))\n",
    "\n",
    "# Print the number of class in after downsampling\n",
    "print(f'Number of Class 0 sample after upsampling {y_train_downsampled[y_train_downsampled==0].shape[0]}')\n"
   ]
  },
  {
   "cell_type": "markdown",
   "metadata": {},
   "source": [
    "---"
   ]
  },
  {
   "cell_type": "markdown",
   "metadata": {},
   "source": [
    "### 3.5 Feature Scaling  <a class=\"anchor\" id=\"3e\"></a>"
   ]
  },
  {
   "cell_type": "markdown",
   "metadata": {},
   "source": [
    "Standard scaling on original dataset."
   ]
  },
  {
   "cell_type": "code",
   "execution_count": 969,
   "metadata": {},
   "outputs": [],
   "source": [
    "# Instantiate StandardScaler\n",
    "scaler = StandardScaler()\n",
    "\n",
    "# Fit the scaler\n",
    "scaler.fit(X_train_encoded)\n",
    "\n",
    "# Transform X_train X_val X_test\n",
    "X_train_scaled = scaler.transform(X_train_encoded)\n",
    "X_val_scaled = scaler.transform(X_val_encoded)\n",
    "X_test_scaled = scaler.transform(X_test_encoded)"
   ]
  },
  {
   "cell_type": "markdown",
   "metadata": {},
   "source": [
    "Standard scaling on upsampling dataset"
   ]
  },
  {
   "cell_type": "code",
   "execution_count": 970,
   "metadata": {},
   "outputs": [],
   "source": [
    "# Instantiate StandardScaler\n",
    "scaler_upsampled = StandardScaler()\n",
    "\n",
    "# Fit the scaler\n",
    "scaler_upsampled.fit(X_train_upsampled)\n",
    "\n",
    "# Transform X_train X_val X_test\n",
    "X_train_scaled_upsampled = scaler.transform(X_train_upsampled)\n",
    "X_val_scaled = scaler.transform(X_val_encoded)\n",
    "X_test_scaled = scaler.transform(X_test_encoded)"
   ]
  },
  {
   "cell_type": "markdown",
   "metadata": {},
   "source": [
    "Standard scaling on downsampling dataset"
   ]
  },
  {
   "cell_type": "code",
   "execution_count": 971,
   "metadata": {},
   "outputs": [],
   "source": [
    "# Instantiate StandardScaler\n",
    "scaler_downsampled = StandardScaler()\n",
    "\n",
    "# Fit the scaler\n",
    "scaler_downsampled.fit(X_train_downsampled)\n",
    "\n",
    "# Transform X_train X_val X_test\n",
    "X_train_scaled_downsampled = scaler.transform(X_train_downsampled)\n",
    "X_val_scaled = scaler.transform(X_val_encoded)\n",
    "X_test_scaled = scaler.transform(X_test_encoded)"
   ]
  },
  {
   "cell_type": "markdown",
   "metadata": {},
   "source": [
    "---"
   ]
  },
  {
   "cell_type": "markdown",
   "metadata": {},
   "source": [
    "### 3.6 Feature Selection <a class=\"anchor\" id=\"3f\"></a>"
   ]
  },
  {
   "cell_type": "markdown",
   "metadata": {},
   "source": [
    "By this stage, I will first not do any feature selection."
   ]
  },
  {
   "cell_type": "markdown",
   "metadata": {},
   "source": [
    "---"
   ]
  },
  {
   "cell_type": "markdown",
   "metadata": {},
   "source": [
    "### 3.7 Reducing Dimensionality using PCA  <a class=\"anchor\" id=\"3g\"></a>"
   ]
  },
  {
   "cell_type": "code",
   "execution_count": 972,
   "metadata": {},
   "outputs": [
    {
     "name": "stdout",
     "output_type": "stream",
     "text": [
      "The dimension of X_train_scaled is: (797778, 149)\n"
     ]
    }
   ],
   "source": [
    "# Get the shape of X_train\n",
    "print(f'The dimension of X_train_scaled is: {X_train_scaled_upsampled.shape}')"
   ]
  },
  {
   "cell_type": "markdown",
   "metadata": {},
   "source": [
    "Find and plot the cumulative sum of variance explained by PC."
   ]
  },
  {
   "cell_type": "code",
   "execution_count": 973,
   "metadata": {},
   "outputs": [],
   "source": [
    "# Instantiate PCA with \n",
    "initial_pca = PCA(n_components=0.9)\n",
    "\n",
    "# Fit PCA\n",
    "initial_pca.fit(X_train_scaled)\n",
    "\n",
    "# Transform\n",
    "X_train_pca = initial_pca.transform(X_train_scaled)\n",
    "X_val_pca = initial_pca.transform(X_val_scaled)\n",
    "X_test_pca = initial_pca.transform(X_test_scaled)"
   ]
  },
  {
   "cell_type": "code",
   "execution_count": 974,
   "metadata": {},
   "outputs": [],
   "source": [
    "# Get the number \n",
    "num_pc = initial_pca.n_components_\n",
    "\n",
    "# Calculate the cumsum of explained variance\n",
    "cumsum_pca = initial_pca.explained_variance_ratio_.cumsum()"
   ]
  },
  {
   "cell_type": "code",
   "execution_count": 975,
   "metadata": {},
   "outputs": [
    {
     "data": {
      "image/png": "[encoded data removed]",
      "text/plain": [
       "<Figure size 1000x600 with 1 Axes>"
      ]
     },
     "metadata": {},
     "output_type": "display_data"
    }
   ],
   "source": [
    "# Plot the cumsum of variance explained\n",
    "plt.figure(figsize=(10,6))\n",
    "plt.plot(range(1, num_pc+1), cumsum_pca, marker='.', c='#0066CC')\n",
    "plt.title('Cumulative Explained Variance Ratio of PC')\n",
    "plt.ylabel('Variance Explained (Ratio)')\n",
    "plt.xlabel('Number of Components')\n",
    "plt.xticks(np.arange(0, num_pc+10, 10))\n",
    "\n",
    "plt.show()"
   ]
  },
  {
   "cell_type": "markdown",
   "metadata": {},
   "source": [
    "---"
   ]
  },
  {
   "cell_type": "markdown",
   "metadata": {},
   "source": [
    "## 4. Baseline Modeling  <a class=\"anchor\" id=\"4\"></a>"
   ]
  },
  {
   "cell_type": "markdown",
   "metadata": {},
   "source": [
    "### 1 Logistic Regression  <a class=\"anchor\" id=\"4a\"></a>"
   ]
  },
  {
   "cell_type": "markdown",
   "metadata": {},
   "source": [
    "#### 1.1 Logistic Regression Original (without unsampling, scaling or PCA)"
   ]
  },
  {
   "cell_type": "code",
   "execution_count": 999,
   "metadata": {},
   "outputs": [
    {
     "name": "stdout",
     "output_type": "stream",
     "text": [
      "Confusion matrices: \n",
      "==================================================================\n"
     ]
    },
    {
     "data": {
      "text/plain": [
       "<Figure size 300x300 with 0 Axes>"
      ]
     },
     "metadata": {},
     "output_type": "display_data"
    },
    {
     "data": {
      "image/png": "[encoded data removed]",
      "text/plain": [
       "<Figure size 600x600 with 2 Axes>"
      ]
     },
     "metadata": {},
     "output_type": "display_data"
    },
    {
     "name": "stdout",
     "output_type": "stream",
     "text": [
      "Validation Data classification report:  \n",
      "==================================================================               precision    recall  f1-score   support\n",
      "\n",
      "           0       0.96      0.99      0.97    170953\n",
      "           1       0.57      0.23      0.33      9524\n",
      "\n",
      "    accuracy                           0.95    180477\n",
      "   macro avg       0.76      0.61      0.65    180477\n",
      "weighted avg       0.94      0.95      0.94    180477\n",
      "\n",
      "Accuracy Score:\n",
      "Train: 95.07%\n",
      "Validation: 95.01% \n",
      "==================================================================\n",
      "Precision Score:\n",
      "Train: 58.23%\n",
      "Validation: 56.90% \n",
      "==================================================================\n",
      "Recall Score:\n",
      "Train: 22.96%\n",
      "Validation: 22.76% \n",
      "==================================================================\n",
      "F1 Score:\n",
      "Train: 32.94%\n",
      "Validation: 32.52% \n",
      "==================================================================\n",
      "AUC Score:\n",
      "Train: 61.02%\n",
      "Validation: 60.90% \n",
      "==================================================================\n"
     ]
    }
   ],
   "source": [
    "###############\n",
    "#MODEL FITTING#\n",
    "###############\n",
    "\n",
    "# Original Data\n",
    "logit_original = LogisticRegression(max_iter=1000, random_state=42)\n",
    "logit_original.fit(X_train_encoded, y_train)\n",
    "y_pred_train = logit_original.predict(X_train_encoded)\n",
    "y_pred_val = logit_original.predict(X_val_encoded)\n",
    "\n",
    "\n",
    "##################\n",
    "#Model Evaluation#\n",
    "##################\n",
    "\n",
    "print_line = \"\\n\" + \"===========\" * 6\n",
    "\n",
    "# Confusion Matrix\n",
    "print('Confusion matrices:', print_line)\n",
    "\n",
    "# Display confusion matrices\n",
    "plt.figure(figsize=(3, 3))\n",
    "ConfusionMatrixDisplay.from_estimator(logit_original, X_val_encoded, y_val)\n",
    "plt.title('Validation Data Confusion Matrix')\n",
    "plt.grid(False) \n",
    "plt.show()\n",
    "\n",
    "# Print Classification Reports\n",
    "report_original = classification_report(y_val, y_pred_val)\n",
    "print('Validation Data classification report: ', print_line, report_original)\n",
    "\n",
    "# Print Accuracy Score\n",
    "print('Accuracy Score:')\n",
    "print(f'Train: {accuracy_score(y_train, y_pred_train):.2%}')\n",
    "print(f'Validation: {accuracy_score(y_val, y_pred_val):.2%}', print_line)\n",
    "\n",
    "# Print Precision Score\n",
    "print('Precision Score:')\n",
    "print(f'Train: {precision_score(y_train, y_pred_train):.2%}')\n",
    "print(f'Validation: {precision_score(y_val, y_pred_val):.2%}', print_line)\n",
    "\n",
    "# Print recall Score\n",
    "print('Recall Score:')\n",
    "print(f'Train: {recall_score(y_train, y_pred_train):.2%}')\n",
    "print(f'Validation: {recall_score(y_val, y_pred_val):.2%}', print_line)\n",
    "\n",
    "# Print F1 Score\n",
    "print('F1 Score:')\n",
    "print(f'Train: {f1_score(y_train, y_pred_train):.2%}')\n",
    "print(f'Validation: {f1_score(y_val, y_pred_val):.2%}', print_line)\n",
    "\n",
    "\n",
    "# Print AUC Score\n",
    "print('AUC Score:')\n",
    "print(f'Train: {roc_auc_score(y_train, y_pred_train):.2%}')\n",
    "print(f'Validation: {roc_auc_score(y_val, y_pred_val):.2%}', print_line)\n"
   ]
  },
  {
   "cell_type": "markdown",
   "metadata": {},
   "source": [
    "#### 1.2 Logistic Regression Upsampled (without scaling or PCA)"
   ]
  },
  {
   "cell_type": "code",
   "execution_count": 1001,
   "metadata": {},
   "outputs": [
    {
     "name": "stdout",
     "output_type": "stream",
     "text": [
      "Confusion matrices: \n",
      "==================================================================\n"
     ]
    },
    {
     "data": {
      "text/plain": [
       "<Figure size 300x300 with 0 Axes>"
      ]
     },
     "metadata": {},
     "output_type": "display_data"
    },
    {
     "data": {
      "image/png": "[encoded data removed]",
      "text/plain": [
       "<Figure size 600x600 with 2 Axes>"
      ]
     },
     "metadata": {},
     "output_type": "display_data"
    },
    {
     "name": "stdout",
     "output_type": "stream",
     "text": [
      "Validation Data classification report:  \n",
      "==================================================================               precision    recall  f1-score   support\n",
      "\n",
      "           0       0.98      0.84      0.91    170953\n",
      "           1       0.21      0.76      0.33      9524\n",
      "\n",
      "    accuracy                           0.84    180477\n",
      "   macro avg       0.60      0.80      0.62    180477\n",
      "weighted avg       0.94      0.84      0.88    180477\n",
      "\n",
      "Accuracy Score:\n",
      "Train: 79.78%\n",
      "Validation: 83.84% \n",
      "==================================================================\n",
      "Precision Score:\n",
      "Train: 82.66%\n",
      "Validation: 21.25% \n",
      "==================================================================\n",
      "Recall Score:\n",
      "Train: 75.37%\n",
      "Validation: 76.20% \n",
      "==================================================================\n",
      "F1 Score:\n",
      "Train: 78.85%\n",
      "Validation: 33.23% \n",
      "==================================================================\n",
      "AUC Score:\n",
      "Train: 79.78%\n",
      "Validation: 80.23% \n",
      "==================================================================\n"
     ]
    }
   ],
   "source": [
    "###############\n",
    "#MODEL FITTING#\n",
    "###############\n",
    "\n",
    "# Original Data\n",
    "logit_upsampled = LogisticRegression(max_iter=1000, random_state=42)\n",
    "logit_upsampled.fit(X_train_upsampled, y_train_upsampled)\n",
    "y_pred_train_upsampled = logit_upsampled.predict(X_train_upsampled)\n",
    "y_pred_val = logit_upsampled.predict(X_val_encoded)\n",
    "\n",
    "\n",
    "##################\n",
    "#Model Evaluation#\n",
    "##################\n",
    "\n",
    "print_line = \"\\n\" + \"===========\" * 6\n",
    "\n",
    "# Confusion Matrix\n",
    "print('Confusion matrices:', print_line)\n",
    "\n",
    "# Display confusion matrices\n",
    "plt.figure(figsize=(3, 3))\n",
    "ConfusionMatrixDisplay.from_estimator(logit_upsampled, X_val_encoded, y_val)\n",
    "plt.title('Validation Data Confusion Matrix')\n",
    "plt.grid(False) \n",
    "plt.show()\n",
    "\n",
    "# Print Classification Reports\n",
    "report_original = classification_report(y_val, y_pred_val)\n",
    "print('Validation Data classification report: ', print_line, report_original)\n",
    "\n",
    "# Print Accuracy Score\n",
    "print('Accuracy Score:')\n",
    "print(f'Train: {accuracy_score(y_train_upsampled, y_pred_train_upsampled):.2%}')\n",
    "print(f'Validation: {accuracy_score(y_val, y_pred_val):.2%}', print_line)\n",
    "\n",
    "# Print Precision Score\n",
    "print('Precision Score:')\n",
    "print(f'Train: {precision_score(y_train_upsampled, y_pred_train_upsampled):.2%}')\n",
    "print(f'Validation: {precision_score(y_val, y_pred_val):.2%}', print_line)\n",
    "\n",
    "# Print recall Score\n",
    "print('Recall Score:')\n",
    "print(f'Train: {recall_score(y_train_upsampled, y_pred_train_upsampled):.2%}')\n",
    "print(f'Validation: {recall_score(y_val, y_pred_val):.2%}', print_line)\n",
    "\n",
    "# Print F1 Score\n",
    "print('F1 Score:')\n",
    "print(f'Train: {f1_score(y_train_upsampled, y_pred_train_upsampled):.2%}')\n",
    "print(f'Validation: {f1_score(y_val, y_pred_val):.2%}', print_line)\n",
    "\n",
    "\n",
    "# Print AUC Score\n",
    "print('AUC Score:')\n",
    "print(f'Train: {roc_auc_score(y_train_upsampled, y_pred_train_upsampled):.2%}')\n",
    "print(f'Validation: {roc_auc_score(y_val, y_pred_val):.2%}', print_line)"
   ]
  }
 ],
 "metadata": {
  "kernelspec": {
   "display_name": "heart_attack_prediction_env",
   "language": "python",
   "name": "python3"
  },
  "language_info": {
   "codemirror_mode": {
    "name": "ipython",
    "version": 3
   },
   "file_extension": ".py",
   "mimetype": "text/x-python",
   "name": "python",
   "nbconvert_exporter": "python",
   "pygments_lexer": "ipython3",
   "version": "3.11.5"
  }
 },
 "nbformat": 4,
 "nbformat_minor": 2
}
